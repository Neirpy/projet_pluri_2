{
 "cells": [
  {
   "metadata": {},
   "cell_type": "markdown",
   "source": [
    "### Data Preprocessing for One Arm\n",
    "\n",
    "Il s'agit d'une copie du notebook data_preprocessing.ipynb, pour le modèle utilisant qu'un seul bras.\n",
    "\n",
    "Les étapes ayant été expliquées dans le notebook précédent, nous passerons sur les détails."
   ],
   "id": "8fed17916eaa07f1"
  },
  {
   "metadata": {
    "ExecuteTime": {
     "end_time": "2025-06-05T11:19:56.842894Z",
     "start_time": "2025-06-05T11:19:54.114880Z"
    }
   },
   "cell_type": "code",
   "source": [
    "from IA.exploration_data.concat import *\n",
    "from IA.exploration_data.preprocessing import *\n",
    "from IA.exploration_data.data_viz import *\n",
    "import pandas as pd"
   ],
   "id": "254dee304e91f0b7",
   "outputs": [],
   "execution_count": 1
  },
  {
   "metadata": {
    "ExecuteTime": {
     "end_time": "2025-06-05T11:21:09.138366Z",
     "start_time": "2025-06-05T11:21:09.094354Z"
    }
   },
   "cell_type": "code",
   "source": "df_move, df_speed = find_all_from_directory()",
   "id": "6f7559cd54b66761",
   "outputs": [],
   "execution_count": 2
  },
  {
   "metadata": {},
   "cell_type": "markdown",
   "source": [
    "## Augmentation des données\n",
    "\n",
    "L'augmentation des données est effectuée pour les deux datasets, il duplique chaque ligne avec une translation, un zoom et du bruit aléatoire."
   ],
   "id": "fe48f9ef0cbeac12"
  },
  {
   "metadata": {
    "ExecuteTime": {
     "end_time": "2025-06-05T11:21:16.576960Z",
     "start_time": "2025-06-05T11:21:16.522954Z"
    }
   },
   "cell_type": "code",
   "source": [
    "data_augmentation_move_excluded = [\"Unnamed: 0\",\"id\", \"action\"]\n",
    "df_move_augmented = data_augmentation(df_move, exclude_columns=data_augmentation_move_excluded)"
   ],
   "id": "5c080554753a4102",
   "outputs": [],
   "execution_count": 3
  },
  {
   "metadata": {
    "ExecuteTime": {
     "end_time": "2025-06-05T11:21:39.028666Z",
     "start_time": "2025-06-05T11:21:38.996423Z"
    }
   },
   "cell_type": "code",
   "source": "df_move_augmented.sample(10)",
   "id": "6d082465f6339237",
   "outputs": [
    {
     "data": {
      "text/plain": [
       "      Unnamed: 0    NOSE_X    NOSE_Y  LEFT_EYE_INNER_X  LEFT_EYE_INNER_Y  \\\n",
       "2837          14  0.514255  0.249636          0.523270          0.233507   \n",
       "2964         141  0.510675  0.257513          0.519179          0.246256   \n",
       "1673         732  0.485389  0.278682          0.500972          0.266903   \n",
       "3076         253  0.511401  0.186950          0.516716          0.176211   \n",
       "489          489  0.546381  0.160033          0.558101          0.147205   \n",
       "3191         368  0.519967  0.201665          0.526102          0.190908   \n",
       "1694         753  0.483165  0.294811          0.498928          0.280949   \n",
       "2529         647  0.545900  0.151801          0.555318          0.138174   \n",
       "1790         849  0.489680  0.280698          0.504695          0.269976   \n",
       "3358         535  0.533020  0.244442          0.539853          0.232785   \n",
       "\n",
       "      LEFT_EYE_X  LEFT_EYE_Y  LEFT_EYE_OUTER_X  LEFT_EYE_OUTER_Y  \\\n",
       "2837    0.530033    0.231217          0.536668          0.222740   \n",
       "2964    0.525989    0.244233          0.531375          0.236120   \n",
       "1673    0.498605    0.256027          0.516141          0.260008   \n",
       "3076    0.523285    0.174450          0.528514          0.166989   \n",
       "489     0.564510    0.150579          0.569448          0.154395   \n",
       "3191    0.533215    0.189268          0.539473          0.181672   \n",
       "1694    0.498031    0.270007          0.514805          0.273949   \n",
       "2529    0.561095    0.139820          0.566764          0.141219   \n",
       "1790    0.501520    0.259411          0.518761          0.263505   \n",
       "3358    0.545648    0.228457          0.551610          0.217689   \n",
       "\n",
       "      RIGHT_EYE_INNER_X  ...  LEFT_HEEL_X  LEFT_HEEL_Y  RIGHT_HEEL_X  \\\n",
       "2837           0.509185  ...     0.569083     1.144515      0.468428   \n",
       "2964           0.507990  ...     0.558981     1.158721      0.416953   \n",
       "1673           0.478995  ...     0.545609     1.288551      0.435724   \n",
       "3076           0.505561  ...     0.582126     1.074384      0.475760   \n",
       "489            0.540277  ...     0.521946     1.170815      0.405412   \n",
       "3191           0.514903  ...     0.603307     1.122595      0.487917   \n",
       "1694           0.477345  ...     0.540540     1.350530      0.440192   \n",
       "2529           0.537245  ...     0.621632     1.124465      0.481011   \n",
       "1790           0.483652  ...     0.535169     1.288055      0.451826   \n",
       "3358           0.533366  ...     0.509826     1.118993      0.623351   \n",
       "\n",
       "      RIGHT_HEEL_Y  LEFT_FOOT_INDEX_X  LEFT_FOOT_INDEX_Y  RIGHT_FOOT_INDEX_X  \\\n",
       "2837      1.159307           0.585021           1.193968            0.468940   \n",
       "2964      1.121465           0.576133           1.203431            0.388801   \n",
       "1673      1.268845           0.529473           1.341945            0.446385   \n",
       "3076      1.110530           0.597387           1.113543            0.475073   \n",
       "489       1.153609           0.541121           1.222591            0.387652   \n",
       "3191      1.154018           0.607767           1.163310            0.486281   \n",
       "1694      1.358223           0.524495           1.408081            0.455038   \n",
       "2529      1.143005           0.637392           1.163834            0.472334   \n",
       "1790      1.283687           0.513802           1.340036            0.457225   \n",
       "3358      1.088590           0.441203           1.155753            0.572582   \n",
       "\n",
       "      RIGHT_FOOT_INDEX_Y  id          action  \n",
       "2837            1.201815   1         ARRIERE  \n",
       "2964            1.158475   3           AVANT  \n",
       "1673            1.320073   3  TOURNER_DROITE  \n",
       "3076            1.153529   4          DROITE  \n",
       "489             1.200745   4          NEUTRE  \n",
       "3191            1.189696   4          GAUCHE  \n",
       "1694            1.416282   5  TOURNER_DROITE  \n",
       "2529            1.182528   6        SURPRISE  \n",
       "1790            1.334060   3  TOURNER_GAUCHE  \n",
       "3358            1.109925   7          NEUTRE  \n",
       "\n",
       "[10 rows x 69 columns]"
      ],
      "text/html": [
       "<div>\n",
       "<style scoped>\n",
       "    .dataframe tbody tr th:only-of-type {\n",
       "        vertical-align: middle;\n",
       "    }\n",
       "\n",
       "    .dataframe tbody tr th {\n",
       "        vertical-align: top;\n",
       "    }\n",
       "\n",
       "    .dataframe thead th {\n",
       "        text-align: right;\n",
       "    }\n",
       "</style>\n",
       "<table border=\"1\" class=\"dataframe\">\n",
       "  <thead>\n",
       "    <tr style=\"text-align: right;\">\n",
       "      <th></th>\n",
       "      <th>Unnamed: 0</th>\n",
       "      <th>NOSE_X</th>\n",
       "      <th>NOSE_Y</th>\n",
       "      <th>LEFT_EYE_INNER_X</th>\n",
       "      <th>LEFT_EYE_INNER_Y</th>\n",
       "      <th>LEFT_EYE_X</th>\n",
       "      <th>LEFT_EYE_Y</th>\n",
       "      <th>LEFT_EYE_OUTER_X</th>\n",
       "      <th>LEFT_EYE_OUTER_Y</th>\n",
       "      <th>RIGHT_EYE_INNER_X</th>\n",
       "      <th>...</th>\n",
       "      <th>LEFT_HEEL_X</th>\n",
       "      <th>LEFT_HEEL_Y</th>\n",
       "      <th>RIGHT_HEEL_X</th>\n",
       "      <th>RIGHT_HEEL_Y</th>\n",
       "      <th>LEFT_FOOT_INDEX_X</th>\n",
       "      <th>LEFT_FOOT_INDEX_Y</th>\n",
       "      <th>RIGHT_FOOT_INDEX_X</th>\n",
       "      <th>RIGHT_FOOT_INDEX_Y</th>\n",
       "      <th>id</th>\n",
       "      <th>action</th>\n",
       "    </tr>\n",
       "  </thead>\n",
       "  <tbody>\n",
       "    <tr>\n",
       "      <th>2837</th>\n",
       "      <td>14</td>\n",
       "      <td>0.514255</td>\n",
       "      <td>0.249636</td>\n",
       "      <td>0.523270</td>\n",
       "      <td>0.233507</td>\n",
       "      <td>0.530033</td>\n",
       "      <td>0.231217</td>\n",
       "      <td>0.536668</td>\n",
       "      <td>0.222740</td>\n",
       "      <td>0.509185</td>\n",
       "      <td>...</td>\n",
       "      <td>0.569083</td>\n",
       "      <td>1.144515</td>\n",
       "      <td>0.468428</td>\n",
       "      <td>1.159307</td>\n",
       "      <td>0.585021</td>\n",
       "      <td>1.193968</td>\n",
       "      <td>0.468940</td>\n",
       "      <td>1.201815</td>\n",
       "      <td>1</td>\n",
       "      <td>ARRIERE</td>\n",
       "    </tr>\n",
       "    <tr>\n",
       "      <th>2964</th>\n",
       "      <td>141</td>\n",
       "      <td>0.510675</td>\n",
       "      <td>0.257513</td>\n",
       "      <td>0.519179</td>\n",
       "      <td>0.246256</td>\n",
       "      <td>0.525989</td>\n",
       "      <td>0.244233</td>\n",
       "      <td>0.531375</td>\n",
       "      <td>0.236120</td>\n",
       "      <td>0.507990</td>\n",
       "      <td>...</td>\n",
       "      <td>0.558981</td>\n",
       "      <td>1.158721</td>\n",
       "      <td>0.416953</td>\n",
       "      <td>1.121465</td>\n",
       "      <td>0.576133</td>\n",
       "      <td>1.203431</td>\n",
       "      <td>0.388801</td>\n",
       "      <td>1.158475</td>\n",
       "      <td>3</td>\n",
       "      <td>AVANT</td>\n",
       "    </tr>\n",
       "    <tr>\n",
       "      <th>1673</th>\n",
       "      <td>732</td>\n",
       "      <td>0.485389</td>\n",
       "      <td>0.278682</td>\n",
       "      <td>0.500972</td>\n",
       "      <td>0.266903</td>\n",
       "      <td>0.498605</td>\n",
       "      <td>0.256027</td>\n",
       "      <td>0.516141</td>\n",
       "      <td>0.260008</td>\n",
       "      <td>0.478995</td>\n",
       "      <td>...</td>\n",
       "      <td>0.545609</td>\n",
       "      <td>1.288551</td>\n",
       "      <td>0.435724</td>\n",
       "      <td>1.268845</td>\n",
       "      <td>0.529473</td>\n",
       "      <td>1.341945</td>\n",
       "      <td>0.446385</td>\n",
       "      <td>1.320073</td>\n",
       "      <td>3</td>\n",
       "      <td>TOURNER_DROITE</td>\n",
       "    </tr>\n",
       "    <tr>\n",
       "      <th>3076</th>\n",
       "      <td>253</td>\n",
       "      <td>0.511401</td>\n",
       "      <td>0.186950</td>\n",
       "      <td>0.516716</td>\n",
       "      <td>0.176211</td>\n",
       "      <td>0.523285</td>\n",
       "      <td>0.174450</td>\n",
       "      <td>0.528514</td>\n",
       "      <td>0.166989</td>\n",
       "      <td>0.505561</td>\n",
       "      <td>...</td>\n",
       "      <td>0.582126</td>\n",
       "      <td>1.074384</td>\n",
       "      <td>0.475760</td>\n",
       "      <td>1.110530</td>\n",
       "      <td>0.597387</td>\n",
       "      <td>1.113543</td>\n",
       "      <td>0.475073</td>\n",
       "      <td>1.153529</td>\n",
       "      <td>4</td>\n",
       "      <td>DROITE</td>\n",
       "    </tr>\n",
       "    <tr>\n",
       "      <th>489</th>\n",
       "      <td>489</td>\n",
       "      <td>0.546381</td>\n",
       "      <td>0.160033</td>\n",
       "      <td>0.558101</td>\n",
       "      <td>0.147205</td>\n",
       "      <td>0.564510</td>\n",
       "      <td>0.150579</td>\n",
       "      <td>0.569448</td>\n",
       "      <td>0.154395</td>\n",
       "      <td>0.540277</td>\n",
       "      <td>...</td>\n",
       "      <td>0.521946</td>\n",
       "      <td>1.170815</td>\n",
       "      <td>0.405412</td>\n",
       "      <td>1.153609</td>\n",
       "      <td>0.541121</td>\n",
       "      <td>1.222591</td>\n",
       "      <td>0.387652</td>\n",
       "      <td>1.200745</td>\n",
       "      <td>4</td>\n",
       "      <td>NEUTRE</td>\n",
       "    </tr>\n",
       "    <tr>\n",
       "      <th>3191</th>\n",
       "      <td>368</td>\n",
       "      <td>0.519967</td>\n",
       "      <td>0.201665</td>\n",
       "      <td>0.526102</td>\n",
       "      <td>0.190908</td>\n",
       "      <td>0.533215</td>\n",
       "      <td>0.189268</td>\n",
       "      <td>0.539473</td>\n",
       "      <td>0.181672</td>\n",
       "      <td>0.514903</td>\n",
       "      <td>...</td>\n",
       "      <td>0.603307</td>\n",
       "      <td>1.122595</td>\n",
       "      <td>0.487917</td>\n",
       "      <td>1.154018</td>\n",
       "      <td>0.607767</td>\n",
       "      <td>1.163310</td>\n",
       "      <td>0.486281</td>\n",
       "      <td>1.189696</td>\n",
       "      <td>4</td>\n",
       "      <td>GAUCHE</td>\n",
       "    </tr>\n",
       "    <tr>\n",
       "      <th>1694</th>\n",
       "      <td>753</td>\n",
       "      <td>0.483165</td>\n",
       "      <td>0.294811</td>\n",
       "      <td>0.498928</td>\n",
       "      <td>0.280949</td>\n",
       "      <td>0.498031</td>\n",
       "      <td>0.270007</td>\n",
       "      <td>0.514805</td>\n",
       "      <td>0.273949</td>\n",
       "      <td>0.477345</td>\n",
       "      <td>...</td>\n",
       "      <td>0.540540</td>\n",
       "      <td>1.350530</td>\n",
       "      <td>0.440192</td>\n",
       "      <td>1.358223</td>\n",
       "      <td>0.524495</td>\n",
       "      <td>1.408081</td>\n",
       "      <td>0.455038</td>\n",
       "      <td>1.416282</td>\n",
       "      <td>5</td>\n",
       "      <td>TOURNER_DROITE</td>\n",
       "    </tr>\n",
       "    <tr>\n",
       "      <th>2529</th>\n",
       "      <td>647</td>\n",
       "      <td>0.545900</td>\n",
       "      <td>0.151801</td>\n",
       "      <td>0.555318</td>\n",
       "      <td>0.138174</td>\n",
       "      <td>0.561095</td>\n",
       "      <td>0.139820</td>\n",
       "      <td>0.566764</td>\n",
       "      <td>0.141219</td>\n",
       "      <td>0.537245</td>\n",
       "      <td>...</td>\n",
       "      <td>0.621632</td>\n",
       "      <td>1.124465</td>\n",
       "      <td>0.481011</td>\n",
       "      <td>1.143005</td>\n",
       "      <td>0.637392</td>\n",
       "      <td>1.163834</td>\n",
       "      <td>0.472334</td>\n",
       "      <td>1.182528</td>\n",
       "      <td>6</td>\n",
       "      <td>SURPRISE</td>\n",
       "    </tr>\n",
       "    <tr>\n",
       "      <th>1790</th>\n",
       "      <td>849</td>\n",
       "      <td>0.489680</td>\n",
       "      <td>0.280698</td>\n",
       "      <td>0.504695</td>\n",
       "      <td>0.269976</td>\n",
       "      <td>0.501520</td>\n",
       "      <td>0.259411</td>\n",
       "      <td>0.518761</td>\n",
       "      <td>0.263505</td>\n",
       "      <td>0.483652</td>\n",
       "      <td>...</td>\n",
       "      <td>0.535169</td>\n",
       "      <td>1.288055</td>\n",
       "      <td>0.451826</td>\n",
       "      <td>1.283687</td>\n",
       "      <td>0.513802</td>\n",
       "      <td>1.340036</td>\n",
       "      <td>0.457225</td>\n",
       "      <td>1.334060</td>\n",
       "      <td>3</td>\n",
       "      <td>TOURNER_GAUCHE</td>\n",
       "    </tr>\n",
       "    <tr>\n",
       "      <th>3358</th>\n",
       "      <td>535</td>\n",
       "      <td>0.533020</td>\n",
       "      <td>0.244442</td>\n",
       "      <td>0.539853</td>\n",
       "      <td>0.232785</td>\n",
       "      <td>0.545648</td>\n",
       "      <td>0.228457</td>\n",
       "      <td>0.551610</td>\n",
       "      <td>0.217689</td>\n",
       "      <td>0.533366</td>\n",
       "      <td>...</td>\n",
       "      <td>0.509826</td>\n",
       "      <td>1.118993</td>\n",
       "      <td>0.623351</td>\n",
       "      <td>1.088590</td>\n",
       "      <td>0.441203</td>\n",
       "      <td>1.155753</td>\n",
       "      <td>0.572582</td>\n",
       "      <td>1.109925</td>\n",
       "      <td>7</td>\n",
       "      <td>NEUTRE</td>\n",
       "    </tr>\n",
       "  </tbody>\n",
       "</table>\n",
       "<p>10 rows × 69 columns</p>\n",
       "</div>"
      ]
     },
     "execution_count": 4,
     "metadata": {},
     "output_type": "execute_result"
    }
   ],
   "execution_count": 4
  },
  {
   "metadata": {
    "ExecuteTime": {
     "end_time": "2025-06-05T11:21:47.009335Z",
     "start_time": "2025-06-05T11:21:46.896275Z"
    }
   },
   "cell_type": "code",
   "source": "df_move_augmented.describe()",
   "id": "beaf7ebd33f87423",
   "outputs": [
    {
     "data": {
      "text/plain": [
       "       Unnamed: 0       NOSE_X       NOSE_Y  LEFT_EYE_INNER_X  \\\n",
       "count  3764.00000  3764.000000  3764.000000       3764.000000   \n",
       "mean    470.00000     0.511504     0.245614          0.520849   \n",
       "std     271.67924     0.038122     0.067223          0.038375   \n",
       "min       0.00000     0.363222     0.047230          0.371250   \n",
       "25%     235.00000     0.484208     0.196302          0.494281   \n",
       "50%     470.00000     0.517560     0.240643          0.525773   \n",
       "75%     705.00000     0.539573     0.285317          0.548609   \n",
       "max     940.00000     0.631990     0.459050          0.642966   \n",
       "\n",
       "       LEFT_EYE_INNER_Y   LEFT_EYE_X   LEFT_EYE_Y  LEFT_EYE_OUTER_X  \\\n",
       "count       3764.000000  3764.000000  3764.000000       3764.000000   \n",
       "mean           0.231197     0.524758     0.228251          0.533017   \n",
       "std            0.068744     0.038592     0.068620          0.038915   \n",
       "min            0.020704     0.377187     0.022132          0.384632   \n",
       "25%            0.180341     0.498182     0.177383          0.505934   \n",
       "50%            0.225452     0.529279     0.221664          0.536952   \n",
       "75%            0.270778     0.552852     0.267329          0.561530   \n",
       "max            0.453644     0.647490     0.452453          0.653459   \n",
       "\n",
       "       LEFT_EYE_OUTER_Y  RIGHT_EYE_INNER_X  ...  RIGHT_ANKLE_Y  LEFT_HEEL_X  \\\n",
       "count       3764.000000        3764.000000  ...    3764.000000  3764.000000   \n",
       "mean           0.227682           0.504198  ...       1.122816     0.557218   \n",
       "std            0.068551           0.038153  ...       0.093979     0.043746   \n",
       "min            0.023990           0.355492  ...       0.869727     0.428682   \n",
       "25%            0.176735           0.477553  ...       1.071241     0.526693   \n",
       "50%            0.220869           0.510453  ...       1.100596     0.565189   \n",
       "75%            0.266049           0.531778  ...       1.149901     0.589058   \n",
       "max            0.450590           0.625839  ...       1.421768     0.696936   \n",
       "\n",
       "       LEFT_HEEL_Y  RIGHT_HEEL_X  RIGHT_HEEL_Y  LEFT_FOOT_INDEX_X  \\\n",
       "count  3764.000000   3764.000000   3764.000000        3764.000000   \n",
       "mean      1.157924      0.464555      1.153997           0.559324   \n",
       "std       0.099338      0.046696      0.096757           0.049003   \n",
       "min       0.874126      0.331925      0.851541           0.439934   \n",
       "25%       1.103759      0.428517      1.101471           0.519380   \n",
       "50%       1.139380      0.473670      1.130914           0.573654   \n",
       "75%       1.190720      0.495518      1.182105           0.593677   \n",
       "max       1.462839      0.631675      1.466763           0.717659   \n",
       "\n",
       "       LEFT_FOOT_INDEX_Y  RIGHT_FOOT_INDEX_X  RIGHT_FOOT_INDEX_Y           id  \n",
       "count        3764.000000         3764.000000         3764.000000  3764.000000  \n",
       "mean            1.208758            0.462332            1.205523     4.916047  \n",
       "std             0.097623            0.044531            0.094631     3.035159  \n",
       "min             0.946031            0.336595            0.930244     0.000000  \n",
       "25%             1.153408            0.433912            1.150647     2.000000  \n",
       "50%             1.189372            0.466263            1.181190     5.000000  \n",
       "75%             1.238823            0.492604            1.230721     7.000000  \n",
       "max             1.518022            0.607560            1.522121    10.000000  \n",
       "\n",
       "[8 rows x 68 columns]"
      ],
      "text/html": [
       "<div>\n",
       "<style scoped>\n",
       "    .dataframe tbody tr th:only-of-type {\n",
       "        vertical-align: middle;\n",
       "    }\n",
       "\n",
       "    .dataframe tbody tr th {\n",
       "        vertical-align: top;\n",
       "    }\n",
       "\n",
       "    .dataframe thead th {\n",
       "        text-align: right;\n",
       "    }\n",
       "</style>\n",
       "<table border=\"1\" class=\"dataframe\">\n",
       "  <thead>\n",
       "    <tr style=\"text-align: right;\">\n",
       "      <th></th>\n",
       "      <th>Unnamed: 0</th>\n",
       "      <th>NOSE_X</th>\n",
       "      <th>NOSE_Y</th>\n",
       "      <th>LEFT_EYE_INNER_X</th>\n",
       "      <th>LEFT_EYE_INNER_Y</th>\n",
       "      <th>LEFT_EYE_X</th>\n",
       "      <th>LEFT_EYE_Y</th>\n",
       "      <th>LEFT_EYE_OUTER_X</th>\n",
       "      <th>LEFT_EYE_OUTER_Y</th>\n",
       "      <th>RIGHT_EYE_INNER_X</th>\n",
       "      <th>...</th>\n",
       "      <th>RIGHT_ANKLE_Y</th>\n",
       "      <th>LEFT_HEEL_X</th>\n",
       "      <th>LEFT_HEEL_Y</th>\n",
       "      <th>RIGHT_HEEL_X</th>\n",
       "      <th>RIGHT_HEEL_Y</th>\n",
       "      <th>LEFT_FOOT_INDEX_X</th>\n",
       "      <th>LEFT_FOOT_INDEX_Y</th>\n",
       "      <th>RIGHT_FOOT_INDEX_X</th>\n",
       "      <th>RIGHT_FOOT_INDEX_Y</th>\n",
       "      <th>id</th>\n",
       "    </tr>\n",
       "  </thead>\n",
       "  <tbody>\n",
       "    <tr>\n",
       "      <th>count</th>\n",
       "      <td>3764.00000</td>\n",
       "      <td>3764.000000</td>\n",
       "      <td>3764.000000</td>\n",
       "      <td>3764.000000</td>\n",
       "      <td>3764.000000</td>\n",
       "      <td>3764.000000</td>\n",
       "      <td>3764.000000</td>\n",
       "      <td>3764.000000</td>\n",
       "      <td>3764.000000</td>\n",
       "      <td>3764.000000</td>\n",
       "      <td>...</td>\n",
       "      <td>3764.000000</td>\n",
       "      <td>3764.000000</td>\n",
       "      <td>3764.000000</td>\n",
       "      <td>3764.000000</td>\n",
       "      <td>3764.000000</td>\n",
       "      <td>3764.000000</td>\n",
       "      <td>3764.000000</td>\n",
       "      <td>3764.000000</td>\n",
       "      <td>3764.000000</td>\n",
       "      <td>3764.000000</td>\n",
       "    </tr>\n",
       "    <tr>\n",
       "      <th>mean</th>\n",
       "      <td>470.00000</td>\n",
       "      <td>0.511504</td>\n",
       "      <td>0.245614</td>\n",
       "      <td>0.520849</td>\n",
       "      <td>0.231197</td>\n",
       "      <td>0.524758</td>\n",
       "      <td>0.228251</td>\n",
       "      <td>0.533017</td>\n",
       "      <td>0.227682</td>\n",
       "      <td>0.504198</td>\n",
       "      <td>...</td>\n",
       "      <td>1.122816</td>\n",
       "      <td>0.557218</td>\n",
       "      <td>1.157924</td>\n",
       "      <td>0.464555</td>\n",
       "      <td>1.153997</td>\n",
       "      <td>0.559324</td>\n",
       "      <td>1.208758</td>\n",
       "      <td>0.462332</td>\n",
       "      <td>1.205523</td>\n",
       "      <td>4.916047</td>\n",
       "    </tr>\n",
       "    <tr>\n",
       "      <th>std</th>\n",
       "      <td>271.67924</td>\n",
       "      <td>0.038122</td>\n",
       "      <td>0.067223</td>\n",
       "      <td>0.038375</td>\n",
       "      <td>0.068744</td>\n",
       "      <td>0.038592</td>\n",
       "      <td>0.068620</td>\n",
       "      <td>0.038915</td>\n",
       "      <td>0.068551</td>\n",
       "      <td>0.038153</td>\n",
       "      <td>...</td>\n",
       "      <td>0.093979</td>\n",
       "      <td>0.043746</td>\n",
       "      <td>0.099338</td>\n",
       "      <td>0.046696</td>\n",
       "      <td>0.096757</td>\n",
       "      <td>0.049003</td>\n",
       "      <td>0.097623</td>\n",
       "      <td>0.044531</td>\n",
       "      <td>0.094631</td>\n",
       "      <td>3.035159</td>\n",
       "    </tr>\n",
       "    <tr>\n",
       "      <th>min</th>\n",
       "      <td>0.00000</td>\n",
       "      <td>0.363222</td>\n",
       "      <td>0.047230</td>\n",
       "      <td>0.371250</td>\n",
       "      <td>0.020704</td>\n",
       "      <td>0.377187</td>\n",
       "      <td>0.022132</td>\n",
       "      <td>0.384632</td>\n",
       "      <td>0.023990</td>\n",
       "      <td>0.355492</td>\n",
       "      <td>...</td>\n",
       "      <td>0.869727</td>\n",
       "      <td>0.428682</td>\n",
       "      <td>0.874126</td>\n",
       "      <td>0.331925</td>\n",
       "      <td>0.851541</td>\n",
       "      <td>0.439934</td>\n",
       "      <td>0.946031</td>\n",
       "      <td>0.336595</td>\n",
       "      <td>0.930244</td>\n",
       "      <td>0.000000</td>\n",
       "    </tr>\n",
       "    <tr>\n",
       "      <th>25%</th>\n",
       "      <td>235.00000</td>\n",
       "      <td>0.484208</td>\n",
       "      <td>0.196302</td>\n",
       "      <td>0.494281</td>\n",
       "      <td>0.180341</td>\n",
       "      <td>0.498182</td>\n",
       "      <td>0.177383</td>\n",
       "      <td>0.505934</td>\n",
       "      <td>0.176735</td>\n",
       "      <td>0.477553</td>\n",
       "      <td>...</td>\n",
       "      <td>1.071241</td>\n",
       "      <td>0.526693</td>\n",
       "      <td>1.103759</td>\n",
       "      <td>0.428517</td>\n",
       "      <td>1.101471</td>\n",
       "      <td>0.519380</td>\n",
       "      <td>1.153408</td>\n",
       "      <td>0.433912</td>\n",
       "      <td>1.150647</td>\n",
       "      <td>2.000000</td>\n",
       "    </tr>\n",
       "    <tr>\n",
       "      <th>50%</th>\n",
       "      <td>470.00000</td>\n",
       "      <td>0.517560</td>\n",
       "      <td>0.240643</td>\n",
       "      <td>0.525773</td>\n",
       "      <td>0.225452</td>\n",
       "      <td>0.529279</td>\n",
       "      <td>0.221664</td>\n",
       "      <td>0.536952</td>\n",
       "      <td>0.220869</td>\n",
       "      <td>0.510453</td>\n",
       "      <td>...</td>\n",
       "      <td>1.100596</td>\n",
       "      <td>0.565189</td>\n",
       "      <td>1.139380</td>\n",
       "      <td>0.473670</td>\n",
       "      <td>1.130914</td>\n",
       "      <td>0.573654</td>\n",
       "      <td>1.189372</td>\n",
       "      <td>0.466263</td>\n",
       "      <td>1.181190</td>\n",
       "      <td>5.000000</td>\n",
       "    </tr>\n",
       "    <tr>\n",
       "      <th>75%</th>\n",
       "      <td>705.00000</td>\n",
       "      <td>0.539573</td>\n",
       "      <td>0.285317</td>\n",
       "      <td>0.548609</td>\n",
       "      <td>0.270778</td>\n",
       "      <td>0.552852</td>\n",
       "      <td>0.267329</td>\n",
       "      <td>0.561530</td>\n",
       "      <td>0.266049</td>\n",
       "      <td>0.531778</td>\n",
       "      <td>...</td>\n",
       "      <td>1.149901</td>\n",
       "      <td>0.589058</td>\n",
       "      <td>1.190720</td>\n",
       "      <td>0.495518</td>\n",
       "      <td>1.182105</td>\n",
       "      <td>0.593677</td>\n",
       "      <td>1.238823</td>\n",
       "      <td>0.492604</td>\n",
       "      <td>1.230721</td>\n",
       "      <td>7.000000</td>\n",
       "    </tr>\n",
       "    <tr>\n",
       "      <th>max</th>\n",
       "      <td>940.00000</td>\n",
       "      <td>0.631990</td>\n",
       "      <td>0.459050</td>\n",
       "      <td>0.642966</td>\n",
       "      <td>0.453644</td>\n",
       "      <td>0.647490</td>\n",
       "      <td>0.452453</td>\n",
       "      <td>0.653459</td>\n",
       "      <td>0.450590</td>\n",
       "      <td>0.625839</td>\n",
       "      <td>...</td>\n",
       "      <td>1.421768</td>\n",
       "      <td>0.696936</td>\n",
       "      <td>1.462839</td>\n",
       "      <td>0.631675</td>\n",
       "      <td>1.466763</td>\n",
       "      <td>0.717659</td>\n",
       "      <td>1.518022</td>\n",
       "      <td>0.607560</td>\n",
       "      <td>1.522121</td>\n",
       "      <td>10.000000</td>\n",
       "    </tr>\n",
       "  </tbody>\n",
       "</table>\n",
       "<p>8 rows × 68 columns</p>\n",
       "</div>"
      ]
     },
     "execution_count": 5,
     "metadata": {},
     "output_type": "execute_result"
    }
   ],
   "execution_count": 5
  },
  {
   "metadata": {},
   "cell_type": "markdown",
   "source": "## Remove unused columns",
   "id": "8dc7fe3a96adfea7"
  },
  {
   "metadata": {
    "ExecuteTime": {
     "end_time": "2025-06-05T11:21:51.807597Z",
     "start_time": "2025-06-05T11:21:51.793354Z"
    }
   },
   "cell_type": "code",
   "source": "df_move_augmented.drop([\"Unnamed: 0\",\"id\"], axis=1, inplace=True)",
   "id": "4dbfae8fb35621b5",
   "outputs": [],
   "execution_count": 6
  },
  {
   "metadata": {
    "ExecuteTime": {
     "end_time": "2025-06-05T11:21:54.491618Z",
     "start_time": "2025-06-05T11:21:54.462137Z"
    }
   },
   "cell_type": "code",
   "source": "df_move_augmented.head()",
   "id": "15765b897f3e69f5",
   "outputs": [
    {
     "data": {
      "text/plain": [
       "     NOSE_X    NOSE_Y  LEFT_EYE_INNER_X  LEFT_EYE_INNER_Y  LEFT_EYE_X  \\\n",
       "0  0.490381  0.131185          0.498357          0.110118    0.504408   \n",
       "1  0.494519  0.134019          0.502797          0.112299    0.509323   \n",
       "2  0.489306  0.131105          0.498145          0.109810    0.502453   \n",
       "3  0.483915  0.133162          0.494371          0.111272    0.499602   \n",
       "4  0.483415  0.130110          0.493138          0.108554    0.498816   \n",
       "\n",
       "   LEFT_EYE_Y  LEFT_EYE_OUTER_X  LEFT_EYE_OUTER_Y  RIGHT_EYE_INNER_X  \\\n",
       "0    0.111410          0.510745          0.113147           0.479757   \n",
       "1    0.113562          0.515219          0.115073           0.484725   \n",
       "2    0.111129          0.507798          0.112529           0.478851   \n",
       "3    0.112255          0.504288          0.113465           0.474539   \n",
       "4    0.109686          0.503691          0.110277           0.473574   \n",
       "\n",
       "   RIGHT_EYE_INNER_Y  ...  RIGHT_ANKLE_Y  LEFT_HEEL_X  LEFT_HEEL_Y  \\\n",
       "0           0.107435  ...       1.092368     0.521792     1.122872   \n",
       "1           0.109191  ...       1.100544     0.516726     1.128146   \n",
       "2           0.107802  ...       1.094020     0.517282     1.125394   \n",
       "3           0.110204  ...       1.088711     0.520803     1.122163   \n",
       "4           0.107391  ...       1.099388     0.520713     1.132812   \n",
       "\n",
       "   RIGHT_HEEL_X  RIGHT_HEEL_Y  LEFT_FOOT_INDEX_X  LEFT_FOOT_INDEX_Y  \\\n",
       "0      0.473666      1.123001           0.535662           1.172861   \n",
       "1      0.469996      1.128887           0.538591           1.172091   \n",
       "2      0.474969      1.124029           0.525588           1.179502   \n",
       "3      0.473989      1.114834           0.536208           1.173508   \n",
       "4      0.474742      1.129656           0.529765           1.186548   \n",
       "\n",
       "   RIGHT_FOOT_INDEX_X  RIGHT_FOOT_INDEX_Y   action  \n",
       "0            0.473977            1.175862  ARRIERE  \n",
       "1            0.466096            1.179837  ARRIERE  \n",
       "2            0.458975            1.173279  ARRIERE  \n",
       "3            0.465018            1.168497  ARRIERE  \n",
       "4            0.470125            1.179825  ARRIERE  \n",
       "\n",
       "[5 rows x 67 columns]"
      ],
      "text/html": [
       "<div>\n",
       "<style scoped>\n",
       "    .dataframe tbody tr th:only-of-type {\n",
       "        vertical-align: middle;\n",
       "    }\n",
       "\n",
       "    .dataframe tbody tr th {\n",
       "        vertical-align: top;\n",
       "    }\n",
       "\n",
       "    .dataframe thead th {\n",
       "        text-align: right;\n",
       "    }\n",
       "</style>\n",
       "<table border=\"1\" class=\"dataframe\">\n",
       "  <thead>\n",
       "    <tr style=\"text-align: right;\">\n",
       "      <th></th>\n",
       "      <th>NOSE_X</th>\n",
       "      <th>NOSE_Y</th>\n",
       "      <th>LEFT_EYE_INNER_X</th>\n",
       "      <th>LEFT_EYE_INNER_Y</th>\n",
       "      <th>LEFT_EYE_X</th>\n",
       "      <th>LEFT_EYE_Y</th>\n",
       "      <th>LEFT_EYE_OUTER_X</th>\n",
       "      <th>LEFT_EYE_OUTER_Y</th>\n",
       "      <th>RIGHT_EYE_INNER_X</th>\n",
       "      <th>RIGHT_EYE_INNER_Y</th>\n",
       "      <th>...</th>\n",
       "      <th>RIGHT_ANKLE_Y</th>\n",
       "      <th>LEFT_HEEL_X</th>\n",
       "      <th>LEFT_HEEL_Y</th>\n",
       "      <th>RIGHT_HEEL_X</th>\n",
       "      <th>RIGHT_HEEL_Y</th>\n",
       "      <th>LEFT_FOOT_INDEX_X</th>\n",
       "      <th>LEFT_FOOT_INDEX_Y</th>\n",
       "      <th>RIGHT_FOOT_INDEX_X</th>\n",
       "      <th>RIGHT_FOOT_INDEX_Y</th>\n",
       "      <th>action</th>\n",
       "    </tr>\n",
       "  </thead>\n",
       "  <tbody>\n",
       "    <tr>\n",
       "      <th>0</th>\n",
       "      <td>0.490381</td>\n",
       "      <td>0.131185</td>\n",
       "      <td>0.498357</td>\n",
       "      <td>0.110118</td>\n",
       "      <td>0.504408</td>\n",
       "      <td>0.111410</td>\n",
       "      <td>0.510745</td>\n",
       "      <td>0.113147</td>\n",
       "      <td>0.479757</td>\n",
       "      <td>0.107435</td>\n",
       "      <td>...</td>\n",
       "      <td>1.092368</td>\n",
       "      <td>0.521792</td>\n",
       "      <td>1.122872</td>\n",
       "      <td>0.473666</td>\n",
       "      <td>1.123001</td>\n",
       "      <td>0.535662</td>\n",
       "      <td>1.172861</td>\n",
       "      <td>0.473977</td>\n",
       "      <td>1.175862</td>\n",
       "      <td>ARRIERE</td>\n",
       "    </tr>\n",
       "    <tr>\n",
       "      <th>1</th>\n",
       "      <td>0.494519</td>\n",
       "      <td>0.134019</td>\n",
       "      <td>0.502797</td>\n",
       "      <td>0.112299</td>\n",
       "      <td>0.509323</td>\n",
       "      <td>0.113562</td>\n",
       "      <td>0.515219</td>\n",
       "      <td>0.115073</td>\n",
       "      <td>0.484725</td>\n",
       "      <td>0.109191</td>\n",
       "      <td>...</td>\n",
       "      <td>1.100544</td>\n",
       "      <td>0.516726</td>\n",
       "      <td>1.128146</td>\n",
       "      <td>0.469996</td>\n",
       "      <td>1.128887</td>\n",
       "      <td>0.538591</td>\n",
       "      <td>1.172091</td>\n",
       "      <td>0.466096</td>\n",
       "      <td>1.179837</td>\n",
       "      <td>ARRIERE</td>\n",
       "    </tr>\n",
       "    <tr>\n",
       "      <th>2</th>\n",
       "      <td>0.489306</td>\n",
       "      <td>0.131105</td>\n",
       "      <td>0.498145</td>\n",
       "      <td>0.109810</td>\n",
       "      <td>0.502453</td>\n",
       "      <td>0.111129</td>\n",
       "      <td>0.507798</td>\n",
       "      <td>0.112529</td>\n",
       "      <td>0.478851</td>\n",
       "      <td>0.107802</td>\n",
       "      <td>...</td>\n",
       "      <td>1.094020</td>\n",
       "      <td>0.517282</td>\n",
       "      <td>1.125394</td>\n",
       "      <td>0.474969</td>\n",
       "      <td>1.124029</td>\n",
       "      <td>0.525588</td>\n",
       "      <td>1.179502</td>\n",
       "      <td>0.458975</td>\n",
       "      <td>1.173279</td>\n",
       "      <td>ARRIERE</td>\n",
       "    </tr>\n",
       "    <tr>\n",
       "      <th>3</th>\n",
       "      <td>0.483915</td>\n",
       "      <td>0.133162</td>\n",
       "      <td>0.494371</td>\n",
       "      <td>0.111272</td>\n",
       "      <td>0.499602</td>\n",
       "      <td>0.112255</td>\n",
       "      <td>0.504288</td>\n",
       "      <td>0.113465</td>\n",
       "      <td>0.474539</td>\n",
       "      <td>0.110204</td>\n",
       "      <td>...</td>\n",
       "      <td>1.088711</td>\n",
       "      <td>0.520803</td>\n",
       "      <td>1.122163</td>\n",
       "      <td>0.473989</td>\n",
       "      <td>1.114834</td>\n",
       "      <td>0.536208</td>\n",
       "      <td>1.173508</td>\n",
       "      <td>0.465018</td>\n",
       "      <td>1.168497</td>\n",
       "      <td>ARRIERE</td>\n",
       "    </tr>\n",
       "    <tr>\n",
       "      <th>4</th>\n",
       "      <td>0.483415</td>\n",
       "      <td>0.130110</td>\n",
       "      <td>0.493138</td>\n",
       "      <td>0.108554</td>\n",
       "      <td>0.498816</td>\n",
       "      <td>0.109686</td>\n",
       "      <td>0.503691</td>\n",
       "      <td>0.110277</td>\n",
       "      <td>0.473574</td>\n",
       "      <td>0.107391</td>\n",
       "      <td>...</td>\n",
       "      <td>1.099388</td>\n",
       "      <td>0.520713</td>\n",
       "      <td>1.132812</td>\n",
       "      <td>0.474742</td>\n",
       "      <td>1.129656</td>\n",
       "      <td>0.529765</td>\n",
       "      <td>1.186548</td>\n",
       "      <td>0.470125</td>\n",
       "      <td>1.179825</td>\n",
       "      <td>ARRIERE</td>\n",
       "    </tr>\n",
       "  </tbody>\n",
       "</table>\n",
       "<p>5 rows × 67 columns</p>\n",
       "</div>"
      ]
     },
     "execution_count": 7,
     "metadata": {},
     "output_type": "execute_result"
    }
   ],
   "execution_count": 7
  },
  {
   "metadata": {},
   "cell_type": "markdown",
   "source": "## Looking for duplicates",
   "id": "ca36f2415a1f1534"
  },
  {
   "metadata": {
    "ExecuteTime": {
     "end_time": "2025-06-05T11:21:58.490436Z",
     "start_time": "2025-06-05T11:21:58.449299Z"
    }
   },
   "cell_type": "code",
   "source": "df_move_augmented[df_move_augmented.duplicated()]",
   "id": "b3ed74cde85f68ad",
   "outputs": [
    {
     "data": {
      "text/plain": [
       "Empty DataFrame\n",
       "Columns: [NOSE_X, NOSE_Y, LEFT_EYE_INNER_X, LEFT_EYE_INNER_Y, LEFT_EYE_X, LEFT_EYE_Y, LEFT_EYE_OUTER_X, LEFT_EYE_OUTER_Y, RIGHT_EYE_INNER_X, RIGHT_EYE_INNER_Y, RIGHT_EYE_X, RIGHT_EYE_Y, RIGHT_EYE_OUTER_X, RIGHT_EYE_OUTER_Y, LEFT_EAR_X, LEFT_EAR_Y, RIGHT_EAR_X, RIGHT_EAR_Y, MOUTH_LEFT_X, MOUTH_LEFT_Y, MOUTH_RIGHT_X, MOUTH_RIGHT_Y, LEFT_SHOULDER_X, LEFT_SHOULDER_Y, RIGHT_SHOULDER_X, RIGHT_SHOULDER_Y, LEFT_ELBOW_X, LEFT_ELBOW_Y, RIGHT_ELBOW_X, RIGHT_ELBOW_Y, LEFT_WRIST_X, LEFT_WRIST_Y, RIGHT_WRIST_X, RIGHT_WRIST_Y, LEFT_PINKY_X, LEFT_PINKY_Y, RIGHT_PINKY_X, RIGHT_PINKY_Y, LEFT_INDEX_X, LEFT_INDEX_Y, RIGHT_INDEX_X, RIGHT_INDEX_Y, LEFT_THUMB_X, LEFT_THUMB_Y, RIGHT_THUMB_X, RIGHT_THUMB_Y, LEFT_HIP_X, LEFT_HIP_Y, RIGHT_HIP_X, RIGHT_HIP_Y, LEFT_KNEE_X, LEFT_KNEE_Y, RIGHT_KNEE_X, RIGHT_KNEE_Y, LEFT_ANKLE_X, LEFT_ANKLE_Y, RIGHT_ANKLE_X, RIGHT_ANKLE_Y, LEFT_HEEL_X, LEFT_HEEL_Y, RIGHT_HEEL_X, RIGHT_HEEL_Y, LEFT_FOOT_INDEX_X, LEFT_FOOT_INDEX_Y, RIGHT_FOOT_INDEX_X, RIGHT_FOOT_INDEX_Y, action]\n",
       "Index: []\n",
       "\n",
       "[0 rows x 67 columns]"
      ],
      "text/html": [
       "<div>\n",
       "<style scoped>\n",
       "    .dataframe tbody tr th:only-of-type {\n",
       "        vertical-align: middle;\n",
       "    }\n",
       "\n",
       "    .dataframe tbody tr th {\n",
       "        vertical-align: top;\n",
       "    }\n",
       "\n",
       "    .dataframe thead th {\n",
       "        text-align: right;\n",
       "    }\n",
       "</style>\n",
       "<table border=\"1\" class=\"dataframe\">\n",
       "  <thead>\n",
       "    <tr style=\"text-align: right;\">\n",
       "      <th></th>\n",
       "      <th>NOSE_X</th>\n",
       "      <th>NOSE_Y</th>\n",
       "      <th>LEFT_EYE_INNER_X</th>\n",
       "      <th>LEFT_EYE_INNER_Y</th>\n",
       "      <th>LEFT_EYE_X</th>\n",
       "      <th>LEFT_EYE_Y</th>\n",
       "      <th>LEFT_EYE_OUTER_X</th>\n",
       "      <th>LEFT_EYE_OUTER_Y</th>\n",
       "      <th>RIGHT_EYE_INNER_X</th>\n",
       "      <th>RIGHT_EYE_INNER_Y</th>\n",
       "      <th>...</th>\n",
       "      <th>RIGHT_ANKLE_Y</th>\n",
       "      <th>LEFT_HEEL_X</th>\n",
       "      <th>LEFT_HEEL_Y</th>\n",
       "      <th>RIGHT_HEEL_X</th>\n",
       "      <th>RIGHT_HEEL_Y</th>\n",
       "      <th>LEFT_FOOT_INDEX_X</th>\n",
       "      <th>LEFT_FOOT_INDEX_Y</th>\n",
       "      <th>RIGHT_FOOT_INDEX_X</th>\n",
       "      <th>RIGHT_FOOT_INDEX_Y</th>\n",
       "      <th>action</th>\n",
       "    </tr>\n",
       "  </thead>\n",
       "  <tbody>\n",
       "  </tbody>\n",
       "</table>\n",
       "<p>0 rows × 67 columns</p>\n",
       "</div>"
      ]
     },
     "execution_count": 8,
     "metadata": {},
     "output_type": "execute_result"
    }
   ],
   "execution_count": 8
  },
  {
   "metadata": {},
   "cell_type": "markdown",
   "source": [
    "## Normalisation\n",
    "\n",
    "La normalisation est effectué avant la sélection des colonnes, car certaines variables qui seront supprimées sont utilisées pour la normalisation."
   ],
   "id": "424249aa65039e4"
  },
  {
   "metadata": {
    "ExecuteTime": {
     "end_time": "2025-06-05T11:22:26.474216Z",
     "start_time": "2025-06-05T11:22:09.000171Z"
    }
   },
   "cell_type": "code",
   "source": [
    "df_move_normalize = normalize(df_move_augmented, \"action\")\n",
    "df_move_normalize"
   ],
   "id": "244a48f565dfc9ab",
   "outputs": [
    {
     "data": {
      "text/plain": [
       "        NOSE_X    NOSE_Y  LEFT_EYE_INNER_X  LEFT_EYE_INNER_Y  LEFT_EYE_X  \\\n",
       "0    -0.150673 -1.364114         -0.127723         -1.424733   -0.110311   \n",
       "1    -0.152516 -1.369399         -0.128428         -1.432604   -0.109437   \n",
       "2    -0.150962 -1.348443         -0.125690         -1.409327   -0.113372   \n",
       "3    -0.170960 -1.397257         -0.140341         -1.461363   -0.125021   \n",
       "4    -0.167438 -1.382527         -0.138812         -1.445998   -0.122093   \n",
       "...        ...       ...               ...               ...         ...   \n",
       "3759 -0.146479 -1.359759         -0.124670         -1.397946   -0.107570   \n",
       "3760 -0.147112 -1.384283         -0.121176         -1.424916   -0.106151   \n",
       "3761 -0.149383 -1.397887         -0.127159         -1.441890   -0.108702   \n",
       "3762 -0.157494 -1.388718         -0.134424         -1.432841   -0.116127   \n",
       "3763 -0.142063 -1.399720         -0.121051         -1.444528   -0.098563   \n",
       "\n",
       "      LEFT_EYE_Y  LEFT_EYE_OUTER_X  LEFT_EYE_OUTER_Y  RIGHT_EYE_INNER_X  \\\n",
       "0      -1.421016         -0.092078         -1.416016          -0.181242   \n",
       "1      -1.428929         -0.092279         -1.424530          -0.181015   \n",
       "2      -1.405556         -0.098090         -1.401552          -0.180853   \n",
       "3      -1.458484         -0.111298         -1.454939          -0.198419   \n",
       "4      -1.442664         -0.107739         -1.440923          -0.196415   \n",
       "...          ...               ...               ...                ...   \n",
       "3759   -1.402702         -0.093591         -1.426630          -0.158519   \n",
       "3760   -1.428913         -0.088029         -1.450968          -0.157550   \n",
       "3761   -1.448501         -0.087959         -1.472656          -0.160565   \n",
       "3762   -1.439501         -0.095531         -1.463655          -0.168883   \n",
       "3763   -1.450764         -0.082964         -1.474715          -0.152804   \n",
       "\n",
       "      RIGHT_EYE_INNER_Y  ...  RIGHT_ANKLE_Y  LEFT_HEEL_X  LEFT_HEEL_Y  \\\n",
       "0             -1.432454  ...       1.401586    -0.060292     1.489360   \n",
       "1             -1.441646  ...       1.443098    -0.087894     1.523415   \n",
       "2             -1.415067  ...       1.404620    -0.070975     1.494322   \n",
       "3             -1.464490  ...       1.401126    -0.062933     1.499092   \n",
       "4             -1.449421  ...       1.471430    -0.057618     1.569843   \n",
       "...                 ...  ...            ...          ...          ...   \n",
       "3759          -1.426244  ...       1.446793    -0.023403     1.597137   \n",
       "3760          -1.456157  ...       1.425818    -0.036946     1.589533   \n",
       "3761          -1.467731  ...       1.420826    -0.056720     1.565827   \n",
       "3762          -1.458088  ...       1.376911    -0.051584     1.517206   \n",
       "3763          -1.470849  ...       1.422077    -0.045035     1.590063   \n",
       "\n",
       "      RIGHT_HEEL_X  RIGHT_HEEL_Y  LEFT_FOOT_INDEX_X  LEFT_FOOT_INDEX_Y  \\\n",
       "0        -0.198768      1.489728          -0.020381           1.813090   \n",
       "1        -0.223874      1.525573          -0.024269           1.819155   \n",
       "2        -0.191953      1.490419          -0.047226           1.822374   \n",
       "3        -0.200029      1.477628          -0.017817           1.848554   \n",
       "4        -0.192977      1.560550          -0.030964           1.902875   \n",
       "...            ...           ...                ...                ...   \n",
       "3759     -0.365033      1.552273          -0.075523           2.071484   \n",
       "3760     -0.369178      1.525089          -0.086313           2.073307   \n",
       "3761     -0.382936      1.525130          -0.090952           2.040665   \n",
       "3762     -0.381455      1.480677          -0.068408           1.983078   \n",
       "3763     -0.375287      1.527190          -0.074409           2.059019   \n",
       "\n",
       "      RIGHT_FOOT_INDEX_X  RIGHT_FOOT_INDEX_Y          action  \n",
       "0              -0.197873            1.821726         ARRIERE  \n",
       "1              -0.235224            1.841696         ARRIERE  \n",
       "2              -0.237680            1.804581         ARRIERE  \n",
       "3              -0.226302            1.833879         ARRIERE  \n",
       "4              -0.206569            1.883081         ARRIERE  \n",
       "...                  ...                 ...             ...  \n",
       "3759           -0.401439            2.007445  TOURNER_GAUCHE  \n",
       "3760           -0.364181            2.001076  TOURNER_GAUCHE  \n",
       "3761           -0.377502            1.983904  TOURNER_GAUCHE  \n",
       "3762           -0.377790            1.940952  TOURNER_GAUCHE  \n",
       "3763           -0.395384            1.970219  TOURNER_GAUCHE  \n",
       "\n",
       "[3764 rows x 67 columns]"
      ],
      "text/html": [
       "<div>\n",
       "<style scoped>\n",
       "    .dataframe tbody tr th:only-of-type {\n",
       "        vertical-align: middle;\n",
       "    }\n",
       "\n",
       "    .dataframe tbody tr th {\n",
       "        vertical-align: top;\n",
       "    }\n",
       "\n",
       "    .dataframe thead th {\n",
       "        text-align: right;\n",
       "    }\n",
       "</style>\n",
       "<table border=\"1\" class=\"dataframe\">\n",
       "  <thead>\n",
       "    <tr style=\"text-align: right;\">\n",
       "      <th></th>\n",
       "      <th>NOSE_X</th>\n",
       "      <th>NOSE_Y</th>\n",
       "      <th>LEFT_EYE_INNER_X</th>\n",
       "      <th>LEFT_EYE_INNER_Y</th>\n",
       "      <th>LEFT_EYE_X</th>\n",
       "      <th>LEFT_EYE_Y</th>\n",
       "      <th>LEFT_EYE_OUTER_X</th>\n",
       "      <th>LEFT_EYE_OUTER_Y</th>\n",
       "      <th>RIGHT_EYE_INNER_X</th>\n",
       "      <th>RIGHT_EYE_INNER_Y</th>\n",
       "      <th>...</th>\n",
       "      <th>RIGHT_ANKLE_Y</th>\n",
       "      <th>LEFT_HEEL_X</th>\n",
       "      <th>LEFT_HEEL_Y</th>\n",
       "      <th>RIGHT_HEEL_X</th>\n",
       "      <th>RIGHT_HEEL_Y</th>\n",
       "      <th>LEFT_FOOT_INDEX_X</th>\n",
       "      <th>LEFT_FOOT_INDEX_Y</th>\n",
       "      <th>RIGHT_FOOT_INDEX_X</th>\n",
       "      <th>RIGHT_FOOT_INDEX_Y</th>\n",
       "      <th>action</th>\n",
       "    </tr>\n",
       "  </thead>\n",
       "  <tbody>\n",
       "    <tr>\n",
       "      <th>0</th>\n",
       "      <td>-0.150673</td>\n",
       "      <td>-1.364114</td>\n",
       "      <td>-0.127723</td>\n",
       "      <td>-1.424733</td>\n",
       "      <td>-0.110311</td>\n",
       "      <td>-1.421016</td>\n",
       "      <td>-0.092078</td>\n",
       "      <td>-1.416016</td>\n",
       "      <td>-0.181242</td>\n",
       "      <td>-1.432454</td>\n",
       "      <td>...</td>\n",
       "      <td>1.401586</td>\n",
       "      <td>-0.060292</td>\n",
       "      <td>1.489360</td>\n",
       "      <td>-0.198768</td>\n",
       "      <td>1.489728</td>\n",
       "      <td>-0.020381</td>\n",
       "      <td>1.813090</td>\n",
       "      <td>-0.197873</td>\n",
       "      <td>1.821726</td>\n",
       "      <td>ARRIERE</td>\n",
       "    </tr>\n",
       "    <tr>\n",
       "      <th>1</th>\n",
       "      <td>-0.152516</td>\n",
       "      <td>-1.369399</td>\n",
       "      <td>-0.128428</td>\n",
       "      <td>-1.432604</td>\n",
       "      <td>-0.109437</td>\n",
       "      <td>-1.428929</td>\n",
       "      <td>-0.092279</td>\n",
       "      <td>-1.424530</td>\n",
       "      <td>-0.181015</td>\n",
       "      <td>-1.441646</td>\n",
       "      <td>...</td>\n",
       "      <td>1.443098</td>\n",
       "      <td>-0.087894</td>\n",
       "      <td>1.523415</td>\n",
       "      <td>-0.223874</td>\n",
       "      <td>1.525573</td>\n",
       "      <td>-0.024269</td>\n",
       "      <td>1.819155</td>\n",
       "      <td>-0.235224</td>\n",
       "      <td>1.841696</td>\n",
       "      <td>ARRIERE</td>\n",
       "    </tr>\n",
       "    <tr>\n",
       "      <th>2</th>\n",
       "      <td>-0.150962</td>\n",
       "      <td>-1.348443</td>\n",
       "      <td>-0.125690</td>\n",
       "      <td>-1.409327</td>\n",
       "      <td>-0.113372</td>\n",
       "      <td>-1.405556</td>\n",
       "      <td>-0.098090</td>\n",
       "      <td>-1.401552</td>\n",
       "      <td>-0.180853</td>\n",
       "      <td>-1.415067</td>\n",
       "      <td>...</td>\n",
       "      <td>1.404620</td>\n",
       "      <td>-0.070975</td>\n",
       "      <td>1.494322</td>\n",
       "      <td>-0.191953</td>\n",
       "      <td>1.490419</td>\n",
       "      <td>-0.047226</td>\n",
       "      <td>1.822374</td>\n",
       "      <td>-0.237680</td>\n",
       "      <td>1.804581</td>\n",
       "      <td>ARRIERE</td>\n",
       "    </tr>\n",
       "    <tr>\n",
       "      <th>3</th>\n",
       "      <td>-0.170960</td>\n",
       "      <td>-1.397257</td>\n",
       "      <td>-0.140341</td>\n",
       "      <td>-1.461363</td>\n",
       "      <td>-0.125021</td>\n",
       "      <td>-1.458484</td>\n",
       "      <td>-0.111298</td>\n",
       "      <td>-1.454939</td>\n",
       "      <td>-0.198419</td>\n",
       "      <td>-1.464490</td>\n",
       "      <td>...</td>\n",
       "      <td>1.401126</td>\n",
       "      <td>-0.062933</td>\n",
       "      <td>1.499092</td>\n",
       "      <td>-0.200029</td>\n",
       "      <td>1.477628</td>\n",
       "      <td>-0.017817</td>\n",
       "      <td>1.848554</td>\n",
       "      <td>-0.226302</td>\n",
       "      <td>1.833879</td>\n",
       "      <td>ARRIERE</td>\n",
       "    </tr>\n",
       "    <tr>\n",
       "      <th>4</th>\n",
       "      <td>-0.167438</td>\n",
       "      <td>-1.382527</td>\n",
       "      <td>-0.138812</td>\n",
       "      <td>-1.445998</td>\n",
       "      <td>-0.122093</td>\n",
       "      <td>-1.442664</td>\n",
       "      <td>-0.107739</td>\n",
       "      <td>-1.440923</td>\n",
       "      <td>-0.196415</td>\n",
       "      <td>-1.449421</td>\n",
       "      <td>...</td>\n",
       "      <td>1.471430</td>\n",
       "      <td>-0.057618</td>\n",
       "      <td>1.569843</td>\n",
       "      <td>-0.192977</td>\n",
       "      <td>1.560550</td>\n",
       "      <td>-0.030964</td>\n",
       "      <td>1.902875</td>\n",
       "      <td>-0.206569</td>\n",
       "      <td>1.883081</td>\n",
       "      <td>ARRIERE</td>\n",
       "    </tr>\n",
       "    <tr>\n",
       "      <th>...</th>\n",
       "      <td>...</td>\n",
       "      <td>...</td>\n",
       "      <td>...</td>\n",
       "      <td>...</td>\n",
       "      <td>...</td>\n",
       "      <td>...</td>\n",
       "      <td>...</td>\n",
       "      <td>...</td>\n",
       "      <td>...</td>\n",
       "      <td>...</td>\n",
       "      <td>...</td>\n",
       "      <td>...</td>\n",
       "      <td>...</td>\n",
       "      <td>...</td>\n",
       "      <td>...</td>\n",
       "      <td>...</td>\n",
       "      <td>...</td>\n",
       "      <td>...</td>\n",
       "      <td>...</td>\n",
       "      <td>...</td>\n",
       "      <td>...</td>\n",
       "    </tr>\n",
       "    <tr>\n",
       "      <th>3759</th>\n",
       "      <td>-0.146479</td>\n",
       "      <td>-1.359759</td>\n",
       "      <td>-0.124670</td>\n",
       "      <td>-1.397946</td>\n",
       "      <td>-0.107570</td>\n",
       "      <td>-1.402702</td>\n",
       "      <td>-0.093591</td>\n",
       "      <td>-1.426630</td>\n",
       "      <td>-0.158519</td>\n",
       "      <td>-1.426244</td>\n",
       "      <td>...</td>\n",
       "      <td>1.446793</td>\n",
       "      <td>-0.023403</td>\n",
       "      <td>1.597137</td>\n",
       "      <td>-0.365033</td>\n",
       "      <td>1.552273</td>\n",
       "      <td>-0.075523</td>\n",
       "      <td>2.071484</td>\n",
       "      <td>-0.401439</td>\n",
       "      <td>2.007445</td>\n",
       "      <td>TOURNER_GAUCHE</td>\n",
       "    </tr>\n",
       "    <tr>\n",
       "      <th>3760</th>\n",
       "      <td>-0.147112</td>\n",
       "      <td>-1.384283</td>\n",
       "      <td>-0.121176</td>\n",
       "      <td>-1.424916</td>\n",
       "      <td>-0.106151</td>\n",
       "      <td>-1.428913</td>\n",
       "      <td>-0.088029</td>\n",
       "      <td>-1.450968</td>\n",
       "      <td>-0.157550</td>\n",
       "      <td>-1.456157</td>\n",
       "      <td>...</td>\n",
       "      <td>1.425818</td>\n",
       "      <td>-0.036946</td>\n",
       "      <td>1.589533</td>\n",
       "      <td>-0.369178</td>\n",
       "      <td>1.525089</td>\n",
       "      <td>-0.086313</td>\n",
       "      <td>2.073307</td>\n",
       "      <td>-0.364181</td>\n",
       "      <td>2.001076</td>\n",
       "      <td>TOURNER_GAUCHE</td>\n",
       "    </tr>\n",
       "    <tr>\n",
       "      <th>3761</th>\n",
       "      <td>-0.149383</td>\n",
       "      <td>-1.397887</td>\n",
       "      <td>-0.127159</td>\n",
       "      <td>-1.441890</td>\n",
       "      <td>-0.108702</td>\n",
       "      <td>-1.448501</td>\n",
       "      <td>-0.087959</td>\n",
       "      <td>-1.472656</td>\n",
       "      <td>-0.160565</td>\n",
       "      <td>-1.467731</td>\n",
       "      <td>...</td>\n",
       "      <td>1.420826</td>\n",
       "      <td>-0.056720</td>\n",
       "      <td>1.565827</td>\n",
       "      <td>-0.382936</td>\n",
       "      <td>1.525130</td>\n",
       "      <td>-0.090952</td>\n",
       "      <td>2.040665</td>\n",
       "      <td>-0.377502</td>\n",
       "      <td>1.983904</td>\n",
       "      <td>TOURNER_GAUCHE</td>\n",
       "    </tr>\n",
       "    <tr>\n",
       "      <th>3762</th>\n",
       "      <td>-0.157494</td>\n",
       "      <td>-1.388718</td>\n",
       "      <td>-0.134424</td>\n",
       "      <td>-1.432841</td>\n",
       "      <td>-0.116127</td>\n",
       "      <td>-1.439501</td>\n",
       "      <td>-0.095531</td>\n",
       "      <td>-1.463655</td>\n",
       "      <td>-0.168883</td>\n",
       "      <td>-1.458088</td>\n",
       "      <td>...</td>\n",
       "      <td>1.376911</td>\n",
       "      <td>-0.051584</td>\n",
       "      <td>1.517206</td>\n",
       "      <td>-0.381455</td>\n",
       "      <td>1.480677</td>\n",
       "      <td>-0.068408</td>\n",
       "      <td>1.983078</td>\n",
       "      <td>-0.377790</td>\n",
       "      <td>1.940952</td>\n",
       "      <td>TOURNER_GAUCHE</td>\n",
       "    </tr>\n",
       "    <tr>\n",
       "      <th>3763</th>\n",
       "      <td>-0.142063</td>\n",
       "      <td>-1.399720</td>\n",
       "      <td>-0.121051</td>\n",
       "      <td>-1.444528</td>\n",
       "      <td>-0.098563</td>\n",
       "      <td>-1.450764</td>\n",
       "      <td>-0.082964</td>\n",
       "      <td>-1.474715</td>\n",
       "      <td>-0.152804</td>\n",
       "      <td>-1.470849</td>\n",
       "      <td>...</td>\n",
       "      <td>1.422077</td>\n",
       "      <td>-0.045035</td>\n",
       "      <td>1.590063</td>\n",
       "      <td>-0.375287</td>\n",
       "      <td>1.527190</td>\n",
       "      <td>-0.074409</td>\n",
       "      <td>2.059019</td>\n",
       "      <td>-0.395384</td>\n",
       "      <td>1.970219</td>\n",
       "      <td>TOURNER_GAUCHE</td>\n",
       "    </tr>\n",
       "  </tbody>\n",
       "</table>\n",
       "<p>3764 rows × 67 columns</p>\n",
       "</div>"
      ]
     },
     "execution_count": 9,
     "metadata": {},
     "output_type": "execute_result"
    }
   ],
   "execution_count": 9
  },
  {
   "metadata": {
    "ExecuteTime": {
     "end_time": "2025-06-05T11:22:30.933690Z",
     "start_time": "2025-06-05T11:22:30.827913Z"
    }
   },
   "cell_type": "code",
   "source": "df_move_normalize.describe()",
   "id": "658768e480f4a2fe",
   "outputs": [
    {
     "data": {
      "text/plain": [
       "            NOSE_X       NOSE_Y  LEFT_EYE_INNER_X  LEFT_EYE_INNER_Y  \\\n",
       "count  3764.000000  3764.000000       3764.000000       3764.000000   \n",
       "mean     -0.150625    -1.332340         -0.122180         -1.375685   \n",
       "std       0.060519     0.063688          0.060753          0.063945   \n",
       "min      -0.450878    -1.616760         -0.448698         -1.642193   \n",
       "25%      -0.181771    -1.376585         -0.153765         -1.422183   \n",
       "50%      -0.155767    -1.333438         -0.126223         -1.375985   \n",
       "75%      -0.122904    -1.288951         -0.093449         -1.330501   \n",
       "max       0.549472    -1.041848          0.553197         -1.078876   \n",
       "\n",
       "        LEFT_EYE_X   LEFT_EYE_Y  LEFT_EYE_OUTER_X  LEFT_EYE_OUTER_Y  \\\n",
       "count  3764.000000  3764.000000       3764.000000       3764.000000   \n",
       "mean     -0.110174    -1.384651         -0.085035         -1.386700   \n",
       "std       0.058983     0.060350          0.059805          0.063976   \n",
       "min      -0.425825    -1.646733         -0.406690         -1.681863   \n",
       "25%      -0.140334    -1.428690         -0.116627         -1.431152   \n",
       "50%      -0.114511    -1.384381         -0.088419         -1.385812   \n",
       "75%      -0.084093    -1.341297         -0.055165         -1.340614   \n",
       "max       0.556614    -1.113794          0.560929         -1.109288   \n",
       "\n",
       "       RIGHT_EYE_INNER_X  RIGHT_EYE_INNER_Y  ...  RIGHT_ANKLE_X  \\\n",
       "count        3764.000000        3764.000000  ...    3764.000000   \n",
       "mean           -0.172689          -1.391650  ...      -0.303282   \n",
       "std             0.061673           0.063748  ...       0.066712   \n",
       "min            -0.471076          -1.696656  ...      -0.545157   \n",
       "25%            -0.206465          -1.435852  ...      -0.344123   \n",
       "50%            -0.177894          -1.389752  ...      -0.300664   \n",
       "75%            -0.144503          -1.345987  ...      -0.262367   \n",
       "max             0.542437          -1.107421  ...       0.377501   \n",
       "\n",
       "       RIGHT_ANKLE_Y  LEFT_HEEL_X  LEFT_HEEL_Y  RIGHT_HEEL_X  RIGHT_HEEL_Y  \\\n",
       "count    3764.000000  3764.000000  3764.000000   3764.000000   3764.000000   \n",
       "mean        1.344811    -0.012252     1.452249     -0.293705      1.439609   \n",
       "std         0.139630     0.050591     0.153300      0.069642      0.144750   \n",
       "min         0.790490    -0.285709     0.809949     -0.504300      0.739392   \n",
       "25%         1.258001    -0.038977     1.354500     -0.337385      1.349170   \n",
       "50%         1.347950    -0.009753     1.451774     -0.295318      1.438922   \n",
       "75%         1.431536     0.017063     1.543115     -0.253139      1.528931   \n",
       "max         1.757358     0.214173     1.935795      0.380906      1.876199   \n",
       "\n",
       "       LEFT_FOOT_INDEX_X  LEFT_FOOT_INDEX_Y  RIGHT_FOOT_INDEX_X  \\\n",
       "count        3764.000000        3764.000000         3764.000000   \n",
       "mean           -0.003802           1.987062           -0.301115   \n",
       "std             0.069011           0.329448            0.075777   \n",
       "min            -0.468956           1.303133           -0.552036   \n",
       "25%            -0.049961           1.760929           -0.346701   \n",
       "50%            -0.006317           1.898711           -0.300936   \n",
       "75%             0.039245           2.152832           -0.251477   \n",
       "max             0.355613           3.111993            0.402331   \n",
       "\n",
       "       RIGHT_FOOT_INDEX_Y  \n",
       "count         3764.000000  \n",
       "mean             1.976902  \n",
       "std              0.307113  \n",
       "min              1.378428  \n",
       "25%              1.758164  \n",
       "50%              1.902963  \n",
       "75%              2.147575  \n",
       "max              2.994923  \n",
       "\n",
       "[8 rows x 66 columns]"
      ],
      "text/html": [
       "<div>\n",
       "<style scoped>\n",
       "    .dataframe tbody tr th:only-of-type {\n",
       "        vertical-align: middle;\n",
       "    }\n",
       "\n",
       "    .dataframe tbody tr th {\n",
       "        vertical-align: top;\n",
       "    }\n",
       "\n",
       "    .dataframe thead th {\n",
       "        text-align: right;\n",
       "    }\n",
       "</style>\n",
       "<table border=\"1\" class=\"dataframe\">\n",
       "  <thead>\n",
       "    <tr style=\"text-align: right;\">\n",
       "      <th></th>\n",
       "      <th>NOSE_X</th>\n",
       "      <th>NOSE_Y</th>\n",
       "      <th>LEFT_EYE_INNER_X</th>\n",
       "      <th>LEFT_EYE_INNER_Y</th>\n",
       "      <th>LEFT_EYE_X</th>\n",
       "      <th>LEFT_EYE_Y</th>\n",
       "      <th>LEFT_EYE_OUTER_X</th>\n",
       "      <th>LEFT_EYE_OUTER_Y</th>\n",
       "      <th>RIGHT_EYE_INNER_X</th>\n",
       "      <th>RIGHT_EYE_INNER_Y</th>\n",
       "      <th>...</th>\n",
       "      <th>RIGHT_ANKLE_X</th>\n",
       "      <th>RIGHT_ANKLE_Y</th>\n",
       "      <th>LEFT_HEEL_X</th>\n",
       "      <th>LEFT_HEEL_Y</th>\n",
       "      <th>RIGHT_HEEL_X</th>\n",
       "      <th>RIGHT_HEEL_Y</th>\n",
       "      <th>LEFT_FOOT_INDEX_X</th>\n",
       "      <th>LEFT_FOOT_INDEX_Y</th>\n",
       "      <th>RIGHT_FOOT_INDEX_X</th>\n",
       "      <th>RIGHT_FOOT_INDEX_Y</th>\n",
       "    </tr>\n",
       "  </thead>\n",
       "  <tbody>\n",
       "    <tr>\n",
       "      <th>count</th>\n",
       "      <td>3764.000000</td>\n",
       "      <td>3764.000000</td>\n",
       "      <td>3764.000000</td>\n",
       "      <td>3764.000000</td>\n",
       "      <td>3764.000000</td>\n",
       "      <td>3764.000000</td>\n",
       "      <td>3764.000000</td>\n",
       "      <td>3764.000000</td>\n",
       "      <td>3764.000000</td>\n",
       "      <td>3764.000000</td>\n",
       "      <td>...</td>\n",
       "      <td>3764.000000</td>\n",
       "      <td>3764.000000</td>\n",
       "      <td>3764.000000</td>\n",
       "      <td>3764.000000</td>\n",
       "      <td>3764.000000</td>\n",
       "      <td>3764.000000</td>\n",
       "      <td>3764.000000</td>\n",
       "      <td>3764.000000</td>\n",
       "      <td>3764.000000</td>\n",
       "      <td>3764.000000</td>\n",
       "    </tr>\n",
       "    <tr>\n",
       "      <th>mean</th>\n",
       "      <td>-0.150625</td>\n",
       "      <td>-1.332340</td>\n",
       "      <td>-0.122180</td>\n",
       "      <td>-1.375685</td>\n",
       "      <td>-0.110174</td>\n",
       "      <td>-1.384651</td>\n",
       "      <td>-0.085035</td>\n",
       "      <td>-1.386700</td>\n",
       "      <td>-0.172689</td>\n",
       "      <td>-1.391650</td>\n",
       "      <td>...</td>\n",
       "      <td>-0.303282</td>\n",
       "      <td>1.344811</td>\n",
       "      <td>-0.012252</td>\n",
       "      <td>1.452249</td>\n",
       "      <td>-0.293705</td>\n",
       "      <td>1.439609</td>\n",
       "      <td>-0.003802</td>\n",
       "      <td>1.987062</td>\n",
       "      <td>-0.301115</td>\n",
       "      <td>1.976902</td>\n",
       "    </tr>\n",
       "    <tr>\n",
       "      <th>std</th>\n",
       "      <td>0.060519</td>\n",
       "      <td>0.063688</td>\n",
       "      <td>0.060753</td>\n",
       "      <td>0.063945</td>\n",
       "      <td>0.058983</td>\n",
       "      <td>0.060350</td>\n",
       "      <td>0.059805</td>\n",
       "      <td>0.063976</td>\n",
       "      <td>0.061673</td>\n",
       "      <td>0.063748</td>\n",
       "      <td>...</td>\n",
       "      <td>0.066712</td>\n",
       "      <td>0.139630</td>\n",
       "      <td>0.050591</td>\n",
       "      <td>0.153300</td>\n",
       "      <td>0.069642</td>\n",
       "      <td>0.144750</td>\n",
       "      <td>0.069011</td>\n",
       "      <td>0.329448</td>\n",
       "      <td>0.075777</td>\n",
       "      <td>0.307113</td>\n",
       "    </tr>\n",
       "    <tr>\n",
       "      <th>min</th>\n",
       "      <td>-0.450878</td>\n",
       "      <td>-1.616760</td>\n",
       "      <td>-0.448698</td>\n",
       "      <td>-1.642193</td>\n",
       "      <td>-0.425825</td>\n",
       "      <td>-1.646733</td>\n",
       "      <td>-0.406690</td>\n",
       "      <td>-1.681863</td>\n",
       "      <td>-0.471076</td>\n",
       "      <td>-1.696656</td>\n",
       "      <td>...</td>\n",
       "      <td>-0.545157</td>\n",
       "      <td>0.790490</td>\n",
       "      <td>-0.285709</td>\n",
       "      <td>0.809949</td>\n",
       "      <td>-0.504300</td>\n",
       "      <td>0.739392</td>\n",
       "      <td>-0.468956</td>\n",
       "      <td>1.303133</td>\n",
       "      <td>-0.552036</td>\n",
       "      <td>1.378428</td>\n",
       "    </tr>\n",
       "    <tr>\n",
       "      <th>25%</th>\n",
       "      <td>-0.181771</td>\n",
       "      <td>-1.376585</td>\n",
       "      <td>-0.153765</td>\n",
       "      <td>-1.422183</td>\n",
       "      <td>-0.140334</td>\n",
       "      <td>-1.428690</td>\n",
       "      <td>-0.116627</td>\n",
       "      <td>-1.431152</td>\n",
       "      <td>-0.206465</td>\n",
       "      <td>-1.435852</td>\n",
       "      <td>...</td>\n",
       "      <td>-0.344123</td>\n",
       "      <td>1.258001</td>\n",
       "      <td>-0.038977</td>\n",
       "      <td>1.354500</td>\n",
       "      <td>-0.337385</td>\n",
       "      <td>1.349170</td>\n",
       "      <td>-0.049961</td>\n",
       "      <td>1.760929</td>\n",
       "      <td>-0.346701</td>\n",
       "      <td>1.758164</td>\n",
       "    </tr>\n",
       "    <tr>\n",
       "      <th>50%</th>\n",
       "      <td>-0.155767</td>\n",
       "      <td>-1.333438</td>\n",
       "      <td>-0.126223</td>\n",
       "      <td>-1.375985</td>\n",
       "      <td>-0.114511</td>\n",
       "      <td>-1.384381</td>\n",
       "      <td>-0.088419</td>\n",
       "      <td>-1.385812</td>\n",
       "      <td>-0.177894</td>\n",
       "      <td>-1.389752</td>\n",
       "      <td>...</td>\n",
       "      <td>-0.300664</td>\n",
       "      <td>1.347950</td>\n",
       "      <td>-0.009753</td>\n",
       "      <td>1.451774</td>\n",
       "      <td>-0.295318</td>\n",
       "      <td>1.438922</td>\n",
       "      <td>-0.006317</td>\n",
       "      <td>1.898711</td>\n",
       "      <td>-0.300936</td>\n",
       "      <td>1.902963</td>\n",
       "    </tr>\n",
       "    <tr>\n",
       "      <th>75%</th>\n",
       "      <td>-0.122904</td>\n",
       "      <td>-1.288951</td>\n",
       "      <td>-0.093449</td>\n",
       "      <td>-1.330501</td>\n",
       "      <td>-0.084093</td>\n",
       "      <td>-1.341297</td>\n",
       "      <td>-0.055165</td>\n",
       "      <td>-1.340614</td>\n",
       "      <td>-0.144503</td>\n",
       "      <td>-1.345987</td>\n",
       "      <td>...</td>\n",
       "      <td>-0.262367</td>\n",
       "      <td>1.431536</td>\n",
       "      <td>0.017063</td>\n",
       "      <td>1.543115</td>\n",
       "      <td>-0.253139</td>\n",
       "      <td>1.528931</td>\n",
       "      <td>0.039245</td>\n",
       "      <td>2.152832</td>\n",
       "      <td>-0.251477</td>\n",
       "      <td>2.147575</td>\n",
       "    </tr>\n",
       "    <tr>\n",
       "      <th>max</th>\n",
       "      <td>0.549472</td>\n",
       "      <td>-1.041848</td>\n",
       "      <td>0.553197</td>\n",
       "      <td>-1.078876</td>\n",
       "      <td>0.556614</td>\n",
       "      <td>-1.113794</td>\n",
       "      <td>0.560929</td>\n",
       "      <td>-1.109288</td>\n",
       "      <td>0.542437</td>\n",
       "      <td>-1.107421</td>\n",
       "      <td>...</td>\n",
       "      <td>0.377501</td>\n",
       "      <td>1.757358</td>\n",
       "      <td>0.214173</td>\n",
       "      <td>1.935795</td>\n",
       "      <td>0.380906</td>\n",
       "      <td>1.876199</td>\n",
       "      <td>0.355613</td>\n",
       "      <td>3.111993</td>\n",
       "      <td>0.402331</td>\n",
       "      <td>2.994923</td>\n",
       "    </tr>\n",
       "  </tbody>\n",
       "</table>\n",
       "<p>8 rows × 66 columns</p>\n",
       "</div>"
      ]
     },
     "execution_count": 10,
     "metadata": {},
     "output_type": "execute_result"
    }
   ],
   "execution_count": 10
  },
  {
   "metadata": {
    "ExecuteTime": {
     "end_time": "2025-06-05T11:22:33.387110Z",
     "start_time": "2025-06-05T11:22:33.367638Z"
    }
   },
   "cell_type": "code",
   "source": "df_move_normalize[\"action\"].value_counts()",
   "id": "7d9781356ad9f986",
   "outputs": [
    {
     "data": {
      "text/plain": [
       "action\n",
       "TOURNER_GAUCHE    560\n",
       "NEUTRE            536\n",
       "SURPRISE          484\n",
       "TOURNER_DROITE    460\n",
       "AVANT             448\n",
       "DROITE            440\n",
       "ARRIERE           424\n",
       "GAUCHE            412\n",
       "Name: count, dtype: int64"
      ]
     },
     "execution_count": 11,
     "metadata": {},
     "output_type": "execute_result"
    }
   ],
   "execution_count": 11
  },
  {
   "metadata": {},
   "cell_type": "markdown",
   "source": "### Selection des colonnes (manuellement, par déduction)\n",
   "id": "da6f27d33669603f"
  },
  {
   "metadata": {
    "ExecuteTime": {
     "end_time": "2025-06-05T11:23:56.889305Z",
     "start_time": "2025-06-05T11:23:56.879499Z"
    }
   },
   "cell_type": "code",
   "source": "df_move_normalize.columns",
   "id": "bb05df6c426a13cd",
   "outputs": [
    {
     "data": {
      "text/plain": [
       "Index(['NOSE_X', 'NOSE_Y', 'LEFT_EYE_INNER_X', 'LEFT_EYE_INNER_Y',\n",
       "       'LEFT_EYE_X', 'LEFT_EYE_Y', 'LEFT_EYE_OUTER_X', 'LEFT_EYE_OUTER_Y',\n",
       "       'RIGHT_EYE_INNER_X', 'RIGHT_EYE_INNER_Y', 'RIGHT_EYE_X', 'RIGHT_EYE_Y',\n",
       "       'RIGHT_EYE_OUTER_X', 'RIGHT_EYE_OUTER_Y', 'LEFT_EAR_X', 'LEFT_EAR_Y',\n",
       "       'RIGHT_EAR_X', 'RIGHT_EAR_Y', 'MOUTH_LEFT_X', 'MOUTH_LEFT_Y',\n",
       "       'MOUTH_RIGHT_X', 'MOUTH_RIGHT_Y', 'LEFT_SHOULDER_X', 'LEFT_SHOULDER_Y',\n",
       "       'RIGHT_SHOULDER_X', 'RIGHT_SHOULDER_Y', 'LEFT_ELBOW_X', 'LEFT_ELBOW_Y',\n",
       "       'RIGHT_ELBOW_X', 'RIGHT_ELBOW_Y', 'LEFT_WRIST_X', 'LEFT_WRIST_Y',\n",
       "       'RIGHT_WRIST_X', 'RIGHT_WRIST_Y', 'LEFT_PINKY_X', 'LEFT_PINKY_Y',\n",
       "       'RIGHT_PINKY_X', 'RIGHT_PINKY_Y', 'LEFT_INDEX_X', 'LEFT_INDEX_Y',\n",
       "       'RIGHT_INDEX_X', 'RIGHT_INDEX_Y', 'LEFT_THUMB_X', 'LEFT_THUMB_Y',\n",
       "       'RIGHT_THUMB_X', 'RIGHT_THUMB_Y', 'LEFT_HIP_X', 'LEFT_HIP_Y',\n",
       "       'RIGHT_HIP_X', 'RIGHT_HIP_Y', 'LEFT_KNEE_X', 'LEFT_KNEE_Y',\n",
       "       'RIGHT_KNEE_X', 'RIGHT_KNEE_Y', 'LEFT_ANKLE_X', 'LEFT_ANKLE_Y',\n",
       "       'RIGHT_ANKLE_X', 'RIGHT_ANKLE_Y', 'LEFT_HEEL_X', 'LEFT_HEEL_Y',\n",
       "       'RIGHT_HEEL_X', 'RIGHT_HEEL_Y', 'LEFT_FOOT_INDEX_X',\n",
       "       'LEFT_FOOT_INDEX_Y', 'RIGHT_FOOT_INDEX_X', 'RIGHT_FOOT_INDEX_Y',\n",
       "       'action'],\n",
       "      dtype='object')"
      ]
     },
     "execution_count": 12,
     "metadata": {},
     "output_type": "execute_result"
    }
   ],
   "execution_count": 12
  },
  {
   "metadata": {
    "ExecuteTime": {
     "end_time": "2025-06-05T11:30:06.290115Z",
     "start_time": "2025-06-05T11:30:06.275825Z"
    }
   },
   "cell_type": "code",
   "source": [
    "list_move = [\n",
    "    \"NOSE_X\", \"NOSE_Y\",\n",
    "    \"LEFT_EAR_X\", \"LEFT_EAR_Y\",\n",
    "    \"RIGHT_EAR_X\", \"RIGHT_EAR_Y\",\n",
    "\n",
    "    \"LEFT_SHOULDER_X\", \"LEFT_SHOULDER_Y\",\n",
    "    \"RIGHT_SHOULDER_X\", \"RIGHT_SHOULDER_Y\",\n",
    "    \"LEFT_HIP_X\", \"LEFT_HIP_Y\",\n",
    "    \"RIGHT_HIP_X\", \"RIGHT_HIP_Y\",\n",
    "\n",
    "    \"RIGHT_ELBOW_X\", \"RIGHT_ELBOW_Y\",\n",
    "    \"RIGHT_WRIST_X\", \"RIGHT_WRIST_Y\",\n",
    "    \"RIGHT_PINKY_X\", \"RIGHT_PINKY_Y\",\n",
    "    \"RIGHT_INDEX_X\", \"RIGHT_INDEX_Y\",\n",
    "    \"RIGHT_THUMB_X\", \"RIGHT_THUMB_Y\",\n",
    "    \"action\"\n",
    "]\n",
    "\n",
    "df_move_normalize_filter = filter_columns(df_move_normalize, *list_move)"
   ],
   "id": "29be708e523af6f9",
   "outputs": [],
   "execution_count": 13
  },
  {
   "metadata": {},
   "cell_type": "markdown",
   "source": "## PCA",
   "id": "4aa9ffb3149f88d6"
  },
  {
   "metadata": {
    "ExecuteTime": {
     "end_time": "2025-06-05T11:31:22.590791Z",
     "start_time": "2025-06-05T11:31:22.583893Z"
    }
   },
   "cell_type": "code",
   "source": "X_move = df_move_normalize_filter.drop(\"action\", axis=1)",
   "id": "75624aece9aa1a48",
   "outputs": [],
   "execution_count": 14
  },
  {
   "metadata": {},
   "cell_type": "markdown",
   "source": "### Scatter matrix of components",
   "id": "9efffbe93c8fdb18"
  },
  {
   "metadata": {
    "ExecuteTime": {
     "end_time": "2025-06-05T11:31:25.726268Z",
     "start_time": "2025-06-05T11:31:24.445459Z"
    }
   },
   "cell_type": "code",
   "source": "elbow_method(X_move)",
   "id": "6f639eb0ac163143",
   "outputs": [
    {
     "data": {
      "application/vnd.plotly.v1+json": {
       "data": [
        {
         "fillpattern": {
          "shape": ""
         },
         "hovertemplate": "# Components=%{x}<br>Explained Variance=%{y}<extra></extra>",
         "legendgroup": "",
         "line": {
          "color": "#636efa"
         },
         "marker": {
          "symbol": "circle"
         },
         "mode": "lines",
         "name": "",
         "orientation": "v",
         "showlegend": false,
         "stackgroup": "1",
         "x": {
          "dtype": "i1",
          "bdata": "AQIDBAUGBwgJCgsMDQ4PEBESExQVFhcY"
         },
         "xaxis": "x",
         "y": {
          "dtype": "f8",
          "bdata": "cSMVOusj5T9a2n0mc+DtP+StttG40+4/dFbl4z5f7z8yRkqO5Z7vPxofuu5Bye8/FgeW7Hfo7z97CpcY6fDvP1JeWdwO9e8/ptAOwyX47z+1Azba0/nvP8nPZ+gs++8/6XtBFCD87z+h4azoD/3vP89EY0TV/e8/HQ+6UGH+7z/W1s531/7vP9AjleY//+8/tCzQPKb/7z9W/bKH6P/vP/6qMD/5/+8/////////7z/////////vP////////+8/"
         },
         "yaxis": "y",
         "type": "scatter"
        }
       ],
       "layout": {
        "template": {
         "data": {
          "histogram2dcontour": [
           {
            "type": "histogram2dcontour",
            "colorbar": {
             "outlinewidth": 0,
             "ticks": ""
            },
            "colorscale": [
             [
              0.0,
              "#0d0887"
             ],
             [
              0.1111111111111111,
              "#46039f"
             ],
             [
              0.2222222222222222,
              "#7201a8"
             ],
             [
              0.3333333333333333,
              "#9c179e"
             ],
             [
              0.4444444444444444,
              "#bd3786"
             ],
             [
              0.5555555555555556,
              "#d8576b"
             ],
             [
              0.6666666666666666,
              "#ed7953"
             ],
             [
              0.7777777777777778,
              "#fb9f3a"
             ],
             [
              0.8888888888888888,
              "#fdca26"
             ],
             [
              1.0,
              "#f0f921"
             ]
            ]
           }
          ],
          "choropleth": [
           {
            "type": "choropleth",
            "colorbar": {
             "outlinewidth": 0,
             "ticks": ""
            }
           }
          ],
          "histogram2d": [
           {
            "type": "histogram2d",
            "colorbar": {
             "outlinewidth": 0,
             "ticks": ""
            },
            "colorscale": [
             [
              0.0,
              "#0d0887"
             ],
             [
              0.1111111111111111,
              "#46039f"
             ],
             [
              0.2222222222222222,
              "#7201a8"
             ],
             [
              0.3333333333333333,
              "#9c179e"
             ],
             [
              0.4444444444444444,
              "#bd3786"
             ],
             [
              0.5555555555555556,
              "#d8576b"
             ],
             [
              0.6666666666666666,
              "#ed7953"
             ],
             [
              0.7777777777777778,
              "#fb9f3a"
             ],
             [
              0.8888888888888888,
              "#fdca26"
             ],
             [
              1.0,
              "#f0f921"
             ]
            ]
           }
          ],
          "heatmap": [
           {
            "type": "heatmap",
            "colorbar": {
             "outlinewidth": 0,
             "ticks": ""
            },
            "colorscale": [
             [
              0.0,
              "#0d0887"
             ],
             [
              0.1111111111111111,
              "#46039f"
             ],
             [
              0.2222222222222222,
              "#7201a8"
             ],
             [
              0.3333333333333333,
              "#9c179e"
             ],
             [
              0.4444444444444444,
              "#bd3786"
             ],
             [
              0.5555555555555556,
              "#d8576b"
             ],
             [
              0.6666666666666666,
              "#ed7953"
             ],
             [
              0.7777777777777778,
              "#fb9f3a"
             ],
             [
              0.8888888888888888,
              "#fdca26"
             ],
             [
              1.0,
              "#f0f921"
             ]
            ]
           }
          ],
          "contourcarpet": [
           {
            "type": "contourcarpet",
            "colorbar": {
             "outlinewidth": 0,
             "ticks": ""
            }
           }
          ],
          "contour": [
           {
            "type": "contour",
            "colorbar": {
             "outlinewidth": 0,
             "ticks": ""
            },
            "colorscale": [
             [
              0.0,
              "#0d0887"
             ],
             [
              0.1111111111111111,
              "#46039f"
             ],
             [
              0.2222222222222222,
              "#7201a8"
             ],
             [
              0.3333333333333333,
              "#9c179e"
             ],
             [
              0.4444444444444444,
              "#bd3786"
             ],
             [
              0.5555555555555556,
              "#d8576b"
             ],
             [
              0.6666666666666666,
              "#ed7953"
             ],
             [
              0.7777777777777778,
              "#fb9f3a"
             ],
             [
              0.8888888888888888,
              "#fdca26"
             ],
             [
              1.0,
              "#f0f921"
             ]
            ]
           }
          ],
          "surface": [
           {
            "type": "surface",
            "colorbar": {
             "outlinewidth": 0,
             "ticks": ""
            },
            "colorscale": [
             [
              0.0,
              "#0d0887"
             ],
             [
              0.1111111111111111,
              "#46039f"
             ],
             [
              0.2222222222222222,
              "#7201a8"
             ],
             [
              0.3333333333333333,
              "#9c179e"
             ],
             [
              0.4444444444444444,
              "#bd3786"
             ],
             [
              0.5555555555555556,
              "#d8576b"
             ],
             [
              0.6666666666666666,
              "#ed7953"
             ],
             [
              0.7777777777777778,
              "#fb9f3a"
             ],
             [
              0.8888888888888888,
              "#fdca26"
             ],
             [
              1.0,
              "#f0f921"
             ]
            ]
           }
          ],
          "mesh3d": [
           {
            "type": "mesh3d",
            "colorbar": {
             "outlinewidth": 0,
             "ticks": ""
            }
           }
          ],
          "scatter": [
           {
            "fillpattern": {
             "fillmode": "overlay",
             "size": 10,
             "solidity": 0.2
            },
            "type": "scatter"
           }
          ],
          "parcoords": [
           {
            "type": "parcoords",
            "line": {
             "colorbar": {
              "outlinewidth": 0,
              "ticks": ""
             }
            }
           }
          ],
          "scatterpolargl": [
           {
            "type": "scatterpolargl",
            "marker": {
             "colorbar": {
              "outlinewidth": 0,
              "ticks": ""
             }
            }
           }
          ],
          "bar": [
           {
            "error_x": {
             "color": "#2a3f5f"
            },
            "error_y": {
             "color": "#2a3f5f"
            },
            "marker": {
             "line": {
              "color": "#E5ECF6",
              "width": 0.5
             },
             "pattern": {
              "fillmode": "overlay",
              "size": 10,
              "solidity": 0.2
             }
            },
            "type": "bar"
           }
          ],
          "scattergeo": [
           {
            "type": "scattergeo",
            "marker": {
             "colorbar": {
              "outlinewidth": 0,
              "ticks": ""
             }
            }
           }
          ],
          "scatterpolar": [
           {
            "type": "scatterpolar",
            "marker": {
             "colorbar": {
              "outlinewidth": 0,
              "ticks": ""
             }
            }
           }
          ],
          "histogram": [
           {
            "marker": {
             "pattern": {
              "fillmode": "overlay",
              "size": 10,
              "solidity": 0.2
             }
            },
            "type": "histogram"
           }
          ],
          "scattergl": [
           {
            "type": "scattergl",
            "marker": {
             "colorbar": {
              "outlinewidth": 0,
              "ticks": ""
             }
            }
           }
          ],
          "scatter3d": [
           {
            "type": "scatter3d",
            "line": {
             "colorbar": {
              "outlinewidth": 0,
              "ticks": ""
             }
            },
            "marker": {
             "colorbar": {
              "outlinewidth": 0,
              "ticks": ""
             }
            }
           }
          ],
          "scattermap": [
           {
            "type": "scattermap",
            "marker": {
             "colorbar": {
              "outlinewidth": 0,
              "ticks": ""
             }
            }
           }
          ],
          "scattermapbox": [
           {
            "type": "scattermapbox",
            "marker": {
             "colorbar": {
              "outlinewidth": 0,
              "ticks": ""
             }
            }
           }
          ],
          "scatterternary": [
           {
            "type": "scatterternary",
            "marker": {
             "colorbar": {
              "outlinewidth": 0,
              "ticks": ""
             }
            }
           }
          ],
          "scattercarpet": [
           {
            "type": "scattercarpet",
            "marker": {
             "colorbar": {
              "outlinewidth": 0,
              "ticks": ""
             }
            }
           }
          ],
          "carpet": [
           {
            "aaxis": {
             "endlinecolor": "#2a3f5f",
             "gridcolor": "white",
             "linecolor": "white",
             "minorgridcolor": "white",
             "startlinecolor": "#2a3f5f"
            },
            "baxis": {
             "endlinecolor": "#2a3f5f",
             "gridcolor": "white",
             "linecolor": "white",
             "minorgridcolor": "white",
             "startlinecolor": "#2a3f5f"
            },
            "type": "carpet"
           }
          ],
          "table": [
           {
            "cells": {
             "fill": {
              "color": "#EBF0F8"
             },
             "line": {
              "color": "white"
             }
            },
            "header": {
             "fill": {
              "color": "#C8D4E3"
             },
             "line": {
              "color": "white"
             }
            },
            "type": "table"
           }
          ],
          "barpolar": [
           {
            "marker": {
             "line": {
              "color": "#E5ECF6",
              "width": 0.5
             },
             "pattern": {
              "fillmode": "overlay",
              "size": 10,
              "solidity": 0.2
             }
            },
            "type": "barpolar"
           }
          ],
          "pie": [
           {
            "automargin": true,
            "type": "pie"
           }
          ]
         },
         "layout": {
          "autotypenumbers": "strict",
          "colorway": [
           "#636efa",
           "#EF553B",
           "#00cc96",
           "#ab63fa",
           "#FFA15A",
           "#19d3f3",
           "#FF6692",
           "#B6E880",
           "#FF97FF",
           "#FECB52"
          ],
          "font": {
           "color": "#2a3f5f"
          },
          "hovermode": "closest",
          "hoverlabel": {
           "align": "left"
          },
          "paper_bgcolor": "white",
          "plot_bgcolor": "#E5ECF6",
          "polar": {
           "bgcolor": "#E5ECF6",
           "angularaxis": {
            "gridcolor": "white",
            "linecolor": "white",
            "ticks": ""
           },
           "radialaxis": {
            "gridcolor": "white",
            "linecolor": "white",
            "ticks": ""
           }
          },
          "ternary": {
           "bgcolor": "#E5ECF6",
           "aaxis": {
            "gridcolor": "white",
            "linecolor": "white",
            "ticks": ""
           },
           "baxis": {
            "gridcolor": "white",
            "linecolor": "white",
            "ticks": ""
           },
           "caxis": {
            "gridcolor": "white",
            "linecolor": "white",
            "ticks": ""
           }
          },
          "coloraxis": {
           "colorbar": {
            "outlinewidth": 0,
            "ticks": ""
           }
          },
          "colorscale": {
           "sequential": [
            [
             0.0,
             "#0d0887"
            ],
            [
             0.1111111111111111,
             "#46039f"
            ],
            [
             0.2222222222222222,
             "#7201a8"
            ],
            [
             0.3333333333333333,
             "#9c179e"
            ],
            [
             0.4444444444444444,
             "#bd3786"
            ],
            [
             0.5555555555555556,
             "#d8576b"
            ],
            [
             0.6666666666666666,
             "#ed7953"
            ],
            [
             0.7777777777777778,
             "#fb9f3a"
            ],
            [
             0.8888888888888888,
             "#fdca26"
            ],
            [
             1.0,
             "#f0f921"
            ]
           ],
           "sequentialminus": [
            [
             0.0,
             "#0d0887"
            ],
            [
             0.1111111111111111,
             "#46039f"
            ],
            [
             0.2222222222222222,
             "#7201a8"
            ],
            [
             0.3333333333333333,
             "#9c179e"
            ],
            [
             0.4444444444444444,
             "#bd3786"
            ],
            [
             0.5555555555555556,
             "#d8576b"
            ],
            [
             0.6666666666666666,
             "#ed7953"
            ],
            [
             0.7777777777777778,
             "#fb9f3a"
            ],
            [
             0.8888888888888888,
             "#fdca26"
            ],
            [
             1.0,
             "#f0f921"
            ]
           ],
           "diverging": [
            [
             0,
             "#8e0152"
            ],
            [
             0.1,
             "#c51b7d"
            ],
            [
             0.2,
             "#de77ae"
            ],
            [
             0.3,
             "#f1b6da"
            ],
            [
             0.4,
             "#fde0ef"
            ],
            [
             0.5,
             "#f7f7f7"
            ],
            [
             0.6,
             "#e6f5d0"
            ],
            [
             0.7,
             "#b8e186"
            ],
            [
             0.8,
             "#7fbc41"
            ],
            [
             0.9,
             "#4d9221"
            ],
            [
             1,
             "#276419"
            ]
           ]
          },
          "xaxis": {
           "gridcolor": "white",
           "linecolor": "white",
           "ticks": "",
           "title": {
            "standoff": 15
           },
           "zerolinecolor": "white",
           "automargin": true,
           "zerolinewidth": 2
          },
          "yaxis": {
           "gridcolor": "white",
           "linecolor": "white",
           "ticks": "",
           "title": {
            "standoff": 15
           },
           "zerolinecolor": "white",
           "automargin": true,
           "zerolinewidth": 2
          },
          "scene": {
           "xaxis": {
            "backgroundcolor": "#E5ECF6",
            "gridcolor": "white",
            "linecolor": "white",
            "showbackground": true,
            "ticks": "",
            "zerolinecolor": "white",
            "gridwidth": 2
           },
           "yaxis": {
            "backgroundcolor": "#E5ECF6",
            "gridcolor": "white",
            "linecolor": "white",
            "showbackground": true,
            "ticks": "",
            "zerolinecolor": "white",
            "gridwidth": 2
           },
           "zaxis": {
            "backgroundcolor": "#E5ECF6",
            "gridcolor": "white",
            "linecolor": "white",
            "showbackground": true,
            "ticks": "",
            "zerolinecolor": "white",
            "gridwidth": 2
           }
          },
          "shapedefaults": {
           "line": {
            "color": "#2a3f5f"
           }
          },
          "annotationdefaults": {
           "arrowcolor": "#2a3f5f",
           "arrowhead": 0,
           "arrowwidth": 1
          },
          "geo": {
           "bgcolor": "white",
           "landcolor": "#E5ECF6",
           "subunitcolor": "white",
           "showland": true,
           "showlakes": true,
           "lakecolor": "white"
          },
          "title": {
           "x": 0.05
          },
          "mapbox": {
           "style": "light"
          }
         }
        },
        "xaxis": {
         "anchor": "y",
         "domain": [
          0.0,
          1.0
         ],
         "title": {
          "text": "# Components"
         }
        },
        "yaxis": {
         "anchor": "x",
         "domain": [
          0.0,
          1.0
         ],
         "title": {
          "text": "Explained Variance"
         }
        },
        "legend": {
         "tracegroupgap": 0
        },
        "margin": {
         "t": 60
        }
       },
       "config": {
        "plotlyServerURL": "https://plot.ly"
       }
      }
     },
     "metadata": {},
     "output_type": "display_data"
    }
   ],
   "execution_count": 15
  },
  {
   "metadata": {},
   "cell_type": "markdown",
   "source": "La méthode du coude nous indique que 2 composantes principales sont suffisantes pour les déplacements.",
   "id": "73bb5b04d0ec3db"
  },
  {
   "metadata": {},
   "cell_type": "markdown",
   "source": "### Visualisation du PCA sur les deux dataframes",
   "id": "d7708a322373238a"
  },
  {
   "metadata": {
    "ExecuteTime": {
     "end_time": "2025-06-05T11:32:41.682434Z",
     "start_time": "2025-06-05T11:32:41.370588Z"
    }
   },
   "cell_type": "code",
   "source": "visualize_pca(df_move_normalize_filter, 2, \"action\", *X_move.columns)",
   "id": "5aefd35c5c7c64c5",
   "outputs": [
    {
     "data": {
      "application/vnd.plotly.v1+json": {
       "data": [
        {
         "hovertemplate": "color=ARRIERE<br>0=%{x}<br>1=%{y}<extra></extra>",
         "legendgroup": "ARRIERE",
         "marker": {
          "color": "#636efa",
          "symbol": "circle"
         },
         "mode": "markers",
         "name": "ARRIERE",
         "showlegend": true,
         "x": {
          "dtype": "f8",
          "bdata": "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"
         },
         "xaxis": "x",
         "y": {
          "dtype": "f8",
          "bdata": "3IuWGwEr1r+MQl0qWYvavx5UQhuPkeK/dHkcXQcl2784mbO4eobev6Ds1ecAP86/fPrdIRZw4r/gZf3vqtjivzjLrHrkYOS/HPsq/VAi4L9sLt41Q33pvwodLJ+tluG/HqDqKgx14L/4XYTNnzzfv/yxwGwckOO/WIkDhki5z79UAD4eyhTQv4DKIqeUiM+/KBrn2yQr0L9so+5IKabUv0AFR3Z1fs6/OLgToK9VzL8gKATNd93Iv4w1UP544NO/qPrMKydAz78SL0oJqKjhvyqQ8Xx58+O/BBq/tYab37+QFfxpmabHv2SJBNaD9de/sKXK1wHvtb+EKWt2GEvWv2a0IyJ1XOa/WqEGBZHT779W4eTHVkvgvyDJ6As2vKy/dDjOx3sA37+EFG6QG1fcv4RTxuI0Dtu/mucAFfb/4b8gVrLxohnfv3hVX4k9Z8O/OH4B0W4V3L+W/xlv9zDkvyRN+JSGK9+/YL/WneGA1r/49JtrgX7av6CGw6G8Hta/qJebOLuV3b+mZHfTw9/lv+AygX9cDei/EKmwQFgp378MQ9P9NGLTv3iwTTMZCtG/iMuYG0/l079oLYi5u4rPv5Bg8cRD1uG/ngH09EgC4r8AfUPT8fTdv3iHjY0dPeq/bEFSyF7E4L8A86NRC/bRvyq9LtNFEuq/QOzYggOi6r+UK9XDamHqv5awwi3N8em/NH2Fwz3h6b8s3F1A6xjpv5Q8JQYuX+q/eLZFYwEK7L/MYafSS8njvxoT2r03GuW/IgIXMEpS5L8APUs4LMbhvzjvHydbIOC/Imq22nkx478kYclT0unhv/o4LGL9QeK/Uq5jiwGd4b9qpBwJ9e7iv7DJy/bd2ty/emGeulwX4L/0rdGcPGTevyYJOM84kuC/zpuUJQGn4L9E6vQBooHkv4RAi0BPeN6/Zl14EdUC478a4yqjof3jv+hRTR/uUeS/9CenahrJ4r/Wqzym0ibnv+Squ7ge3ea/qJ0kWO2P279O50j8Wjbkvy5l19bP0+6/sU1bXF0W8b9O4nsT1Zzrvx5IRPLXKOa/0qxsn/US5b8869HRgm/hv2LrS691NuG/tgVUNRzo5b/uyebfWkfqv/T3U39Ct+a/qCe944+b5L805MiaxpzUv9iRA/yZ1Ni/vFcp8+iO4b9UBqjdk2bZv/BmJyx3qdy/IMdMvn6Sy7+KLrXeXW7hv8717e8B1uG/BpEMB9pT478ALGZf4Gvev+aKg+sdRei/JFqYv46e4L/YmooFywvfv0CUm6PEaN2/RDYtq1yB4r/YokmI8xHNvwDX64x5ds2/8PQX+iHizL8AtFB+M8PNv/hlQUMxOtO/aEF8JqDmy7/ADj17bhnKv+BOnih+v8a/VLGeDjaj0r/oy96LGQ7Nv1yV55ctn+C/mGC2eNjZ4r+Y0wWHXJrdv+AdDIV7GMW/iHMuT4RL1r/gYMFn3JGxv2x6fwbspdS/fNvQseoo5b+6IqQQnFXuv9zuBSGond6/IHDeYxGKpL+gNDNpMwrdv3jicxcvhNq/dPidx/892b/qSBgJze/gv1gKVurcLd2/GFR6mtf4wL84ujncyzDav94++5hO/+K/gMB3cU0r3b+YlQDNYMHUv+xYf4jhc9i/TNmwbIZG1L9Apm4+LHzbv/AatI6XkOS/DpmsYs+q5r8oujPMAzHdv3hKflC90tG/6HcouMcCz7+wDeebz0DSvxgEP9tDfsy/wO4ctxN34L9Qnr/fmJzgv+BA5fxDb9u/Nlhkqo1x6L/0a+ZI19Dev7Cb8YtE48+/HMJXOt6T6L9Mz4n2oBzpvxbPaWCI3+i/5MjmN5t06L/aQL23UGPov8ThbH4Spue/Nk01PQ/h6L+cZFJTUXfqv958wOhtU+K/mL6KRCeV47+wb+S0D9TivyqCPfKlZOC/HNzv5Ren3b9A2u5Pa8rhvyb7jYHii+C/GOMvZc/g4L+q/ikj6ETgv9Y/+8Ggg+G/9EztwE/O2r+44JgtFQDev4yiTyYpMty/+MBROtrZ3r/UiW7SJvzev1QLfmhQNOO/+Jl1aSxK3L/SiFKRksfhv9pBvsOcuuK/eM+1/20P47+o99zcR5Hhv2I2oap28+W/wCqMUN6t5b/MCtzQisvZv4LKqPW+F+O/XNaTLKla7b8TG/tU/E/wv4BAqwJCReq/MIIWwgT+5L/U6Ffw3/Xjv5ak1e3CbOC/CFns5j424L/Cpsniur/kv5q6XnptAOm/IDeB6eKM5b9uOXsvdIbjv+iLlhsBK9a/jEJdKlmL2r8gVEIbj5Hiv3R5HF0HJdu/OJmzuHqG3r+Y7NXnAD/Ov3r63SEWcOK/4GX976rY4r84y6x65GDkvyD7Kv1QIuC/cC7eNUN96b8OHSyfrZbhvx6g6ioMdeC/+F2EzZ8837/8scBsHJDjv1CJA4ZIuc+/TAA+HsoU0L+IyiKnlIjPvyga59skK9C/aKPuSCmm1L9ABUd2dX7Ov0C4E6CvVcy/ICgEzXfdyL+UNVD+eODTv6j6zCsnQM+/Ei9KCaio4b8qkPF8efPjv/wZv7WGm9+/oBX8aZmmx79oiQTWg/XXv9ClytcB77W/gClrdhhL1r9otCMidVzmv16hBgWR0++/UOHkx1ZL4L9AyegLNrysv3A4zsd7AN+/iBRukBtX3L+EU8biNA7bv5znABX2/+G/IFay8aIZ3794VV+JPWfDvzx+AdFuFdy/mv8Zb/cw5L8wTfiUhivfv2i/1p3hgNa//PSba4F+2r+ghsOhvB7Wv6yXmzi7ld2/qGR308Pf5b/gMoF/XA3ovxSpsEBYKd+/CEPT/TRi07+AsE0zGQrRv4jLmBtP5dO/YC2IubuKz7+QYPHEQ9bhv6IB9PRIAuK/+HxD0/H03b92h42NHT3qv2xBUshexOC/BPOjUQv20b8qvS7TRRLqv0Ds2IIDouq/kCvVw2ph6r+WsMItzfHpvzJ9hcM94em/JtxdQOsY6b+cPCUGLl/qv3q2RWMBCuy/zGGn0kvJ478SE9q9NxrlvyYCFzBKUuS/+jxLOCzG4b887x8nWyDgvx5qttp5MeO/IGHJU9Lp4b/+OCxi/UHiv1SuY4sBneG/aqQcCfXu4r+wycv23drcv3phnrpcF+C/9K3RnDxk3r8oCTjPOJLgv9ablCUBp+C/Rur0AaKB5L+IQItAT3jev2ZdeBHVAuO/GuMqo6H947/mUU0f7lHkv/Qnp2oayeK/1qs8ptIm57/oqru4Ht3mv5ydJFjtj9u/SudI/Fo25L8qZdfWz9Puv7FNW1xdFvG/UOJ7E9Wc678mSETy1yjmv9SsbJ/1EuW/OOvR0YJv4b9m60uvdTbhv7YFVDUc6OW/7snm31pH6r/w91N/Qrfmv6onveOPm+S/MHnBH57w2b+Qtx1PbHrev36cbskdoOS/LF2QqWIg379U4MuvnEzhv+gynjaZw9K/Ds8MgP9/5L+C1fDTT+Tkv0ydqE3Sc+a/CDFz2u0c4r8mGxA9IrLrv+TeSu7ymeO/2jEMf+xx4r9mP61ynpjhv462SI22reW/WE4ggXRv07+UMiHEhrfTv+QD0/gFWNO/5Dy8Vyuh07/cHUsVtzTYv8SdsqAOxNK/hPWJCCVI0b/IfY/MVejOv0TCmkON/Na/UOTF/+qT0r+eB9U7R97jv3QTo1jQL+a/hO7+xRMJ4r/oPXwMYyzPvzzjkFCE+tu/eJ5Kze1hwr9cw4/pa2javzSrIw9atui/GSHuycku8b82pEabUXPivxDcy8i25Ly/pjAOeQ2k4b/wzC3RdTjgv/hGF9PtMd+/mqhsGWov5L92y4j4gaHhv1gDTpRovMq/UMeHaJ0m4L9WcJp+Kozmv/5FM7QlxOG/FER9zCzE2r9AJ11UpzvfvwRIHUINsNq/6hfjoVci4b+gbnxgJmLov+Y+41I2n+q/pEpi0Ya/4b8kl5zZCGfXv1xwEhheGtW/FCXdoUoT2L+ULwe/vujTv/LSBLAAzuS/2My+egEI5b/GKmD76+Phv0rCUeLdnO2/SuFeuxPJ47+oq2gzO3DXv/7i2x202Oy/3Onv98Zv7b9G40LWOi3tv2yTAQbDt+y/6jhEKMKp7L9+zdsrUdLrv+hFPUTfHu2/7hxjne7d7r8gJQ2SjsrmvyyHBTqOJ+i/znyl6r1b579aW0QIVrnkv0DudGuj/+K/tjcGRuIT5r+sSDAbiM3kv2RSE5iJJ+W/wFh82Ol55L+KRNoKJePlv9qkQmEDvOC/jHGewGF14r/SpZA2m6Phv0K5tBfnCuO/KrW9KKkm47/Ib7hSthnnvwDsJIU7p+G/3DHyhfiI5b+2m7kY1YPmvxo1HnqQ0Oa/anbTEVJH5b8yRm59qWXpv4x8AuiWFum/3KvGz8OL37/wHOzrgGvmvwmEQpFGqPC/rczcWqtX8r8IEye1gvftv4DIFhgQY+i/HJTj3uM7578uXq2AhInjvyh0DfoKTeO/bEta5Z8e6L/Kuqolo43svxwzs0Jj6Oi/grFKGbC25r8="
         },
         "yaxis": "y",
         "type": "scattergl"
        },
        {
         "hovertemplate": "color=AVANT<br>0=%{x}<br>1=%{y}<extra></extra>",
         "legendgroup": "AVANT",
         "marker": {
          "color": "#EF553B",
          "symbol": "circle"
         },
         "mode": "markers",
         "name": "AVANT",
         "showlegend": true,
         "x": {
          "dtype": "f8",
          "bdata": "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"
         },
         "xaxis": "x",
         "y": {
          "dtype": "f8",
          "bdata": "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"
         },
         "yaxis": "y",
         "type": "scattergl"
        },
        {
         "hovertemplate": "color=DROITE<br>0=%{x}<br>1=%{y}<extra></extra>",
         "legendgroup": "DROITE",
         "marker": {
          "color": "#00cc96",
          "symbol": "circle"
         },
         "mode": "markers",
         "name": "DROITE",
         "showlegend": true,
         "x": {
          "dtype": "f8",
          "bdata": "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"
         },
         "xaxis": "x",
         "y": {
          "dtype": "f8",
          "bdata": "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"
         },
         "yaxis": "y",
         "type": "scattergl"
        },
        {
         "hovertemplate": "color=GAUCHE<br>0=%{x}<br>1=%{y}<extra></extra>",
         "legendgroup": "GAUCHE",
         "marker": {
          "color": "#ab63fa",
          "symbol": "circle"
         },
         "mode": "markers",
         "name": "GAUCHE",
         "showlegend": true,
         "x": {
          "dtype": "f8",
          "bdata": "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"
         },
         "xaxis": "x",
         "y": {
          "dtype": "f8",
          "bdata": "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"
         },
         "yaxis": "y",
         "type": "scattergl"
        },
        {
         "hovertemplate": "color=NEUTRE<br>0=%{x}<br>1=%{y}<extra></extra>",
         "legendgroup": "NEUTRE",
         "marker": {
          "color": "#FFA15A",
          "symbol": "circle"
         },
         "mode": "markers",
         "name": "NEUTRE",
         "showlegend": true,
         "x": {
          "dtype": "f8",
          "bdata": "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"
         },
         "xaxis": "x",
         "y": {
          "dtype": "f8",
          "bdata": "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"
         },
         "yaxis": "y",
         "type": "scattergl"
        },
        {
         "hovertemplate": "color=SURPRISE<br>0=%{x}<br>1=%{y}<extra></extra>",
         "legendgroup": "SURPRISE",
         "marker": {
          "color": "#19d3f3",
          "symbol": "circle"
         },
         "mode": "markers",
         "name": "SURPRISE",
         "showlegend": true,
         "x": {
          "dtype": "f8",
          "bdata": "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"
         },
         "xaxis": "x",
         "y": {
          "dtype": "f8",
          "bdata": "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"
         },
         "yaxis": "y",
         "type": "scattergl"
        },
        {
         "hovertemplate": "color=TOURNER_DROITE<br>0=%{x}<br>1=%{y}<extra></extra>",
         "legendgroup": "TOURNER_DROITE",
         "marker": {
          "color": "#FF6692",
          "symbol": "circle"
         },
         "mode": "markers",
         "name": "TOURNER_DROITE",
         "showlegend": true,
         "x": {
          "dtype": "f8",
          "bdata": "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"
         },
         "xaxis": "x",
         "y": {
          "dtype": "f8",
          "bdata": "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"
         },
         "yaxis": "y",
         "type": "scattergl"
        },
        {
         "hovertemplate": "color=TOURNER_GAUCHE<br>0=%{x}<br>1=%{y}<extra></extra>",
         "legendgroup": "TOURNER_GAUCHE",
         "marker": {
          "color": "#B6E880",
          "symbol": "circle"
         },
         "mode": "markers",
         "name": "TOURNER_GAUCHE",
         "showlegend": true,
         "x": {
          "dtype": "f8",
          "bdata": "UNZU/w45zr8w5VplPRvPvxBFq7/74M6/mJEHcHP90r/IjUFB4NbSv5i8D0f1LM+/GGv+DYOwzr/8HN+63BPQv0CkEYv2fL6/0I1zdpXlwL/QtEzUngqyv7DT8uEj68G/FByg6V2Q1L8I1dw146rSv3j6X4wI99G/xLmCVuaF079wZ1fn6xvLv2Bhuz4o/K+/IGXJzpZItr8wAy696nTLvyAI8QgT1Ne/wGujINeA4b+k3aVEREfQv+AlPkaCssO/AJrBldR3uL/47VC6KwPdv3j3viHYZuK/UB+XSnq7478wxM05rLLnv+h+xPtr6N2/sCTszP/ixT+IGNrzKkTLv3jYHZafbM0/AKOpM5nAu7+4JWxjuujbv9COI2on8MW/YFEBoa+stT+wLDZvtl3DP+CqQfLEk6M/ADfwl388rL94WKgHpAnUv6iDCk5LXsS/CImXz8Lv1b/g25ZFnt+lvxC9XRPcVbs/ANnM3+nQmz+Q5Qn9JrHKv5BjMW7s4c+/kNoRTuDrxL8ARCsKqRSCv2ifNUVgHMU/pG/pqVkR0z+AHEUes7KLvxih96XOccm/8LaB9Jj40b9E499ZZsvQv4DBeuXtJM6/oN2z1zlFor8QN908ppG2PwBgdCoYJiU/wKMFtCxqv7/YpY+ewNDJvwDBHahBtsW/4GQG25FQ2r/4NxGQRLbNP9yIuDU5bd8/WEU0QqLD2D8gVQJNj3qvv+DXtO6Brre/LG5aC2Ir0T+gs7VHXW++vzADTdDXCdS/KD1ObxTX3b9g+Qj7vNWjv1BzFevFfsc/IBrhOejKwz8oPx9mbG/CP7B1Dd1VCLC/eFyA1e6owr8AUApz4FhkPwBsXo2NuFy/AHDj575RND8Aqn21it2Cv5A8ppet6Lm/YHCWsMQlw79Q9LmMuwK1v9Bzgy0EoLI/MOvQhjlIuj9gcwWFPgG9PzggvUyX48A/cHcBlmxlvD/AVeyJGK2rP8Cwzoi6MpO/UGdjkfKoz79wIDRPgZnQv4BFeLPwL9G/1NKYCFAh27/QoJAoZ6jfvwAo54FdMsu/CKlaqCL3z78AMsh0xOrVv2g16Ua/P9O/gI6YlB9F0r+EX2/GmorRv9zXXRpuEtO/ONUSrDi4yb/oOnynMcfcv1AwXgE8FOC/2GxFYI0d1L9ElxDFQavSv8C28Ns6Upm/gNH/6dF4pL8I8+t3eX7OP4CuX/FXHqG/GPg67KodxL+YY3FdCDLQP1hDykYprMq/8DBT4Z9Hw78wxV6Bqf68Pxg+iRbYzsy/fPcGvVgJ0z9A/rBJp6PHv2DhpY/pQt2/CLfkjWpTzb8UwbtbQErUv8wSPoYHnNO/gOV5bKBg3r+Yf7yhfR/evxj7CIA8LtC/sKTw5I//0b/IuNIIWFTQvwihxhEoOMG/kGqEQrAGwb8Q7lU8gau7vxBDCWpkady/ON8K4Cnn37+YPtRm2gXIv8A/L2/PJq0/yJPqmDk3zj8AW46u5DV8v1DKd5lET8q/GLXUn0cay7+A+NOYAtvKv9ALqWsN39C/yB3H/g650L+oC4P2SRvLv4juuuLInsq/oEl/VXYCzL/AmDam0D+3v2DIB0JydLq/YPpi08Ikpr/wZV3ormO8v2iKZS7LZtK/cHoRR6yS0L8IBLUoPcjPv4Rizen5aNG/KM5xnVAxx7+grwMhPS+ivyBLGV2jrKq/qI3auc4+xr9UK3BXU9bUv/CJvOcxut+/UI79mfQ+y7+QO0NXSU+9v8BffZrjVK6/fB53ZkHV2b+YO1BDHazgv6RkGiqW5+G/dC5CXR675b+QeQ1K5pnavyA9UsuhZMk/qH8dysNLxr/QPBrBEznQP1DMj6QRu7K/kLlpFC3o2L8AxCVdPj7Bv/A2TkNnzrw/sG+S2Vytxj9grw733HWxP8DVQR6rqpa/rBrWFpNZ0b/wxcsRiiLAv6Sy5y7fdtO/gFShPIIhi7+47pSVUN3AP4BrHNS8/Ks/MA9rW6BDxr+QnNGecEzLv5A9CKjOs8C/AFmYSNQQlD+QTnh9FBTIP2jJohO+R9Q/APKgcWHijj8oLJ+XSgjFv8iz6gEmPs+/YARqRnLjzL9g1Dys2q3JvwAgSb9ALDc/8MUDcs6Zvj9A82S0leWhP9DmVh2iV7W/eKtL1NBixL8w6yuf4G/Av6jatEpNGNe/rPrSs12A0D8WlzO6hjrgP5zUqMBYDto/oFqptAEDob+Ql9GUTjWwv7zPSpQjXtI/EKYGrMautr8gfwnR28LRv8BZj+WKTtu/AMkk8k+Uhr9APu4i5SLKP1jDnGwKjcY/6I29a5JExT8ghdBQUKGhv7CyBkHhh72/ADLvsmOioj+AazUoLo+gP4DHymILdaE/wMlw2RyrmT9gC1D5aFywvzD77WBiSry/wI261mQfp79Q+JbbA5a6P8AkiXLX+cA/eJc1iWhIwj9guue27pzEP8BhBhTcCMI/UJCBLvMRtj+Ag6mEG2WQPzAf77XjxMu/WBwQEtpBzb8Y7dKbpmDOv3B8g0n91Ni/4AzDaec83b9AhlydM2fHv/idsImkE8y/nEu6CRHP079IDQPfzC3RvxycDFhnOtC/oKZfic8Uz7/QSVZujP3Qv+Bdph1k8sW/rNgCddx02r/4qmIdJLfdv6CPLqdcAdK/6EBftmKZ0L+Ang+yHoORPwB+dbO2N2c/6BjP+zoy0T+A+dkNDrqCP9BtyXJq77u/OI0cJ/wY0j8QnYvBQy3EvyC2tWVDaLq/IGbgD04Swz9goQNwM13Gv2Sj6W8MxdQ/gCD0bfbYw79kcynY4t3av5hBS7WzVcm/ZLycIu8e0r/AAo/BNnrRv5i0bS6X79u/gGrrH83l278oNTp4OmTMv+ifNUFl1c+/mENxOzySzL+g3RK7/2y5v1C7q2XfCLm/MPMbDaHXsr+wZPVEwoDZv6Avddy74ty/+LkQCbBYw78AAItQQdC1P7QrXl9jhdA/QBbRfZQomD9Q1lT/DjnOvyjlWmU9G8+/IEWrv/vgzr+YkQdwc/3Sv9CNQUHg1tK/oLwPR/Usz78ga/4Ng7DOv/gc37rcE9C/MKQRi/Z8vr/IjXN2leXAv9C0TNSeCrK/uNPy4SPrwb8QHKDpXZDUvwjV3DXjqtK/fPpfjAj30b/IuYJW5oXTv2hnV+frG8u/QGG7Pij8r78gZcnOlki2vzADLr3qdMu/HAjxCBPU17+8a6Mg14Dhv6TdpURER9C/2CU+RoKyw78AmsGV1He4v/jtULorA92/dPe+Idhm4r9UH5dKervjvzTEzTmssue/6H7E+2vo3b/AJOzM/+LFP4AY2vMqRMu/eNgdlp9szT8Ao6kzmcC7v7glbGO66Nu/0I4jaifwxb9wUQGhr6y1P7gsNm+2XcM/AKtB8sSToz8AN/CXfzysv4BYqAekCdS/sIMKTktexL8IiZfPwu/VvwDclkWe36W/EL1dE9xVuz9A2czf6dCbP5DlCf0mscq/iGMxbuzhz7+Q2hFO4OvEv4BEKwqpFIK/YJ81RWAcxT+cb+mpWRHTP4AbRR6zsou/GKH3pc5xyb/wtoH0mPjRvzzj31lmy9C/gMF65e0kzr/A3bPXOUWivzA33TymkbY/AGB0KhgmJT/AowW0LGq/v+ilj57A0Mm/AMEdqEG2xb/oZAbbkVDav+g3EZBEts0/2Ii4NTlt3z9cRTRCosPYP0BVAk2Peq+/4Ne07oGut78obloLYivRP6CztUddb76/MANN0NcJ1L8gPU5vFNfdv6D5CPu81aO/SHMV68V+xz8gGuE56MrDPyg/H2Zsb8I/oHUN3VUIsL9oXIDV7qjCvwBQCnPgWGQ/AGxejY24XL8AYOPnvlE0PwCpfbWK3YK/gDyml63oub9gcJawxCXDv1D0uYy7ArW/0HODLQSgsj8g69CGOUi6P2BzBYU+Ab0/QCC9TJfjwD9wdwGWbGW8P8BV7IkYras/wLDOiLoyk79QZ2OR8qjPv3QgNE+BmdC/hEV4s/Av0b/Y0pgIUCHbv8igkChnqN+/ACjngV0yy78QqVqoIvfPvwAyyHTE6tW/aDXpRr8/07+EjpiUH0XSv4Bfb8aaitG/4NddGm4S078o1RKsOLjJv+A6fKcxx9y/TDBeATwU4L/YbEVgjR3Uv0SXEMVBq9K/wLbw2zpSmb+A0f/p0Xikvwjz63d5fs4/gK5f8Vceob8Y+Drsqh3Ev5BjcV0IMtA/YEPKRimsyr8AMVPhn0fDvzDFXoGp/rw/GD6JFtjOzL949wa9WAnTP0D+sEmno8e/YOGlj+lC3b8Qt+SNalPNvxTBu1tAStS/zBI+hgec07+A5XlsoGDev5B/vKF9H96/HPsIgDwu0L+wpPDkj//Rv8i40ghYVNC/CKHGESg4wb+QaoRCsAbBvyDuVTyBq7u/IEMJamRp3L8w3wrgKeffv5g+1GbaBci/gD8vb88mrT/Qk+qYOTfOPwBbjq7kNXy/yIRXX5TC0L90L2oV8ETRv1RL4JNYKtG/aFgE7c3J1L/8WtZA0ZvUv1C1neOyTNG/3Ptxm3MO0b+Yce0evdDRv4BK+flGU8K/+AGCJZoGxL9As93SkRe4v8iD65hOG8W/RKg1VvJZ1r9M8KWbvGfUv8gllSSGsNO/AA/O8Q9G1b/AYDBvUWTOv/Ct8h28+rW/MNpgD7pZvr/cwj/99g3Qv6itOKacbdq/3Jj27DDj4r/w34qd7p7Sv0DzrzGqQsi/KHinKTWCwL/AkFFQ6sLfvwSeuWXA3eO/gAP147BF5b90rAAkBlPpv3yvSUVWX+C/cGgCq4OSwj8w1P92iu3PvyBYPgq+Wso/eDgXkf3+wb/opG24Zofev7C4eFQcMsq/IM5GMMQGrj9IIxr/di/AP4DgzGNUz4Q/gMyb6sDrtb9EhJGsOXLWv5jogsNDCMi/iMbyR2YN2L+ggNHj0ayxv7Db9T7se7U/AMw32ynNYz+AEajabIjOv+TT0OjB6tG/SJaKccKdyL/AjD0horihv7hlwXc5WcI/WEFjPKzk0T+AYepvHxikv9CtXLWJTs2/iNAcUQIB1L8U27Fxi8vSv2AKkbONCNG/QEqace7+sb/AtytoQzutPyAUOkKHIaG/gO/G2M9sxL/YNA9Z7NbOv3Dq8zbGmcq/OIjAJcg13b94ovFBM2bKP7jtgK9rO94/AJbc09tZ1z8Andy5Yl22v6CHarSSfr6/mFBQVJL6zz9wJC9dbbDCvxjQSN8qBta/JK39IYcB4L/gwpQ6/GGwv3jcR8G0AMU/+Hu++LEwwT9gxhWWGoe/P5DAhEACjLa/uBi9icslxr8AD0mm6OOdv6D903g7MaG/QFxXv5ewn7/AvQM4bhalvxigRq0fW8G/+E0jNTS7x7/whzCU87+9vwBLebwxG6Y/gNX4Qybusj9QEqodHba1P3CybEizi7o/wJRWQy36tD8ARaSM2N+XP2C3XeL7XKq/eNtxyJ+N0b+kYtY0o1fSv+gJOM3389K/QMaH/Ggc3b/APlxNht/gv8DvNYZPjs6/9CH6nF6u0b8Y9cAXsLnXv/BYc7onDdW/HC4F2yIM1L9IJPtab0bTvyzT6dim5tS/GG9gc14Qzb/gHmaAGcfev6zIt4X7IOG/4CzIMFX41b80WTgQOoLUv3C0zV6Xs7C/IABL18HStL/49yOVL3DKP7BkDH6rHbO/iDv5RuTqyb84mwoLNGnMPwzJvzZLZdC/IJYKgmEAyb+gyXKfiuyzP3ChpRa8X9G/1L/93lw60T/QGGq8kt3Kv6iC+IDbOt+/jK8rnF5c0L+0qW2e4R/Wv/w3YBfYa9W/jMWCKWg44L8wuQvCSfffv4jg1m2r4dG/DFDxoKXH07/Y3XzqwhfSvyBT/RiSR8W/kLrFXOkVxb+g2RGEp9PBv6D14m0Q6d6/gGttDlI/4b+wA+OkPDTMv8Anv2XPCZ8/QGBs6nNtyz/AOe+4nfahvw=="
         },
         "xaxis": "x",
         "y": {
          "dtype": "f8",
          "bdata": "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"
         },
         "yaxis": "y",
         "type": "scattergl"
        }
       ],
       "layout": {
        "template": {
         "data": {
          "histogram2dcontour": [
           {
            "type": "histogram2dcontour",
            "colorbar": {
             "outlinewidth": 0,
             "ticks": ""
            },
            "colorscale": [
             [
              0.0,
              "#0d0887"
             ],
             [
              0.1111111111111111,
              "#46039f"
             ],
             [
              0.2222222222222222,
              "#7201a8"
             ],
             [
              0.3333333333333333,
              "#9c179e"
             ],
             [
              0.4444444444444444,
              "#bd3786"
             ],
             [
              0.5555555555555556,
              "#d8576b"
             ],
             [
              0.6666666666666666,
              "#ed7953"
             ],
             [
              0.7777777777777778,
              "#fb9f3a"
             ],
             [
              0.8888888888888888,
              "#fdca26"
             ],
             [
              1.0,
              "#f0f921"
             ]
            ]
           }
          ],
          "choropleth": [
           {
            "type": "choropleth",
            "colorbar": {
             "outlinewidth": 0,
             "ticks": ""
            }
           }
          ],
          "histogram2d": [
           {
            "type": "histogram2d",
            "colorbar": {
             "outlinewidth": 0,
             "ticks": ""
            },
            "colorscale": [
             [
              0.0,
              "#0d0887"
             ],
             [
              0.1111111111111111,
              "#46039f"
             ],
             [
              0.2222222222222222,
              "#7201a8"
             ],
             [
              0.3333333333333333,
              "#9c179e"
             ],
             [
              0.4444444444444444,
              "#bd3786"
             ],
             [
              0.5555555555555556,
              "#d8576b"
             ],
             [
              0.6666666666666666,
              "#ed7953"
             ],
             [
              0.7777777777777778,
              "#fb9f3a"
             ],
             [
              0.8888888888888888,
              "#fdca26"
             ],
             [
              1.0,
              "#f0f921"
             ]
            ]
           }
          ],
          "heatmap": [
           {
            "type": "heatmap",
            "colorbar": {
             "outlinewidth": 0,
             "ticks": ""
            },
            "colorscale": [
             [
              0.0,
              "#0d0887"
             ],
             [
              0.1111111111111111,
              "#46039f"
             ],
             [
              0.2222222222222222,
              "#7201a8"
             ],
             [
              0.3333333333333333,
              "#9c179e"
             ],
             [
              0.4444444444444444,
              "#bd3786"
             ],
             [
              0.5555555555555556,
              "#d8576b"
             ],
             [
              0.6666666666666666,
              "#ed7953"
             ],
             [
              0.7777777777777778,
              "#fb9f3a"
             ],
             [
              0.8888888888888888,
              "#fdca26"
             ],
             [
              1.0,
              "#f0f921"
             ]
            ]
           }
          ],
          "contourcarpet": [
           {
            "type": "contourcarpet",
            "colorbar": {
             "outlinewidth": 0,
             "ticks": ""
            }
           }
          ],
          "contour": [
           {
            "type": "contour",
            "colorbar": {
             "outlinewidth": 0,
             "ticks": ""
            },
            "colorscale": [
             [
              0.0,
              "#0d0887"
             ],
             [
              0.1111111111111111,
              "#46039f"
             ],
             [
              0.2222222222222222,
              "#7201a8"
             ],
             [
              0.3333333333333333,
              "#9c179e"
             ],
             [
              0.4444444444444444,
              "#bd3786"
             ],
             [
              0.5555555555555556,
              "#d8576b"
             ],
             [
              0.6666666666666666,
              "#ed7953"
             ],
             [
              0.7777777777777778,
              "#fb9f3a"
             ],
             [
              0.8888888888888888,
              "#fdca26"
             ],
             [
              1.0,
              "#f0f921"
             ]
            ]
           }
          ],
          "surface": [
           {
            "type": "surface",
            "colorbar": {
             "outlinewidth": 0,
             "ticks": ""
            },
            "colorscale": [
             [
              0.0,
              "#0d0887"
             ],
             [
              0.1111111111111111,
              "#46039f"
             ],
             [
              0.2222222222222222,
              "#7201a8"
             ],
             [
              0.3333333333333333,
              "#9c179e"
             ],
             [
              0.4444444444444444,
              "#bd3786"
             ],
             [
              0.5555555555555556,
              "#d8576b"
             ],
             [
              0.6666666666666666,
              "#ed7953"
             ],
             [
              0.7777777777777778,
              "#fb9f3a"
             ],
             [
              0.8888888888888888,
              "#fdca26"
             ],
             [
              1.0,
              "#f0f921"
             ]
            ]
           }
          ],
          "mesh3d": [
           {
            "type": "mesh3d",
            "colorbar": {
             "outlinewidth": 0,
             "ticks": ""
            }
           }
          ],
          "scatter": [
           {
            "fillpattern": {
             "fillmode": "overlay",
             "size": 10,
             "solidity": 0.2
            },
            "type": "scatter"
           }
          ],
          "parcoords": [
           {
            "type": "parcoords",
            "line": {
             "colorbar": {
              "outlinewidth": 0,
              "ticks": ""
             }
            }
           }
          ],
          "scatterpolargl": [
           {
            "type": "scatterpolargl",
            "marker": {
             "colorbar": {
              "outlinewidth": 0,
              "ticks": ""
             }
            }
           }
          ],
          "bar": [
           {
            "error_x": {
             "color": "#2a3f5f"
            },
            "error_y": {
             "color": "#2a3f5f"
            },
            "marker": {
             "line": {
              "color": "#E5ECF6",
              "width": 0.5
             },
             "pattern": {
              "fillmode": "overlay",
              "size": 10,
              "solidity": 0.2
             }
            },
            "type": "bar"
           }
          ],
          "scattergeo": [
           {
            "type": "scattergeo",
            "marker": {
             "colorbar": {
              "outlinewidth": 0,
              "ticks": ""
             }
            }
           }
          ],
          "scatterpolar": [
           {
            "type": "scatterpolar",
            "marker": {
             "colorbar": {
              "outlinewidth": 0,
              "ticks": ""
             }
            }
           }
          ],
          "histogram": [
           {
            "marker": {
             "pattern": {
              "fillmode": "overlay",
              "size": 10,
              "solidity": 0.2
             }
            },
            "type": "histogram"
           }
          ],
          "scattergl": [
           {
            "type": "scattergl",
            "marker": {
             "colorbar": {
              "outlinewidth": 0,
              "ticks": ""
             }
            }
           }
          ],
          "scatter3d": [
           {
            "type": "scatter3d",
            "line": {
             "colorbar": {
              "outlinewidth": 0,
              "ticks": ""
             }
            },
            "marker": {
             "colorbar": {
              "outlinewidth": 0,
              "ticks": ""
             }
            }
           }
          ],
          "scattermap": [
           {
            "type": "scattermap",
            "marker": {
             "colorbar": {
              "outlinewidth": 0,
              "ticks": ""
             }
            }
           }
          ],
          "scattermapbox": [
           {
            "type": "scattermapbox",
            "marker": {
             "colorbar": {
              "outlinewidth": 0,
              "ticks": ""
             }
            }
           }
          ],
          "scatterternary": [
           {
            "type": "scatterternary",
            "marker": {
             "colorbar": {
              "outlinewidth": 0,
              "ticks": ""
             }
            }
           }
          ],
          "scattercarpet": [
           {
            "type": "scattercarpet",
            "marker": {
             "colorbar": {
              "outlinewidth": 0,
              "ticks": ""
             }
            }
           }
          ],
          "carpet": [
           {
            "aaxis": {
             "endlinecolor": "#2a3f5f",
             "gridcolor": "white",
             "linecolor": "white",
             "minorgridcolor": "white",
             "startlinecolor": "#2a3f5f"
            },
            "baxis": {
             "endlinecolor": "#2a3f5f",
             "gridcolor": "white",
             "linecolor": "white",
             "minorgridcolor": "white",
             "startlinecolor": "#2a3f5f"
            },
            "type": "carpet"
           }
          ],
          "table": [
           {
            "cells": {
             "fill": {
              "color": "#EBF0F8"
             },
             "line": {
              "color": "white"
             }
            },
            "header": {
             "fill": {
              "color": "#C8D4E3"
             },
             "line": {
              "color": "white"
             }
            },
            "type": "table"
           }
          ],
          "barpolar": [
           {
            "marker": {
             "line": {
              "color": "#E5ECF6",
              "width": 0.5
             },
             "pattern": {
              "fillmode": "overlay",
              "size": 10,
              "solidity": 0.2
             }
            },
            "type": "barpolar"
           }
          ],
          "pie": [
           {
            "automargin": true,
            "type": "pie"
           }
          ]
         },
         "layout": {
          "autotypenumbers": "strict",
          "colorway": [
           "#636efa",
           "#EF553B",
           "#00cc96",
           "#ab63fa",
           "#FFA15A",
           "#19d3f3",
           "#FF6692",
           "#B6E880",
           "#FF97FF",
           "#FECB52"
          ],
          "font": {
           "color": "#2a3f5f"
          },
          "hovermode": "closest",
          "hoverlabel": {
           "align": "left"
          },
          "paper_bgcolor": "white",
          "plot_bgcolor": "#E5ECF6",
          "polar": {
           "bgcolor": "#E5ECF6",
           "angularaxis": {
            "gridcolor": "white",
            "linecolor": "white",
            "ticks": ""
           },
           "radialaxis": {
            "gridcolor": "white",
            "linecolor": "white",
            "ticks": ""
           }
          },
          "ternary": {
           "bgcolor": "#E5ECF6",
           "aaxis": {
            "gridcolor": "white",
            "linecolor": "white",
            "ticks": ""
           },
           "baxis": {
            "gridcolor": "white",
            "linecolor": "white",
            "ticks": ""
           },
           "caxis": {
            "gridcolor": "white",
            "linecolor": "white",
            "ticks": ""
           }
          },
          "coloraxis": {
           "colorbar": {
            "outlinewidth": 0,
            "ticks": ""
           }
          },
          "colorscale": {
           "sequential": [
            [
             0.0,
             "#0d0887"
            ],
            [
             0.1111111111111111,
             "#46039f"
            ],
            [
             0.2222222222222222,
             "#7201a8"
            ],
            [
             0.3333333333333333,
             "#9c179e"
            ],
            [
             0.4444444444444444,
             "#bd3786"
            ],
            [
             0.5555555555555556,
             "#d8576b"
            ],
            [
             0.6666666666666666,
             "#ed7953"
            ],
            [
             0.7777777777777778,
             "#fb9f3a"
            ],
            [
             0.8888888888888888,
             "#fdca26"
            ],
            [
             1.0,
             "#f0f921"
            ]
           ],
           "sequentialminus": [
            [
             0.0,
             "#0d0887"
            ],
            [
             0.1111111111111111,
             "#46039f"
            ],
            [
             0.2222222222222222,
             "#7201a8"
            ],
            [
             0.3333333333333333,
             "#9c179e"
            ],
            [
             0.4444444444444444,
             "#bd3786"
            ],
            [
             0.5555555555555556,
             "#d8576b"
            ],
            [
             0.6666666666666666,
             "#ed7953"
            ],
            [
             0.7777777777777778,
             "#fb9f3a"
            ],
            [
             0.8888888888888888,
             "#fdca26"
            ],
            [
             1.0,
             "#f0f921"
            ]
           ],
           "diverging": [
            [
             0,
             "#8e0152"
            ],
            [
             0.1,
             "#c51b7d"
            ],
            [
             0.2,
             "#de77ae"
            ],
            [
             0.3,
             "#f1b6da"
            ],
            [
             0.4,
             "#fde0ef"
            ],
            [
             0.5,
             "#f7f7f7"
            ],
            [
             0.6,
             "#e6f5d0"
            ],
            [
             0.7,
             "#b8e186"
            ],
            [
             0.8,
             "#7fbc41"
            ],
            [
             0.9,
             "#4d9221"
            ],
            [
             1,
             "#276419"
            ]
           ]
          },
          "xaxis": {
           "gridcolor": "white",
           "linecolor": "white",
           "ticks": "",
           "title": {
            "standoff": 15
           },
           "zerolinecolor": "white",
           "automargin": true,
           "zerolinewidth": 2
          },
          "yaxis": {
           "gridcolor": "white",
           "linecolor": "white",
           "ticks": "",
           "title": {
            "standoff": 15
           },
           "zerolinecolor": "white",
           "automargin": true,
           "zerolinewidth": 2
          },
          "scene": {
           "xaxis": {
            "backgroundcolor": "#E5ECF6",
            "gridcolor": "white",
            "linecolor": "white",
            "showbackground": true,
            "ticks": "",
            "zerolinecolor": "white",
            "gridwidth": 2
           },
           "yaxis": {
            "backgroundcolor": "#E5ECF6",
            "gridcolor": "white",
            "linecolor": "white",
            "showbackground": true,
            "ticks": "",
            "zerolinecolor": "white",
            "gridwidth": 2
           },
           "zaxis": {
            "backgroundcolor": "#E5ECF6",
            "gridcolor": "white",
            "linecolor": "white",
            "showbackground": true,
            "ticks": "",
            "zerolinecolor": "white",
            "gridwidth": 2
           }
          },
          "shapedefaults": {
           "line": {
            "color": "#2a3f5f"
           }
          },
          "annotationdefaults": {
           "arrowcolor": "#2a3f5f",
           "arrowhead": 0,
           "arrowwidth": 1
          },
          "geo": {
           "bgcolor": "white",
           "landcolor": "#E5ECF6",
           "subunitcolor": "white",
           "showland": true,
           "showlakes": true,
           "lakecolor": "white"
          },
          "title": {
           "x": 0.05
          },
          "mapbox": {
           "style": "light"
          }
         }
        },
        "xaxis": {
         "anchor": "y",
         "domain": [
          0.0,
          1.0
         ],
         "title": {
          "text": "0"
         }
        },
        "yaxis": {
         "anchor": "x",
         "domain": [
          0.0,
          1.0
         ],
         "title": {
          "text": "1"
         }
        },
        "legend": {
         "title": {
          "text": "color"
         },
         "tracegroupgap": 0
        },
        "margin": {
         "t": 60
        },
        "annotations": [
         {
          "arrowhead": 2,
          "arrowsize": 2,
          "ax": 0,
          "axref": "x",
          "ay": 0,
          "ayref": "y",
          "showarrow": true,
          "x": 0.004584655973591693,
          "xanchor": "right",
          "y": -0.0012401374252474378,
          "yanchor": "top"
         },
         {
          "ax": 0,
          "ay": 0,
          "text": "NOSE_X",
          "x": 0.004584655973591693,
          "xanchor": "center",
          "y": -0.0012401374252474378,
          "yanchor": "bottom",
          "yshift": 5
         },
         {
          "arrowhead": 2,
          "arrowsize": 2,
          "ax": 0,
          "axref": "x",
          "ay": 0,
          "ayref": "y",
          "showarrow": true,
          "x": -0.01714556938304089,
          "xanchor": "right",
          "y": -6.698641975354001E-4,
          "yanchor": "top"
         },
         {
          "ax": 0,
          "ay": 0,
          "text": "NOSE_Y",
          "x": -0.01714556938304089,
          "xanchor": "center",
          "y": -6.698641975354001E-4,
          "yanchor": "bottom",
          "yshift": 5
         },
         {
          "arrowhead": 2,
          "arrowsize": 2,
          "ax": 0,
          "axref": "x",
          "ay": 0,
          "ayref": "y",
          "showarrow": true,
          "x": 0.0028890374937740717,
          "xanchor": "right",
          "y": -0.006876822847274772,
          "yanchor": "top"
         },
         {
          "ax": 0,
          "ay": 0,
          "text": "LEFT_EAR_X",
          "x": 0.0028890374937740717,
          "xanchor": "center",
          "y": -0.006876822847274772,
          "yanchor": "bottom",
          "yshift": 5
         },
         {
          "arrowhead": 2,
          "arrowsize": 2,
          "ax": 0,
          "axref": "x",
          "ay": 0,
          "ayref": "y",
          "showarrow": true,
          "x": -0.0195951378726833,
          "xanchor": "right",
          "y": -0.004470044124847084,
          "yanchor": "top"
         },
         {
          "ax": 0,
          "ay": 0,
          "text": "LEFT_EAR_Y",
          "x": -0.0195951378726833,
          "xanchor": "center",
          "y": -0.004470044124847084,
          "yanchor": "bottom",
          "yshift": 5
         },
         {
          "arrowhead": 2,
          "arrowsize": 2,
          "ax": 0,
          "axref": "x",
          "ay": 0,
          "ayref": "y",
          "showarrow": true,
          "x": 0.0037808771494587273,
          "xanchor": "right",
          "y": -0.0033262316323036285,
          "yanchor": "top"
         },
         {
          "ax": 0,
          "ay": 0,
          "text": "RIGHT_EAR_X",
          "x": 0.0037808771494587273,
          "xanchor": "center",
          "y": -0.0033262316323036285,
          "yanchor": "bottom",
          "yshift": 5
         },
         {
          "arrowhead": 2,
          "arrowsize": 2,
          "ax": 0,
          "axref": "x",
          "ay": 0,
          "ayref": "y",
          "showarrow": true,
          "x": -0.02015756582678072,
          "xanchor": "right",
          "y": -0.004129642985066335,
          "yanchor": "top"
         },
         {
          "ax": 0,
          "ay": 0,
          "text": "RIGHT_EAR_Y",
          "x": -0.02015756582678072,
          "xanchor": "center",
          "y": -0.004129642985066335,
          "yanchor": "bottom",
          "yshift": 5
         },
         {
          "arrowhead": 2,
          "arrowsize": 2,
          "ax": 0,
          "axref": "x",
          "ay": 0,
          "ayref": "y",
          "showarrow": true,
          "x": 0.0055050257788549295,
          "xanchor": "right",
          "y": -0.010002259311453071,
          "yanchor": "top"
         },
         {
          "ax": 0,
          "ay": 0,
          "text": "LEFT_SHOULDER_X",
          "x": 0.0055050257788549295,
          "xanchor": "center",
          "y": -0.010002259311453071,
          "yanchor": "bottom",
          "yshift": 5
         },
         {
          "arrowhead": 2,
          "arrowsize": 2,
          "ax": 0,
          "axref": "x",
          "ay": 0,
          "ayref": "y",
          "showarrow": true,
          "x": 4.623724259564855E-4,
          "xanchor": "right",
          "y": -5.73187041025133E-4,
          "yanchor": "top"
         },
         {
          "ax": 0,
          "ay": 0,
          "text": "LEFT_SHOULDER_Y",
          "x": 4.623724259564855E-4,
          "xanchor": "center",
          "y": -5.73187041025133E-4,
          "yanchor": "bottom",
          "yshift": 5
         },
         {
          "arrowhead": 2,
          "arrowsize": 2,
          "ax": 0,
          "axref": "x",
          "ay": 0,
          "ayref": "y",
          "showarrow": true,
          "x": -0.0013448084935075355,
          "xanchor": "right",
          "y": 0.0018594615639807997,
          "yanchor": "top"
         },
         {
          "ax": 0,
          "ay": 0,
          "text": "RIGHT_SHOULDER_X",
          "x": -0.0013448084935075355,
          "xanchor": "center",
          "y": 0.0018594615639807997,
          "yanchor": "bottom",
          "yshift": 5
         },
         {
          "arrowhead": 2,
          "arrowsize": 2,
          "ax": 0,
          "axref": "x",
          "ay": 0,
          "ayref": "y",
          "showarrow": true,
          "x": 0.0028203060928031613,
          "xanchor": "right",
          "y": -0.009380795663092415,
          "yanchor": "top"
         },
         {
          "ax": 0,
          "ay": 0,
          "text": "RIGHT_SHOULDER_Y",
          "x": 0.0028203060928031613,
          "xanchor": "center",
          "y": -0.009380795663092415,
          "yanchor": "bottom",
          "yshift": 5
         },
         {
          "arrowhead": 2,
          "arrowsize": 2,
          "ax": 0,
          "axref": "x",
          "ay": 0,
          "ayref": "y",
          "showarrow": true,
          "x": 4.116853110799254E-34,
          "xanchor": "right",
          "y": -0.0,
          "yanchor": "top"
         },
         {
          "ax": 0,
          "ay": 0,
          "text": "LEFT_HIP_X",
          "x": 4.116853110799254E-34,
          "xanchor": "center",
          "y": -0.0,
          "yanchor": "bottom",
          "yshift": 5
         },
         {
          "arrowhead": 2,
          "arrowsize": 2,
          "ax": 0,
          "axref": "x",
          "ay": 0,
          "ayref": "y",
          "showarrow": true,
          "x": -0.0,
          "xanchor": "right",
          "y": -0.0,
          "yanchor": "top"
         },
         {
          "ax": 0,
          "ay": 0,
          "text": "LEFT_HIP_Y",
          "x": -0.0,
          "xanchor": "center",
          "y": -0.0,
          "yanchor": "bottom",
          "yshift": 5
         },
         {
          "arrowhead": 2,
          "arrowsize": 2,
          "ax": 0,
          "axref": "x",
          "ay": 0,
          "ayref": "y",
          "showarrow": true,
          "x": 0.0028780618592016897,
          "xanchor": "right",
          "y": 0.002831283168593509,
          "yanchor": "top"
         },
         {
          "ax": 0,
          "ay": 0,
          "text": "RIGHT_HIP_X",
          "x": 0.0028780618592016897,
          "xanchor": "center",
          "y": 0.002831283168593509,
          "yanchor": "bottom",
          "yshift": 5
         },
         {
          "arrowhead": 2,
          "arrowsize": 2,
          "ax": 0,
          "axref": "x",
          "ay": 0,
          "ayref": "y",
          "showarrow": true,
          "x": -4.4553479189866473E-4,
          "xanchor": "right",
          "y": -0.0014897168855392557,
          "yanchor": "top"
         },
         {
          "ax": 0,
          "ay": 0,
          "text": "RIGHT_HIP_Y",
          "x": -4.4553479189866473E-4,
          "xanchor": "center",
          "y": -0.0014897168855392557,
          "yanchor": "bottom",
          "yshift": 5
         },
         {
          "arrowhead": 2,
          "arrowsize": 2,
          "ax": 0,
          "axref": "x",
          "ay": 0,
          "ayref": "y",
          "showarrow": true,
          "x": 0.02762524228333032,
          "xanchor": "right",
          "y": 0.1198986827733093,
          "yanchor": "top"
         },
         {
          "ax": 0,
          "ay": 0,
          "text": "RIGHT_ELBOW_X",
          "x": 0.02762524228333032,
          "xanchor": "center",
          "y": 0.1198986827733093,
          "yanchor": "bottom",
          "yshift": 5
         },
         {
          "arrowhead": 2,
          "arrowsize": 2,
          "ax": 0,
          "axref": "x",
          "ay": 0,
          "ayref": "y",
          "showarrow": true,
          "x": 0.20703754653265194,
          "xanchor": "right",
          "y": 0.05705127722782771,
          "yanchor": "top"
         },
         {
          "ax": 0,
          "ay": 0,
          "text": "RIGHT_ELBOW_Y",
          "x": 0.20703754653265194,
          "xanchor": "center",
          "y": 0.05705127722782771,
          "yanchor": "bottom",
          "yshift": 5
         },
         {
          "arrowhead": 2,
          "arrowsize": 2,
          "ax": 0,
          "axref": "x",
          "ay": 0,
          "ayref": "y",
          "showarrow": true,
          "x": -0.04262329283311514,
          "xanchor": "right",
          "y": 0.30291759289771836,
          "yanchor": "top"
         },
         {
          "ax": 0,
          "ay": 0,
          "text": "RIGHT_WRIST_X",
          "x": -0.04262329283311514,
          "xanchor": "center",
          "y": 0.30291759289771836,
          "yanchor": "bottom",
          "yshift": 5
         },
         {
          "arrowhead": 2,
          "arrowsize": 2,
          "ax": 0,
          "axref": "x",
          "ay": 0,
          "ayref": "y",
          "showarrow": true,
          "x": 0.46768425578270084,
          "xanchor": "right",
          "y": 0.014435570650699468,
          "yanchor": "top"
         },
         {
          "ax": 0,
          "ay": 0,
          "text": "RIGHT_WRIST_Y",
          "x": 0.46768425578270084,
          "xanchor": "center",
          "y": 0.014435570650699468,
          "yanchor": "bottom",
          "yshift": 5
         },
         {
          "arrowhead": 2,
          "arrowsize": 2,
          "ax": 0,
          "axref": "x",
          "ay": 0,
          "ayref": "y",
          "showarrow": true,
          "x": -0.06546483307602456,
          "xanchor": "right",
          "y": 0.3532667904884442,
          "yanchor": "top"
         },
         {
          "ax": 0,
          "ay": 0,
          "text": "RIGHT_PINKY_X",
          "x": -0.06546483307602456,
          "xanchor": "center",
          "y": 0.3532667904884442,
          "yanchor": "bottom",
          "yshift": 5
         },
         {
          "arrowhead": 2,
          "arrowsize": 2,
          "ax": 0,
          "axref": "x",
          "ay": 0,
          "ayref": "y",
          "showarrow": true,
          "x": 0.5447577919981821,
          "xanchor": "right",
          "y": 0.002907660669511981,
          "yanchor": "top"
         },
         {
          "ax": 0,
          "ay": 0,
          "text": "RIGHT_PINKY_Y",
          "x": 0.5447577919981821,
          "xanchor": "center",
          "y": 0.002907660669511981,
          "yanchor": "bottom",
          "yshift": 5
         },
         {
          "arrowhead": 2,
          "arrowsize": 2,
          "ax": 0,
          "axref": "x",
          "ay": 0,
          "ayref": "y",
          "showarrow": true,
          "x": -0.058886537702020826,
          "xanchor": "right",
          "y": 0.34755688858380374,
          "yanchor": "top"
         },
         {
          "ax": 0,
          "ay": 0,
          "text": "RIGHT_INDEX_X",
          "x": -0.058886537702020826,
          "xanchor": "center",
          "y": 0.34755688858380374,
          "yanchor": "bottom",
          "yshift": 5
         },
         {
          "arrowhead": 2,
          "arrowsize": 2,
          "ax": 0,
          "axref": "x",
          "ay": 0,
          "ayref": "y",
          "showarrow": true,
          "x": 0.5560490855884128,
          "xanchor": "right",
          "y": 0.09099470598717413,
          "yanchor": "top"
         },
         {
          "ax": 0,
          "ay": 0,
          "text": "RIGHT_INDEX_Y",
          "x": 0.5560490855884128,
          "xanchor": "center",
          "y": 0.09099470598717413,
          "yanchor": "bottom",
          "yshift": 5
         },
         {
          "arrowhead": 2,
          "arrowsize": 2,
          "ax": 0,
          "axref": "x",
          "ay": 0,
          "ayref": "y",
          "showarrow": true,
          "x": -0.0500445854756607,
          "xanchor": "right",
          "y": 0.32907960424721855,
          "yanchor": "top"
         },
         {
          "ax": 0,
          "ay": 0,
          "text": "RIGHT_THUMB_X",
          "x": -0.0500445854756607,
          "xanchor": "center",
          "y": 0.32907960424721855,
          "yanchor": "bottom",
          "yshift": 5
         },
         {
          "arrowhead": 2,
          "arrowsize": 2,
          "ax": 0,
          "axref": "x",
          "ay": 0,
          "ayref": "y",
          "showarrow": true,
          "x": 0.5106527144269776,
          "xanchor": "right",
          "y": -0.0022569482364983386,
          "yanchor": "top"
         },
         {
          "ax": 0,
          "ay": 0,
          "text": "RIGHT_THUMB_Y",
          "x": 0.5106527144269776,
          "xanchor": "center",
          "y": -0.0022569482364983386,
          "yanchor": "bottom",
          "yshift": 5
         }
        ]
       },
       "config": {
        "plotlyServerURL": "https://plot.ly"
       }
      }
     },
     "metadata": {},
     "output_type": "display_data"
    }
   ],
   "execution_count": 17
  },
  {
   "metadata": {},
   "cell_type": "markdown",
   "source": [
    "### Sauvegarde des dataframes\n",
    "\n",
    "Nous allons conserver une version avec PCA et une version sans PCA pour les tester ensuite et voir si le PCA apporte un gain de performance."
   ],
   "id": "e3a9c3063723b8dd"
  },
  {
   "metadata": {
    "ExecuteTime": {
     "end_time": "2025-06-05T11:34:13.976375Z",
     "start_time": "2025-06-05T11:34:13.856574Z"
    }
   },
   "cell_type": "code",
   "source": [
    "dossier = 'preprocessing_one_arm_data'\n",
    "\n",
    "os.makedirs(dossier, exist_ok=True)\n",
    "\n",
    "chemin_fichier = os.path.join(dossier, 'move_preprocess.csv')\n",
    "df_move_normalize_filter.to_csv(chemin_fichier, index=False)\n",
    "\n",
    "print(f\"Fichiers sauvegardés dans : {dossier}\")"
   ],
   "id": "d25c6b01e02c09b1",
   "outputs": [
    {
     "name": "stdout",
     "output_type": "stream",
     "text": [
      "Fichiers sauvegardés dans : preprocessing_one_arm_data\n"
     ]
    }
   ],
   "execution_count": 18
  }
 ],
 "metadata": {},
 "nbformat": 4,
 "nbformat_minor": 5
}
