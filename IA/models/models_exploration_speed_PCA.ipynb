{
 "cells": [
  {
   "metadata": {},
   "cell_type": "markdown",
   "source": [
    "# Exploration des différents modèles (pour la classification des vitesses avec PCA)\n",
    "\n",
    "L'idée de ce notebook est de faire une exploration rapide de différents modèles pour conserver les plus prometteurs et de les étudier plus précisément ensuite.\n",
    "\n",
    "### Modèles étudiés\n",
    "- **Random Forest**\n",
    "- **Gradient Boosting**\n",
    "- **SVM**\n",
    "- **KNN**\n",
    "- **Régression Linéaire, Logistique ...**\n",
    "- **ANN** (Keras)"
   ],
   "id": "71701782dd04d8d2"
  },
  {
   "metadata": {},
   "cell_type": "markdown",
   "source": "### Récupération des données",
   "id": "d6c0e1e68d741cc"
  },
  {
   "metadata": {},
   "cell_type": "code",
   "outputs": [],
   "execution_count": null,
   "source": [
    "import pandas as pd\n",
    "\n",
    "data = pd.read_csv('...')\n"
   ],
   "id": "5cca805df88b6f53"
  },
  {
   "metadata": {},
   "cell_type": "markdown",
   "source": "### Séparation jeu de validation et d'entraînement",
   "id": "79d11c3a2a366e12"
  },
  {
   "metadata": {},
   "cell_type": "code",
   "outputs": [],
   "execution_count": null,
   "source": [
    "from sklearn.model_selection import train_test_split\n",
    "\n",
    "X = data.drop('Action', axis=1)\n",
    "y = data['Action']\n",
    "X_train, X_val, y_train, y_val = train_test_split(X, y, test_size=0.2, random_state=42)"
   ],
   "id": "eee17ecf734591a3"
  },
  {
   "metadata": {},
   "cell_type": "markdown",
   "source": "### Test du modèle Random Forest",
   "id": "49a35bcae3478cb7"
  },
  {
   "metadata": {},
   "cell_type": "code",
   "outputs": [],
   "execution_count": null,
   "source": [
    "from sklearn.ensemble import RandomForestClassifier\n",
    "\n",
    "# Using cross-validation to evaluate the model\n",
    "from sklearn.model_selection import cross_val_score\n",
    "\n",
    "rf_model = RandomForestClassifier(n_estimators=100, random_state=42)\n",
    "\n",
    "rf_scores = cross_val_score(rf_model, X_train, y_train, cv=5, scoring='accuracy')\n",
    "\n",
    "print(\"Scores de validation croisée :\", rf_scores)\n",
    "\n",
    "print(\"Score moyen :\", rf_scores.mean())"
   ],
   "id": "5080ed834fc84cab"
  },
  {
   "metadata": {},
   "cell_type": "markdown",
   "source": "### Test du modèle Gradient Boosting",
   "id": "3e7760473279fd46"
  },
  {
   "metadata": {},
   "cell_type": "code",
   "outputs": [],
   "execution_count": null,
   "source": [
    "from sklearn.ensemble import GradientBoostingClassifier\n",
    "\n",
    "gb_model = GradientBoostingClassifier(n_estimators=100, random_state=42)\n",
    "\n",
    "gb_scores = cross_val_score(gb_model, X_train, y_train, cv=5, scoring='accuracy')\n",
    "\n",
    "print(\"Scores de validation croisée :\", gb_scores)\n",
    "\n",
    "print(\"Score moyen :\", gb_scores.mean())"
   ],
   "id": "6f006393e1b9ec16"
  },
  {
   "metadata": {},
   "cell_type": "markdown",
   "source": "### Test du modèle SVM lineaire",
   "id": "4266d9c34cbf7436"
  },
  {
   "metadata": {},
   "cell_type": "code",
   "outputs": [],
   "execution_count": null,
   "source": [
    "from sklearn.svm import SVC\n",
    "\n",
    "svm_model = SVC(kernel='linear', random_state=42)\n",
    "\n",
    "svm_scores = cross_val_score(svm_model, X_train, y_train, cv=5, scoring='accuracy')\n",
    "\n",
    "print(\"Scores de validation croisée :\", svm_scores)\n",
    "\n",
    "print(\"Score moyen :\", svm_scores.mean())"
   ],
   "id": "47a80b3b762639e5"
  },
  {
   "metadata": {},
   "cell_type": "markdown",
   "source": "### Test du modèle SVM polynomial",
   "id": "f92e9e7c5d8592dd"
  },
  {
   "metadata": {},
   "cell_type": "code",
   "outputs": [],
   "execution_count": null,
   "source": [
    "svm_poly_model = SVC(kernel='poly', degree=3, random_state=42)\n",
    "\n",
    "svm_poly_scores = cross_val_score(svm_poly_model, X_train, y_train, cv=5, scoring='accuracy')\n",
    "\n",
    "print(\"Scores de validation croisée :\", svm_poly_scores)\n",
    "\n",
    "print(\"Score moyen :\", svm_poly_scores.mean())"
   ],
   "id": "ec1b1d4b9a75345b"
  },
  {
   "metadata": {},
   "cell_type": "markdown",
   "source": "### Test du modèle SVM RBF",
   "id": "758ac0363c692256"
  },
  {
   "metadata": {},
   "cell_type": "code",
   "outputs": [],
   "execution_count": null,
   "source": [
    "svm_rbf_model = SVC(kernel='rbf', random_state=42)\n",
    "\n",
    "svm_rbf_scores = cross_val_score(svm_rbf_model, X_train, y_train, cv=5, scoring='accuracy')\n",
    "\n",
    "print(\"Scores de validation croisée :\", svm_rbf_scores)\n",
    "\n",
    "print(\"Score moyen :\", svm_rbf_scores.mean())"
   ],
   "id": "fe801dc23fe14986"
  },
  {
   "metadata": {},
   "cell_type": "markdown",
   "source": " ### Test du modèle SVM sigmoid",
   "id": "20d263a59438e9a7"
  },
  {
   "metadata": {},
   "cell_type": "code",
   "outputs": [],
   "execution_count": null,
   "source": [
    "svm_sigmoid_model = SVC(kernel='sigmoid', random_state=42)\n",
    "\n",
    "svm_sigmoid_scores = cross_val_score(svm_sigmoid_model, X_train, y_train, cv=5, scoring='accuracy')\n",
    "\n",
    "print(\"Scores de validation croisée :\", svm_sigmoid_scores)\n",
    "\n",
    "print(\"Score moyen :\", svm_sigmoid_scores.mean())"
   ],
   "id": "95738a70ee497287"
  },
  {
   "metadata": {},
   "cell_type": "markdown",
   "source": "### Test du modèle KNN",
   "id": "8dae8d339e564891"
  },
  {
   "metadata": {},
   "cell_type": "code",
   "outputs": [],
   "execution_count": null,
   "source": [
    "from sklearn.neighbors import KNeighborsClassifier\n",
    "\n",
    "knn_model = KNeighborsClassifier()\n",
    "\n",
    "knn_scores = cross_val_score(knn_model, X_train, y_train, cv=5, scoring='accuracy')\n",
    "\n",
    "print(\"Scores de validation croisée :\", knn_scores)\n",
    "\n",
    "print(\"Score moyen :\", knn_scores.mean())\n"
   ],
   "id": "e09fa5c33773dd1e"
  },
  {
   "metadata": {},
   "cell_type": "markdown",
   "source": "### Test du modèle KNN (cosinus)\n",
   "id": "c0a85d0b7d48d468"
  },
  {
   "metadata": {},
   "cell_type": "code",
   "outputs": [],
   "execution_count": null,
   "source": [
    "knn_cosine_model = KNeighborsClassifier(metric='cosine')\n",
    "\n",
    "knn_cosine_scores = cross_val_score(knn_cosine_model, X_train, y_train, cv=5, scoring='accuracy')\n",
    "\n",
    "print(\"Scores de validation croisée :\", knn_cosine_scores)\n",
    "\n",
    "print(\"Score moyen :\", knn_cosine_scores.mean())"
   ],
   "id": "a433ffa81c46d5bb"
  },
  {
   "metadata": {},
   "cell_type": "markdown",
   "source": "### Test des modèles de régression linéaire, polynomiale, logistique, etc.",
   "id": "92c302cabdb994c0"
  },
  {
   "metadata": {},
   "cell_type": "code",
   "outputs": [],
   "execution_count": null,
   "source": [
    "from sklearn.linear_model import LogisticRegression, LinearRegression\n",
    "\n",
    "# Linear Regression\n",
    "\n",
    "linear_model = LinearRegression()\n",
    "\n",
    "linear_scores = cross_val_score(linear_model, X_train, y_train, cv=5, scoring='neg_mean_squared_error')\n",
    "\n",
    "print(\"Scores de validation croisée (Régression Linéaire) :\", linear_scores)\n",
    "\n",
    "print(\"Score moyen (Régression Linéaire) :\", linear_scores.mean())\n",
    "\n",
    "# Polynomial Regression (using LinearRegression with polynomial features)\n",
    "\n",
    "from sklearn.preprocessing import PolynomialFeatures\n",
    "\n",
    "poly_features = PolynomialFeatures(degree=3)\n",
    "\n",
    "X_poly = poly_features.fit_transform(X_train)\n",
    "\n",
    "poly_model = LinearRegression()\n",
    "\n",
    "poly_scores = cross_val_score(poly_model, X_poly, y_train, cv=5, scoring='neg_mean_squared_error')\n",
    "\n",
    "print(\"Scores de validation croisée (Régression Polynomiale) :\", poly_scores)\n",
    "\n",
    "print(\"Score moyen (Régression Polynomiale) :\", poly_scores.mean())\n",
    "\n",
    "# Logistic Regression\n",
    "\n",
    "logistic_model = LogisticRegression(max_iter=1000)\n",
    "\n",
    "logistic_scores = cross_val_score(logistic_model, X_train, y_train, cv=5, scoring='accuracy')\n",
    "\n",
    "print(\"Scores de validation croisée (Régression Logistique) :\", logistic_scores)\n",
    "\n",
    "print(\"Score moyen (Régression Logistique) :\", logistic_scores.mean())"
   ],
   "id": "fb5d18a51998ee15"
  }
 ],
 "metadata": {},
 "nbformat": 4,
 "nbformat_minor": 5
}
