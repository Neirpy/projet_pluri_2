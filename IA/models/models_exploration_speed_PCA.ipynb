{
 "cells": [
  {
   "metadata": {},
   "cell_type": "markdown",
   "source": [
    "# Exploration des différents modèles (pour la classification des vitesses avec PCA)\n",
    "\n",
    "L'idée de ce notebook est de faire une exploration rapide de différents modèles pour conserver les plus prometteurs et de les étudier plus précisément ensuite.\n",
    "\n",
    "### Modèles étudiés\n",
    "- **Random Forest**\n",
    "- **Gradient Boosting**\n",
    "- **SVM**\n",
    "- **KNN**\n",
    "- **Régression Linéaire, Logistique ...**\n",
    "- **ANN** (Keras)"
   ],
   "id": "76e9f564ad122bb3"
  },
  {
   "metadata": {},
   "cell_type": "markdown",
   "source": "### Récupération des données",
   "id": "9c106cce846d7cf0"
  },
  {
   "metadata": {
    "ExecuteTime": {
     "end_time": "2025-06-03T19:34:25.973154Z",
     "start_time": "2025-06-03T19:34:25.525279Z"
    }
   },
   "cell_type": "code",
   "source": [
    "import pandas as pd\n",
    "\n",
    "data = pd.read_csv('../preprocessing_data/speed_preprocess_pca.csv')\n",
    "\n",
    "X = data.drop('vitesse', axis=1)\n",
    "y = data['vitesse']\n"
   ],
   "id": "12137dbe65b5b386",
   "outputs": [],
   "execution_count": 1
  },
  {
   "metadata": {},
   "cell_type": "markdown",
   "source": "Comme cette étape ne concerne que l'exploration des résultats des différents modèles, on se passe de séparer les données en validation et d'entraînement pour l'instant, on va juste faire une validation croisée.",
   "id": "70502c1273708b4f"
  },
  {
   "metadata": {},
   "cell_type": "markdown",
   "source": "### Exploration des différents modèles",
   "id": "d15d66411f8c9e49"
  },
  {
   "metadata": {
    "ExecuteTime": {
     "end_time": "2025-06-03T19:34:42.361059Z",
     "start_time": "2025-06-03T19:34:26.168638Z"
    }
   },
   "cell_type": "code",
   "source": [
    "from explore_models import explore_models\n",
    "\n",
    "top3 = explore_models(X, y)"
   ],
   "id": "2c64e0f36f98b322",
   "outputs": [
    {
     "name": "stdout",
     "output_type": "stream",
     "text": [
      "Training Random Forest...\n",
      "-> Random Forest result: [1.         0.85281385 0.96956522 0.93043478 0.86956522]\n",
      "Training Gradient Boosting...\n",
      "-> Gradient Boosting result: [0.93506494 0.86580087 0.93043478 0.92173913 0.89130435]\n",
      "Training SVM Linear...\n",
      "-> SVM Linear result: [0.81385281 0.85281385 0.86521739 0.89565217 0.86956522]\n",
      "Training SVM RBF...\n",
      "-> SVM RBF result: [0.83982684 0.85714286 0.87826087 0.89130435 0.89130435]\n",
      "Training SVM Poly...\n",
      "-> SVM Poly result: [0.78354978 0.80519481 0.7826087  0.83478261 0.80434783]\n",
      "Training SVM Sigmoid...\n",
      "-> SVM Sigmoid result: [0.59307359 0.62770563 0.67826087 0.64782609 0.70434783]\n",
      "Training KNN...\n",
      "-> KNN result: [0.88744589 0.87012987 0.89565217 0.9        0.87826087]\n",
      "Training KNN Cosine...\n",
      "-> KNN Cosine result: [0.83116883 0.83116883 0.81304348 0.84347826 0.80434783]\n",
      "Training Logistic Regression...\n",
      "-> Logistic Regression result: [0.78787879 0.81385281 0.83043478 0.85217391 0.82608696]\n",
      "Training SGD Classifier...\n",
      "-> SGD Classifier result: [0.77056277 0.6969697  0.77826087 0.80434783 0.80869565]\n",
      "Training ANN...\n",
      "KerasClassifier utilisé depuis : scikeras.wrappers\n",
      "WARNING:tensorflow:5 out of the last 7 calls to <function TensorFlowTrainer.make_predict_function.<locals>.one_step_on_data_distributed at 0x0000019A1BA6A8E0> triggered tf.function retracing. Tracing is expensive and the excessive number of tracings could be due to (1) creating @tf.function repeatedly in a loop, (2) passing tensors with different shapes, (3) passing Python objects instead of tensors. For (1), please define your @tf.function outside of the loop. For (2), @tf.function has reduce_retracing=True option that can avoid unnecessary retracing. For (3), please refer to https://www.tensorflow.org/guide/function#controlling_retracing and https://www.tensorflow.org/api_docs/python/tf/function for  more details.\n",
      "WARNING:tensorflow:6 out of the last 9 calls to <function TensorFlowTrainer.make_predict_function.<locals>.one_step_on_data_distributed at 0x0000019A1BA6A8E0> triggered tf.function retracing. Tracing is expensive and the excessive number of tracings could be due to (1) creating @tf.function repeatedly in a loop, (2) passing tensors with different shapes, (3) passing Python objects instead of tensors. For (1), please define your @tf.function outside of the loop. For (2), @tf.function has reduce_retracing=True option that can avoid unnecessary retracing. For (3), please refer to https://www.tensorflow.org/guide/function#controlling_retracing and https://www.tensorflow.org/api_docs/python/tf/function for  more details.\n",
      "-> ANN result: [0.76190476 0.65367965 0.62173913 0.75217391 0.69565217]\n",
      "=== Moyenne et écart-type des scores ===\n",
      "Random Forest: mean = 0.9245, std = 0.0564\n",
      "Gradient Boosting: mean = 0.9089, std = 0.0264\n",
      "SVM Linear: mean = 0.8594, std = 0.0267\n",
      "SVM RBF: mean = 0.8716, std = 0.0202\n",
      "SVM Poly: mean = 0.8021, std = 0.0190\n",
      "SVM Sigmoid: mean = 0.6502, std = 0.0387\n",
      "KNN: mean = 0.8863, std = 0.0110\n",
      "KNN Cosine: mean = 0.8246, std = 0.0140\n",
      "Logistic Regression: mean = 0.8221, std = 0.0211\n",
      "SGD Classifier: mean = 0.7718, std = 0.0402\n",
      "ANN: mean = 0.6970, std = 0.0544\n",
      "\n",
      "=== Top 3 modèles (détail des scores) ===\n",
      "Random Forest: scores = [1.         0.85281385 0.96956522 0.93043478 0.86956522]\n",
      "Gradient Boosting: scores = [0.93506494 0.86580087 0.93043478 0.92173913 0.89130435]\n",
      "KNN: scores = [0.88744589 0.87012987 0.89565217 0.9        0.87826087]\n",
      "\n",
      "=== Random Forest Feature Importances ===\n",
      "1. Feature 0: 0.7614\n",
      "2. Feature 1: 0.2386\n",
      "\n",
      "=== Gradient Boosting Feature Importances ===\n",
      "1. Feature 0: 0.8680\n",
      "2. Feature 1: 0.1320\n"
     ]
    }
   ],
   "execution_count": 2
  }
 ],
 "metadata": {},
 "nbformat": 4,
 "nbformat_minor": 5
}
