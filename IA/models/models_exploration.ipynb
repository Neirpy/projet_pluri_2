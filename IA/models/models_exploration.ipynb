{
 "cells": [
  {
   "metadata": {},
   "cell_type": "markdown",
   "source": [
    "# Exploration des différents modèles\n",
    "\n",
    "L'idée de ce notebook est de faire une exploration rapide de différents modèles pour conserver les plus prometteurs et de les étudier plus précisément ensuite.\n",
    "\n",
    "### Modèles étudiés\n",
    "- **Random Forest**\n",
    "- **Gradient Boosting**\n",
    "- **SVM**\n",
    "- **KNN**\n",
    "- **ANN** (Keras)\n",
    "- **Régression Linéaire, Logistique ...**"
   ],
   "id": "bd2fda5bd12b981d"
  },
  {
   "metadata": {},
   "cell_type": "markdown",
   "source": "### Récupération des données",
   "id": "163a6329ff0e2f41"
  },
  {
   "metadata": {},
   "cell_type": "code",
   "outputs": [],
   "execution_count": null,
   "source": [
    "import pandas as pd\n",
    "\n",
    "data = pd.read_csv('...')\n"
   ],
   "id": "793af717ce907988"
  },
  {
   "metadata": {},
   "cell_type": "markdown",
   "source": "### Séparation jeu de validation et d'entraînement",
   "id": "f2bd2a6fb9cfb510"
  },
  {
   "metadata": {},
   "cell_type": "code",
   "outputs": [],
   "execution_count": null,
   "source": [
    "from sklearn.model_selection import train_test_split\n",
    "\n",
    "X = data.drop('Action', axis=1)\n",
    "y = data['Action']\n",
    "X_train, X_val, y_train, y_val = train_test_split(X, y, test_size=0.2, random_state=42)"
   ],
   "id": "25ce361a726bf647"
  },
  {
   "metadata": {},
   "cell_type": "markdown",
   "source": "### Test du modèle Random Forest",
   "id": "72df398374ece63e"
  },
  {
   "metadata": {},
   "cell_type": "code",
   "outputs": [],
   "execution_count": null,
   "source": [
    "from sklearn.ensemble import RandomForestClassifier\n",
    "\n",
    "# Using cross-validation to evaluate the model\n",
    "from sklearn.model_selection import cross_val_score\n",
    "\n",
    "rf_model = RandomForestClassifier(n_estimators=100, random_state=42)\n",
    "\n",
    "rf_scores = cross_val_score(rf_model, X_train, y_train, cv=5, scoring='accuracy')\n",
    "\n",
    "print(\"Scores de validation croisée :\", rf_scores)\n",
    "\n",
    "print(\"Score moyen :\", rf_scores.mean())"
   ],
   "id": "ba8d842213fef259"
  },
  {
   "metadata": {},
   "cell_type": "markdown",
   "source": "### Test du modèle Gradient Boosting",
   "id": "2eb8bc3550c80e8f"
  },
  {
   "metadata": {},
   "cell_type": "code",
   "outputs": [],
   "execution_count": null,
   "source": [
    "from sklearn.ensemble import GradientBoostingClassifier\n",
    "\n",
    "gb_model = GradientBoostingClassifier(n_estimators=100, random_state=42)\n",
    "\n",
    "gb_scores = cross_val_score(gb_model, X_train, y_train, cv=5, scoring='accuracy')\n",
    "\n",
    "print(\"Scores de validation croisée :\", gb_scores)\n",
    "\n",
    "print(\"Score moyen :\", gb_scores.mean())"
   ],
   "id": "e5989f75488b2dd7"
  },
  {
   "metadata": {},
   "cell_type": "markdown",
   "source": "### Test du modèle SVM lineaire",
   "id": "90745b9b51caffc1"
  },
  {
   "metadata": {},
   "cell_type": "code",
   "outputs": [],
   "execution_count": null,
   "source": [
    "from sklearn.svm import SVC\n",
    "\n",
    "svm_model = SVC(kernel='linear', random_state=42)\n",
    "\n",
    "svm_scores = cross_val_score(svm_model, X_train, y_train, cv=5, scoring='accuracy')\n",
    "\n",
    "print(\"Scores de validation croisée :\", svm_scores)\n",
    "\n",
    "print(\"Score moyen :\", svm_scores.mean())"
   ],
   "id": "9cbb48fb69f0e237"
  },
  {
   "metadata": {},
   "cell_type": "markdown",
   "source": "### Test du modèle SVM polynomial",
   "id": "71b45d24f8b5fd49"
  },
  {
   "metadata": {},
   "cell_type": "code",
   "outputs": [],
   "execution_count": null,
   "source": [
    "svm_poly_model = SVC(kernel='poly', degree=3, random_state=42)\n",
    "\n",
    "svm_poly_scores = cross_val_score(svm_poly_model, X_train, y_train, cv=5, scoring='accuracy')\n",
    "\n",
    "print(\"Scores de validation croisée :\", svm_poly_scores)\n",
    "\n",
    "print(\"Score moyen :\", svm_poly_scores.mean())"
   ],
   "id": "f402727938a1ceae"
  },
  {
   "metadata": {},
   "cell_type": "markdown",
   "source": "### Test du modèle SVM RBF",
   "id": "de3c26af9d2c5500"
  },
  {
   "metadata": {},
   "cell_type": "markdown",
   "source": "",
   "id": "ec113ac50c20ba0a"
  }
 ],
 "metadata": {},
 "nbformat": 4,
 "nbformat_minor": 5
}
