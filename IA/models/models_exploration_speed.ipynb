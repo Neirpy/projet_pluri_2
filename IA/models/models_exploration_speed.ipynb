{
 "cells": [
  {
   "metadata": {},
   "cell_type": "markdown",
   "source": [
    "# Exploration des différents modèles (pour la classification des vitesses sans PCA)\n",
    "\n",
    "L'idée de ce notebook est de faire une exploration rapide de différents modèles pour conserver les plus prometteurs et de les étudier plus précisément ensuite.\n",
    "\n",
    "### Modèles étudiés\n",
    "- **Random Forest**\n",
    "- **Gradient Boosting**\n",
    "- **SVM**\n",
    "- **KNN**\n",
    "- **Régression Linéaire, Logistique ...**\n",
    "- **ANN** (Keras)"
   ],
   "id": "76e9f564ad122bb3"
  },
  {
   "metadata": {},
   "cell_type": "markdown",
   "source": "### Récupération des données",
   "id": "9c106cce846d7cf0"
  },
  {
   "metadata": {},
   "cell_type": "code",
   "outputs": [],
   "execution_count": null,
   "source": [
    "import pandas as pd\n",
    "\n",
    "data = pd.read_csv('...')\n",
    "\n",
    "X = data.drop('Action', axis=1)\n",
    "y = data['Action']\n"
   ],
   "id": "12137dbe65b5b386"
  },
  {
   "metadata": {},
   "cell_type": "markdown",
   "source": "Comme cette étape ne concerne que l'exploration des résultats des différents modèles, on se passe de séparer les données en validation et d'entraînement pour l'instant, on va juste faire une validation croisée.",
   "id": "70502c1273708b4f"
  },
  {
   "metadata": {},
   "cell_type": "markdown",
   "source": "### Exploration des différents modèles",
   "id": "d15d66411f8c9e49"
  },
  {
   "metadata": {},
   "cell_type": "code",
   "outputs": [],
   "execution_count": null,
   "source": [
    "from explore_models import explore_models\n",
    "\n",
    "top3 = explore_models(X, y)"
   ],
   "id": "2c64e0f36f98b322"
  }
 ],
 "metadata": {},
 "nbformat": 4,
 "nbformat_minor": 5
}
