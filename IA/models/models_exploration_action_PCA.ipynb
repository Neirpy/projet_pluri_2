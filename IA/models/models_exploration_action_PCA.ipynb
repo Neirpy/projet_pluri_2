{
 "cells": [
  {
   "metadata": {},
   "cell_type": "markdown",
   "source": [
    "# Exploration des différents modèles (pour la classification des actions avec PCA)\n",
    "\n",
    "L'idée de ce notebook est de faire une exploration rapide de différents modèles pour conserver les plus prometteurs et de les étudier plus précisément ensuite.\n",
    "\n",
    "### Modèles étudiés\n",
    "- **Random Forest**\n",
    "- **Gradient Boosting**\n",
    "- **SVM**\n",
    "- **KNN**\n",
    "- **Régression Linéaire, Logistique ...**\n",
    "- **ANN** (Keras)"
   ],
   "id": "96d290b4aeb77467"
  },
  {
   "metadata": {},
   "cell_type": "markdown",
   "source": "### Récupération des données",
   "id": "2b3df43e1be46456"
  },
  {
   "metadata": {},
   "cell_type": "code",
   "outputs": [],
   "execution_count": null,
   "source": [
    "import pandas as pd\n",
    "\n",
    "data = pd.read_csv('...')\n"
   ],
   "id": "742dad3c631b8b2e"
  },
  {
   "metadata": {},
   "cell_type": "markdown",
   "source": "### Séparation jeu de validation et d'entraînement",
   "id": "6e62dc2c01cf0aa7"
  },
  {
   "metadata": {},
   "cell_type": "code",
   "outputs": [],
   "execution_count": null,
   "source": [
    "from sklearn.model_selection import train_test_split\n",
    "\n",
    "X = data.drop('Action', axis=1)\n",
    "y = data['Action']\n",
    "X_train, X_val, y_train, y_val = train_test_split(X, y, test_size=0.2, random_state=42)"
   ],
   "id": "aad344e84b3a9fa7"
  },
  {
   "metadata": {},
   "cell_type": "markdown",
   "source": "### Test du modèle Random Forest",
   "id": "f66fa0b736e9bacf"
  },
  {
   "metadata": {},
   "cell_type": "code",
   "outputs": [],
   "execution_count": null,
   "source": [
    "from sklearn.ensemble import RandomForestClassifier\n",
    "\n",
    "# Using cross-validation to evaluate the model\n",
    "from sklearn.model_selection import cross_val_score\n",
    "\n",
    "rf_model = RandomForestClassifier(n_estimators=100, random_state=42)\n",
    "\n",
    "rf_scores = cross_val_score(rf_model, X_train, y_train, cv=5, scoring='accuracy')\n",
    "\n",
    "print(\"Scores de validation croisée :\", rf_scores)\n",
    "\n",
    "print(\"Score moyen :\", rf_scores.mean())"
   ],
   "id": "2ac80fe9f3da297f"
  },
  {
   "metadata": {},
   "cell_type": "markdown",
   "source": "### Test du modèle Gradient Boosting",
   "id": "fe848988c084d740"
  },
  {
   "metadata": {},
   "cell_type": "code",
   "outputs": [],
   "execution_count": null,
   "source": [
    "from sklearn.ensemble import GradientBoostingClassifier\n",
    "\n",
    "gb_model = GradientBoostingClassifier(n_estimators=100, random_state=42)\n",
    "\n",
    "gb_scores = cross_val_score(gb_model, X_train, y_train, cv=5, scoring='accuracy')\n",
    "\n",
    "print(\"Scores de validation croisée :\", gb_scores)\n",
    "\n",
    "print(\"Score moyen :\", gb_scores.mean())"
   ],
   "id": "609a38be9dd928bd"
  },
  {
   "metadata": {},
   "cell_type": "markdown",
   "source": "### Test du modèle SVM lineaire",
   "id": "df59c70a20f8b3b3"
  },
  {
   "metadata": {},
   "cell_type": "code",
   "outputs": [],
   "execution_count": null,
   "source": [
    "from sklearn.svm import SVC\n",
    "\n",
    "svm_model = SVC(kernel='linear', random_state=42)\n",
    "\n",
    "svm_scores = cross_val_score(svm_model, X_train, y_train, cv=5, scoring='accuracy')\n",
    "\n",
    "print(\"Scores de validation croisée :\", svm_scores)\n",
    "\n",
    "print(\"Score moyen :\", svm_scores.mean())"
   ],
   "id": "a9d9ce08c5ee7459"
  },
  {
   "metadata": {},
   "cell_type": "markdown",
   "source": "### Test du modèle SVM polynomial",
   "id": "e27011df711fc0ce"
  },
  {
   "metadata": {},
   "cell_type": "code",
   "outputs": [],
   "execution_count": null,
   "source": [
    "svm_poly_model = SVC(kernel='poly', degree=3, random_state=42)\n",
    "\n",
    "svm_poly_scores = cross_val_score(svm_poly_model, X_train, y_train, cv=5, scoring='accuracy')\n",
    "\n",
    "print(\"Scores de validation croisée :\", svm_poly_scores)\n",
    "\n",
    "print(\"Score moyen :\", svm_poly_scores.mean())"
   ],
   "id": "f98184411b53c807"
  },
  {
   "metadata": {},
   "cell_type": "markdown",
   "source": "### Test du modèle SVM RBF",
   "id": "6c1fa965b1f5f6a0"
  },
  {
   "metadata": {},
   "cell_type": "code",
   "outputs": [],
   "execution_count": null,
   "source": [
    "svm_rbf_model = SVC(kernel='rbf', random_state=42)\n",
    "\n",
    "svm_rbf_scores = cross_val_score(svm_rbf_model, X_train, y_train, cv=5, scoring='accuracy')\n",
    "\n",
    "print(\"Scores de validation croisée :\", svm_rbf_scores)\n",
    "\n",
    "print(\"Score moyen :\", svm_rbf_scores.mean())"
   ],
   "id": "e5ff9495b9ba0ec6"
  },
  {
   "metadata": {},
   "cell_type": "markdown",
   "source": " ### Test du modèle SVM sigmoid",
   "id": "39f8fed240c3a9d0"
  },
  {
   "metadata": {},
   "cell_type": "code",
   "outputs": [],
   "execution_count": null,
   "source": [
    "svm_sigmoid_model = SVC(kernel='sigmoid', random_state=42)\n",
    "\n",
    "svm_sigmoid_scores = cross_val_score(svm_sigmoid_model, X_train, y_train, cv=5, scoring='accuracy')\n",
    "\n",
    "print(\"Scores de validation croisée :\", svm_sigmoid_scores)\n",
    "\n",
    "print(\"Score moyen :\", svm_sigmoid_scores.mean())"
   ],
   "id": "b498bfa4842579f"
  },
  {
   "metadata": {},
   "cell_type": "markdown",
   "source": "### Test du modèle KNN",
   "id": "590e16182415e8c9"
  },
  {
   "metadata": {},
   "cell_type": "code",
   "outputs": [],
   "execution_count": null,
   "source": [
    "from sklearn.neighbors import KNeighborsClassifier\n",
    "\n",
    "knn_model = KNeighborsClassifier()\n",
    "\n",
    "knn_scores = cross_val_score(knn_model, X_train, y_train, cv=5, scoring='accuracy')\n",
    "\n",
    "print(\"Scores de validation croisée :\", knn_scores)\n",
    "\n",
    "print(\"Score moyen :\", knn_scores.mean())\n"
   ],
   "id": "9443774b595ea5f7"
  },
  {
   "metadata": {},
   "cell_type": "markdown",
   "source": "### Test du modèle KNN (cosinus)\n",
   "id": "43d6892441f2e166"
  },
  {
   "metadata": {},
   "cell_type": "code",
   "outputs": [],
   "execution_count": null,
   "source": [
    "knn_cosine_model = KNeighborsClassifier(metric='cosine')\n",
    "\n",
    "knn_cosine_scores = cross_val_score(knn_cosine_model, X_train, y_train, cv=5, scoring='accuracy')\n",
    "\n",
    "print(\"Scores de validation croisée :\", knn_cosine_scores)\n",
    "\n",
    "print(\"Score moyen :\", knn_cosine_scores.mean())"
   ],
   "id": "1e79af97864358a1"
  },
  {
   "metadata": {},
   "cell_type": "markdown",
   "source": "### Test des modèles de régression linéaire, polynomiale, logistique, etc.",
   "id": "612c5b4cf82d9eb1"
  },
  {
   "metadata": {},
   "cell_type": "code",
   "outputs": [],
   "execution_count": null,
   "source": [
    "from sklearn.linear_model import LogisticRegression, LinearRegression\n",
    "\n",
    "# Linear Regression\n",
    "\n",
    "linear_model = LinearRegression()\n",
    "\n",
    "linear_scores = cross_val_score(linear_model, X_train, y_train, cv=5, scoring='neg_mean_squared_error')\n",
    "\n",
    "print(\"Scores de validation croisée (Régression Linéaire) :\", linear_scores)\n",
    "\n",
    "print(\"Score moyen (Régression Linéaire) :\", linear_scores.mean())\n",
    "\n",
    "# Polynomial Regression (using LinearRegression with polynomial features)\n",
    "\n",
    "from sklearn.preprocessing import PolynomialFeatures\n",
    "\n",
    "poly_features = PolynomialFeatures(degree=3)\n",
    "\n",
    "X_poly = poly_features.fit_transform(X_train)\n",
    "\n",
    "poly_model = LinearRegression()\n",
    "\n",
    "poly_scores = cross_val_score(poly_model, X_poly, y_train, cv=5, scoring='neg_mean_squared_error')\n",
    "\n",
    "print(\"Scores de validation croisée (Régression Polynomiale) :\", poly_scores)\n",
    "\n",
    "print(\"Score moyen (Régression Polynomiale) :\", poly_scores.mean())\n",
    "\n",
    "# Logistic Regression\n",
    "\n",
    "logistic_model = LogisticRegression(max_iter=1000)\n",
    "\n",
    "logistic_scores = cross_val_score(logistic_model, X_train, y_train, cv=5, scoring='accuracy')\n",
    "\n",
    "print(\"Scores de validation croisée (Régression Logistique) :\", logistic_scores)\n",
    "\n",
    "print(\"Score moyen (Régression Logistique) :\", logistic_scores.mean())"
   ],
   "id": "71dd828365986e9b"
  }
 ],
 "metadata": {},
 "nbformat": 4,
 "nbformat_minor": 5
}
