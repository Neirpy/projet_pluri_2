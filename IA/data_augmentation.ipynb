{
 "cells": [
  {
   "metadata": {},
   "cell_type": "markdown",
   "source": "### Data Augmentation",
   "id": "952e626d941cca89"
  },
  {
   "metadata": {},
   "cell_type": "code",
   "outputs": [],
   "execution_count": null,
   "source": "df_move, df_speed = find_all_from_directory()\n",
   "id": "9a9d3ff450369e3d"
  }
 ],
 "metadata": {},
 "nbformat": 4,
 "nbformat_minor": 5
}
