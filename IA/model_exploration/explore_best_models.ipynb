{
 "cells": [
  {
   "metadata": {},
   "cell_type": "markdown",
   "source": [
    "# Exploration des meilleurs modèles\n",
    "\n",
    "### Avec les explorations des modèles précédents, nous avons pu constater que :\n",
    "\n",
    "- Pour le modèle de classification d'actions\n",
    "    - PCA pas PCA\n",
    "    - Quel modèle de classification\n",
    "- Pour le modèle de classification des vitesses\n",
    "    - PCA pas PCA\n",
    "    - Quel modèle de classification"
   ],
   "id": "e4c882a221f75a8c"
  },
  {
   "metadata": {},
   "cell_type": "code",
   "outputs": [],
   "execution_count": null,
   "source": "",
   "id": "e4339e68c44f7660"
  }
 ],
 "metadata": {},
 "nbformat": 4,
 "nbformat_minor": 5
}
