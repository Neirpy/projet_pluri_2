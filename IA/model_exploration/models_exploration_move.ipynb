{
 "cells": [
  {
   "metadata": {},
   "cell_type": "markdown",
   "source": [
    "# Exploration des différents modèles (pour la classification des déplacements sans PCA)\n",
    "\n",
    "L'idée de ce notebook est de faire une exploration rapide de différents modèles pour conserver les plus prometteurs et de les étudier plus précisément ensuite.\n",
    "\n",
    "### Modèles étudiés\n",
    "- **Random Forest**\n",
    "- **Gradient Boosting**\n",
    "- **SVM**\n",
    "- **KNN**\n",
    "- **Régression Linéaire, Logistique ...**\n",
    "- **ANN** (Keras)"
   ],
   "id": "8fd31dcffba824e8"
  },
  {
   "metadata": {},
   "cell_type": "markdown",
   "source": "### Récupération des données",
   "id": "5ac60d82746449ea"
  },
  {
   "metadata": {
    "ExecuteTime": {
     "end_time": "2025-06-04T13:34:11.801328Z",
     "start_time": "2025-06-04T13:34:11.703677Z"
    }
   },
   "cell_type": "code",
   "source": [
    "from sklearn.preprocessing import LabelEncoder\n",
    "import pandas as pd\n",
    "from sklearn.utils import shuffle\n",
    "import joblib\n",
    "\n",
    "\n",
    "data = pd.read_csv('../preprocessing_data/move_preprocess.csv')\n",
    "\n",
    "X = data.drop('action', axis=1)\n",
    "y = data['action']\n",
    "\n",
    "le = LabelEncoder()\n",
    "y = le.fit_transform(y)\n",
    "\n",
    "X_shuffled, y_shuffled = shuffle(X, y, random_state=42)\n"
   ],
   "id": "3e8c50649b5a3aca",
   "outputs": [
    {
     "data": {
      "text/plain": [
       "['label_encoder_move.pkl']"
      ]
     },
     "execution_count": 11,
     "metadata": {},
     "output_type": "execute_result"
    }
   ],
   "execution_count": 11
  },
  {
   "metadata": {},
   "cell_type": "markdown",
   "source": "Comme cette étape ne concerne que l'exploration des résultats des différents modèles, on se passe de séparer les données en validation et d'entraînement pour l'instant, on va juste faire une validation croisée.",
   "id": "7fcfd57f9b5715f1"
  },
  {
   "metadata": {},
   "cell_type": "markdown",
   "source": "### Exploration des différents modèles",
   "id": "435fde4d67a64377"
  },
  {
   "metadata": {},
   "cell_type": "code",
   "outputs": [],
   "execution_count": null,
   "source": [
    "from explore_models import explore_models\n",
    "\n",
    "top3, best_model = explore_models(X_shuffled, y_shuffled)"
   ],
   "id": "a156f9f077e3a79"
  },
  {
   "metadata": {},
   "cell_type": "markdown",
   "source": "# Dowload the best model (temporary)\n",
   "id": "4d5e46713016b2cf"
  },
  {
   "metadata": {},
   "cell_type": "code",
   "outputs": [],
   "execution_count": null,
   "source": [
    "\n",
    "joblib.dump(best_model, '../models_temp/best_model_move.pkl')\n",
    "joblib.dump(le, \"../models_temp/label_encoder_move.pkl\")"
   ],
   "id": "7b0bc3f8dc0287f"
  },
  {
   "metadata": {},
   "cell_type": "code",
   "outputs": [],
   "execution_count": null,
   "source": [
    "arbre = best_model.estimators_[0]\n",
    "\n",
    "import matplotlib.pyplot as plt\n",
    "from sklearn.tree import plot_tree\n",
    "import numpy as np\n",
    "\n",
    "plt.figure(figsize=(20,10))\n",
    "plot_tree(arbre, filled=True, feature_names=X.columns, class_names=np.unique(y).astype(str))\n",
    "plt.show()"
   ],
   "id": "b331e257a8ca2619"
  }
 ],
 "metadata": {},
 "nbformat": 4,
 "nbformat_minor": 5
}
