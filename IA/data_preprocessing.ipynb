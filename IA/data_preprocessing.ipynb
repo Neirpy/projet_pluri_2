{
 "cells": [
  {
   "metadata": {},
   "cell_type": "markdown",
   "source": [
    "# Preprocessing\n",
    "\n",
    "## Imports"
   ],
   "id": "c001284412bf759"
  },
  {
   "metadata": {},
   "cell_type": "code",
   "outputs": [],
   "execution_count": null,
   "source": [
    "from IA.exploration_data.concat import *\n",
    "from IA.exploration_data.preprocessing import *\n",
    "import pandas as pd"
   ],
   "id": "e88feafc5676d8db"
  },
  {
   "metadata": {},
   "cell_type": "markdown",
   "source": "## Création des dataframes",
   "id": "33ecb7f710e75063"
  },
  {
   "metadata": {},
   "cell_type": "code",
   "outputs": [],
   "execution_count": null,
   "source": "",
   "id": "661293fcc0f3bc14"
  },
  {
   "metadata": {},
   "cell_type": "code",
   "outputs": [],
   "execution_count": null,
   "source": "df_move, df_speed = find_all_from_directory()",
   "id": "2a3e0ad1d6db333f"
  },
  {
   "metadata": {},
   "cell_type": "markdown",
   "source": [
    "## Rapide observation des datasets\n",
    "\n",
    "### Shapes"
   ],
   "id": "b55a83934337cabe"
  },
  {
   "metadata": {},
   "cell_type": "code",
   "outputs": [],
   "execution_count": null,
   "source": "df_move.shape",
   "id": "e80dd7c61dd8e552"
  },
  {
   "metadata": {},
   "cell_type": "code",
   "outputs": [],
   "execution_count": null,
   "source": "df_speed.shape",
   "id": "b650b416d2decf8f"
  },
  {
   "metadata": {},
   "cell_type": "markdown",
   "source": "### Summary",
   "id": "5be9388358fe71f1"
  },
  {
   "metadata": {},
   "cell_type": "code",
   "outputs": [],
   "execution_count": null,
   "source": "df_move.sample(10)",
   "id": "19c7e4d6f4571932"
  },
  {
   "metadata": {},
   "cell_type": "code",
   "outputs": [],
   "execution_count": null,
   "source": "df_move.describe()",
   "id": "31d4e2130286de27"
  },
  {
   "metadata": {},
   "cell_type": "code",
   "outputs": [],
   "execution_count": null,
   "source": "df_speed.sample(10)",
   "id": "64d43156f95d09c0"
  },
  {
   "metadata": {},
   "cell_type": "code",
   "outputs": [],
   "execution_count": null,
   "source": "df_speed.describe()",
   "id": "49fc9677fd449b18"
  },
  {
   "metadata": {},
   "cell_type": "markdown",
   "source": "## Remove unused columns",
   "id": "e9c7e2d5e2c0bf17"
  },
  {
   "metadata": {},
   "cell_type": "code",
   "outputs": [],
   "execution_count": null,
   "source": [
    "df_move.drop([\"Unnamed: 0\",\"id\"], axis=1, inplace=True)\n",
    "df_speed.drop([\"Unnamed: 0\",\"id\"], axis=1, inplace=True)"
   ],
   "id": "b99a8c0ddf61fef7"
  },
  {
   "metadata": {},
   "cell_type": "code",
   "outputs": [],
   "execution_count": null,
   "source": "df_move.head()",
   "id": "c68717603a235456"
  },
  {
   "metadata": {},
   "cell_type": "markdown",
   "source": "## Looking for duplicates",
   "id": "3f01521e41f3416e"
  },
  {
   "metadata": {},
   "cell_type": "code",
   "outputs": [],
   "execution_count": null,
   "source": "df_move[df_move.duplicated()]",
   "id": "99d9cbbbbd43ab9a"
  },
  {
   "metadata": {},
   "cell_type": "code",
   "outputs": [],
   "execution_count": null,
   "source": "df_speed[df_speed.duplicated()]",
   "id": "e5e23aa11b3bc5cc"
  },
  {
   "metadata": {},
   "cell_type": "markdown",
   "source": [
    "## Normalisation\n",
    "\n",
    "La normalisation est effectué avant la sélection des colonnes, car certaines variables qui seront supprimées sont utilisées pour la normalisation."
   ],
   "id": "a0299e739a8fb9eb"
  },
  {
   "metadata": {},
   "cell_type": "code",
   "outputs": [],
   "execution_count": null,
   "source": [
    "df_move_normalize = normalize(df_move)\n",
    "df_move_normalize"
   ],
   "id": "f154cc58b0254628"
  },
  {
   "metadata": {},
   "cell_type": "code",
   "outputs": [],
   "execution_count": null,
   "source": "df_move_normalize.describe()",
   "id": "2803abb2e601c6e9"
  },
  {
   "metadata": {},
   "cell_type": "code",
   "outputs": [],
   "execution_count": null,
   "source": [
    "df_speed_normalize = normalize(df_speed)\n",
    "df_speed_normalize"
   ],
   "id": "b84c654fb8d8329e"
  },
  {
   "metadata": {},
   "cell_type": "code",
   "outputs": [],
   "execution_count": null,
   "source": "df_speed_normalize.describe()",
   "id": "4586319e5840dc37"
  },
  {
   "metadata": {},
   "cell_type": "markdown",
   "source": "### Selection des colonnes (manuellement, par déduction)\n",
   "id": "6170bc69c4f23f08"
  },
  {
   "metadata": {},
   "cell_type": "code",
   "outputs": [],
   "execution_count": null,
   "source": "df_speed_normalize.columns",
   "id": "5c3d54d8d659809a"
  },
  {
   "metadata": {},
   "cell_type": "code",
   "outputs": [],
   "execution_count": null,
   "source": [
    "list_speed = [\n",
    "    \"NOSE_X\", \"NOSE_Y\",\n",
    "    \"LEFT_EYE_INNER_X\", \"LEFT_EYE_INNER_Y\",\n",
    "    \"LEFT_EYE_X\", \"LEFT_EYE_Y\",\n",
    "    \"LEFT_EYE_OUTER_X\", \"LEFT_EYE_OUTER_Y\",\n",
    "    \"RIGHT_EYE_INNER_X\", \"RIGHT_EYE_INNER_Y\",\n",
    "    \"RIGHT_EYE_X\", \"RIGHT_EYE_Y\",\n",
    "    \"RIGHT_EYE_OUTER_X\", \"RIGHT_EYE_OUTER_Y\",\n",
    "    \"LEFT_EAR_X\", \"LEFT_EAR_Y\",\n",
    "    \"RIGHT_EAR_X\", \"RIGHT_EAR_Y\",\n",
    "    \"MOUTH_LEFT_X\", \"MOUTH_LEFT_Y\",\n",
    "    \"MOUTH_RIGHT_X\", \"MOUTH_RIGHT_Y\",\n",
    "    \"LEFT_SHOULDER_X\", \"LEFT_SHOULDER_Y\",\n",
    "    \"RIGHT_SHOULDER_X\", \"RIGHT_SHOULDER_Y\",\n",
    "    \"vitesse\"\n",
    "]\n",
    "\n",
    "list_move = [\n",
    "    \"NOSE_X\", \"NOSE_Y\",\n",
    "    \"LEFT_EAR_X\", \"LEFT_EAR_Y\",\n",
    "    \"RIGHT_EAR_X\", \"RIGHT_EAR_Y\",\n",
    "\n",
    "    \"LEFT_SHOULDER_X\", \"LEFT_SHOULDER_Y\",\n",
    "    \"RIGHT_SHOULDER_X\", \"RIGHT_SHOULDER_Y\",\n",
    "    \"LEFT_HIP_X\", \"LEFT_HIP_Y\",\n",
    "    \"RIGHT_HIP_X\", \"RIGHT_HIP_Y\",\n",
    "\n",
    "    \"LEFT_ELBOW_X\", \"LEFT_ELBOW_Y\",\n",
    "    \"RIGHT_ELBOW_X\", \"RIGHT_ELBOW_Y\",\n",
    "    \"LEFT_WRIST_X\", \"LEFT_WRIST_Y\",\n",
    "    \"RIGHT_WRIST_X\", \"RIGHT_WRIST_Y\",\n",
    "    \"LEFT_PINKY_X\", \"LEFT_PINKY_Y\",\n",
    "    \"RIGHT_PINKY_X\", \"RIGHT_PINKY_Y\",\n",
    "    \"LEFT_INDEX_X\", \"LEFT_INDEX_Y\",\n",
    "    \"RIGHT_INDEX_X\", \"RIGHT_INDEX_Y\",\n",
    "    \"LEFT_THUMB_X\", \"LEFT_THUMB_Y\",\n",
    "    \"RIGHT_THUMB_X\", \"RIGHT_THUMB_Y\",\n",
    "    \"action\"\n",
    "]\n",
    "\n",
    "df_speed_normalize_filter = filter_columns(df_speed_normalize, *list_speed)\n",
    "df_move_normalize_filter = filter_columns(df_move_normalize, *list_move)"
   ],
   "id": "661a1e806381bbc5"
  },
  {
   "metadata": {},
   "cell_type": "code",
   "outputs": [],
   "execution_count": null,
   "source": "df_speed_normalize_filter = filter_columns(df_speed_normalize, *list_speed)",
   "id": "84f1eb08f6d1a40"
  },
  {
   "metadata": {},
   "cell_type": "markdown",
   "source": "## PCA",
   "id": "9470f31c0dc73f70"
  },
  {
   "metadata": {},
   "cell_type": "code",
   "outputs": [],
   "execution_count": null,
   "source": [
    "X_speed = df_speed_normalize_filter.drop(\"vitesse\", axis=1)\n",
    "X_move = df_move_normalize_filter.drop(\"action\", axis=1)"
   ],
   "id": "12d1b10d88992885"
  },
  {
   "metadata": {},
   "cell_type": "code",
   "outputs": [],
   "execution_count": null,
   "source": [
    "from IA.exploration_data.data_viz import elbow_method\n",
    "\n",
    "elbow_method(X_speed)"
   ],
   "id": "6584fb78ae0b7292"
  },
  {
   "metadata": {},
   "cell_type": "code",
   "outputs": [],
   "execution_count": null,
   "source": "elbow_method(X_move)",
   "id": "9dee9d002f4929cf"
  }
 ],
 "metadata": {},
 "nbformat": 4,
 "nbformat_minor": 5
}
